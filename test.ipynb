{
 "cells": [
  {
   "cell_type": "markdown",
   "metadata": {},
   "source": [
    "# Subsampling examples"
   ]
  },
  {
   "cell_type": "code",
   "execution_count": 1,
   "metadata": {},
   "outputs": [],
   "source": [
    "import matplotlib.pyplot as plt\n",
    "import numpy as np\n",
    "import os"
   ]
  },
  {
   "cell_type": "code",
   "execution_count": 2,
   "metadata": {},
   "outputs": [
    {
     "data": {
      "text/plain": [
       "'/Users/brunobarbarioli/Documents/Research/OTSS'"
      ]
     },
     "execution_count": 2,
     "metadata": {},
     "output_type": "execute_result"
    }
   ],
   "source": [
    "os.getcwd()"
   ]
  },
  {
   "cell_type": "markdown",
   "metadata": {},
   "source": [
    "## 1) Stationary univariate time series"
   ]
  },
  {
   "cell_type": "code",
   "execution_count": 3,
   "metadata": {
    "scrolled": true
   },
   "outputs": [],
   "source": [
    "from stationary.univariate_stationary_subsampler import us_subsampler"
   ]
  },
  {
   "cell_type": "markdown",
   "metadata": {},
   "source": [
    "### 1.1) Generated process (Gaussian white noise)"
   ]
  },
  {
   "cell_type": "code",
   "execution_count": 4,
   "metadata": {},
   "outputs": [],
   "source": [
    "#Generating white noise\n",
    "n = 1000000\n",
    "mu = 10\n",
    "sigma = 1\n",
    "x = np.random.normal(mu, sigma, n)"
   ]
  },
  {
   "cell_type": "code",
   "execution_count": 5,
   "metadata": {},
   "outputs": [
    {
     "data": {
      "text/plain": [
       "[<matplotlib.lines.Line2D at 0x119a598d0>]"
      ]
     },
     "execution_count": 5,
     "metadata": {},
     "output_type": "execute_result"
    },
    {
     "data": {
      "image/png": "[encoded data removed]",
      "text/plain": [
       "<Figure size 432x288 with 1 Axes>"
      ]
     },
     "metadata": {
      "needs_background": "light"
     },
     "output_type": "display_data"
    }
   ],
   "source": [
    "plt.plot(x)"
   ]
  },
  {
   "cell_type": "code",
   "execution_count": 7,
   "metadata": {},
   "outputs": [],
   "source": [
    "block_size = 10\n",
    "subsample = us_subsampler(0.5,0.1,7,block_size,sample = x)"
   ]
  },
  {
   "cell_type": "code",
   "execution_count": 8,
   "metadata": {},
   "outputs": [
    {
     "name": "stdout",
     "output_type": "stream",
     "text": [
      "3\n"
     ]
    }
   ],
   "source": [
    "print(len(subsample))"
   ]
  },
  {
   "cell_type": "code",
   "execution_count": 9,
   "metadata": {},
   "outputs": [
    {
     "name": "stdout",
     "output_type": "stream",
     "text": [
      "[array([ 9.5693543 ,  9.11981324, 10.47159332,  9.65638808,  9.51708374,\n",
      "        8.97260267,  9.7994385 ,  8.88102658, 10.70915564,  9.1556956 ]), array([10.58845624,  9.2826844 ,  9.83592352,  8.46723156,  9.49350883,\n",
      "        9.82721394, 11.23575529,  9.32432462, 10.1712225 , 10.32633737]), array([ 9.32744539, 10.28516607, 11.22016726,  9.82660203, 10.82795973,\n",
      "        9.37027512, 11.04521683,  8.87879299, 11.46783379, 11.44522768])]\n"
     ]
    }
   ],
   "source": [
    "print(subsample)"
   ]
  },
  {
   "cell_type": "code",
   "execution_count": 10,
   "metadata": {},
   "outputs": [
    {
     "name": "stdout",
     "output_type": "stream",
     "text": [
      "9.93664989365721\n"
     ]
    }
   ],
   "source": [
    "print(np.mean(subsample))"
   ]
  },
  {
   "cell_type": "code",
   "execution_count": 11,
   "metadata": {},
   "outputs": [
    {
     "name": "stdout",
     "output_type": "stream",
     "text": [
      "0.8235580997369291\n"
     ]
    }
   ],
   "source": [
    "print(np.std(subsample))"
   ]
  },
  {
   "cell_type": "code",
   "execution_count": 13,
   "metadata": {},
   "outputs": [],
   "source": [
    "block_size = 10\n",
    "subsample = us_subsampler(0.1,0.1,7,block_size,sample = x)"
   ]
  },
  {
   "cell_type": "code",
   "execution_count": 14,
   "metadata": {},
   "outputs": [
    {
     "name": "stdout",
     "output_type": "stream",
     "text": [
      "11\n"
     ]
    }
   ],
   "source": [
    "print(len(subsample))"
   ]
  },
  {
   "cell_type": "code",
   "execution_count": 15,
   "metadata": {},
   "outputs": [
    {
     "name": "stdout",
     "output_type": "stream",
     "text": [
      "subsample mean:  10.134570515864675\n",
      "subsample std:  0.8020746212588122\n"
     ]
    }
   ],
   "source": [
    "print('subsample mean: ', np.mean(subsample))\n",
    "print('subsample std: ', np.std(subsample))"
   ]
  },
  {
   "cell_type": "code",
   "execution_count": 36,
   "metadata": {},
   "outputs": [],
   "source": [
    "block_size = n/100\n",
    "subsample = us_subsampler(0.05,0.1,7,block_size,sample = x)"
   ]
  },
  {
   "cell_type": "code",
   "execution_count": 37,
   "metadata": {},
   "outputs": [
    {
     "name": "stdout",
     "output_type": "stream",
     "text": [
      "sample size: 272\n",
      "subsample mean:  10.054952699352086\n",
      "subsample std:  1.041377262088284\n"
     ]
    }
   ],
   "source": [
    "print('sample size:', len(subsample))\n",
    "print('subsample mean: ', np.mean(subsample))\n",
    "print('subsample std: ', np.std(subsample))"
   ]
  },
  {
   "cell_type": "code",
   "execution_count": 42,
   "metadata": {
    "scrolled": true
   },
   "outputs": [],
   "source": [
    "block_size = 10\n",
    "subsample = us_subsampler(0.01,0.1,7,block_size,sample = x)"
   ]
  },
  {
   "cell_type": "code",
   "execution_count": 48,
   "metadata": {},
   "outputs": [
    {
     "name": "stdout",
     "output_type": "stream",
     "text": [
      "sample size: 2185\n",
      "subsample mean:  10.004111277800597\n",
      "subsample std:  1.0006045244172528\n"
     ]
    }
   ],
   "source": [
    "print('sample size:', len(subsample))\n",
    "print('subsample mean: ', np.mean(subsample))\n",
    "print('subsample std: ', np.std(subsample))"
   ]
  },
  {
   "cell_type": "code",
   "execution_count": null,
   "metadata": {},
   "outputs": [],
   "source": [
    "subsample = us_subsampler(0.01,0.1,7,10,x)"
   ]
  },
  {
   "cell_type": "code",
   "execution_count": 6,
   "metadata": {},
   "outputs": [
    {
     "name": "stdout",
     "output_type": "stream",
     "text": [
      "sample size: 2296\n",
      "subsample mean:  9.990669551382327\n",
      "subsample std:  1.0059337918330062\n"
     ]
    }
   ],
   "source": [
    "print('sample size:', len(subsample))\n",
    "print('subsample mean: ', np.mean(subsample))\n",
    "print('subsample std: ', np.std(subsample))"
   ]
  },
  {
   "cell_type": "code",
   "execution_count": null,
   "metadata": {},
   "outputs": [],
   "source": [
    "subsample = us_subsampler(0.005,0.1,7,10,x)"
   ]
  },
  {
   "cell_type": "code",
   "execution_count": 8,
   "metadata": {},
   "outputs": [
    {
     "name": "stdout",
     "output_type": "stream",
     "text": [
      "sample size: 6443\n",
      "subsample mean:  10.005570939610735\n",
      "subsample std:  0.9973280307596822\n"
     ]
    }
   ],
   "source": [
    "print('sample size:', len(subsample))\n",
    "print('subsample mean: ', np.mean(subsample))\n",
    "print('subsample std: ', np.std(subsample))"
   ]
  },
  {
   "cell_type": "code",
   "execution_count": 7,
   "metadata": {},
   "outputs": [
    {
     "name": "stderr",
     "output_type": "stream",
     "text": [
      "/Users/brunobarbarioli/Documents/Research/OTSS/stationary/univariate_stationary_subsampler.py:39: RuntimeWarning: invalid value encountered in sqrt\n",
      "  ct = np.std(values) * np.sqrt(2 * x / t) + 3 * variable_range * x / t\n"
     ]
    },
    {
     "name": "stdout",
     "output_type": "stream",
     "text": [
      "sample size:  10\n",
      "sample size:  20\n",
      "sample size:  30\n",
      "sample size:  40\n",
      "sample size:  50\n",
      "sample size:  60\n",
      "sample size:  70\n",
      "sample size:  80\n",
      "sample size:  90\n",
      "sample size:  100\n",
      "sample size:  110\n",
      "sample size:  120\n",
      "sample size:  130\n",
      "sample size:  140\n",
      "sample size:  150\n",
      "sample size:  160\n",
      "sample size:  170\n",
      "sample size:  180\n",
      "sample size:  190\n",
      "sample size:  200\n",
      "sample size:  210\n",
      "sample size:  220\n",
      "sample size:  230\n",
      "sample size:  240\n",
      "sample size:  250\n",
      "sample size:  260\n",
      "sample size:  270\n",
      "sample size:  280\n",
      "sample size:  290\n",
      "sample size:  300\n",
      "sample size:  310\n",
      "sample size:  320\n",
      "sample size:  330\n",
      "sample size:  340\n",
      "sample size:  350\n",
      "sample size:  360\n",
      "sample size:  370\n",
      "sample size:  380\n",
      "sample size:  390\n",
      "sample size:  400\n",
      "sample size:  410\n",
      "sample size:  420\n",
      "sample size:  430\n",
      "sample size:  440\n",
      "sample size:  450\n",
      "sample size:  460\n",
      "sample size:  470\n",
      "sample size:  480\n",
      "sample size:  490\n",
      "sample size:  500\n",
      "sample size:  510\n",
      "sample size:  520\n",
      "sample size:  530\n",
      "sample size:  540\n",
      "sample size:  550\n",
      "sample size:  560\n",
      "sample size:  570\n",
      "sample size:  580\n",
      "sample size:  590\n",
      "sample size:  600\n",
      "sample size:  610\n",
      "sample size:  620\n",
      "sample size:  630\n",
      "sample size:  640\n",
      "sample size:  650\n",
      "sample size:  660\n",
      "sample size:  670\n",
      "sample size:  680\n",
      "sample size:  690\n",
      "sample size:  700\n",
      "sample size:  710\n",
      "sample size:  720\n",
      "sample size:  730\n",
      "sample size:  740\n",
      "sample size:  750\n",
      "sample size:  760\n",
      "sample size:  770\n",
      "sample size:  780\n",
      "sample size:  790\n",
      "sample size:  800\n",
      "sample size:  810\n",
      "sample size:  820\n",
      "sample size:  830\n",
      "sample size:  840\n",
      "sample size:  850\n",
      "sample size:  860\n",
      "sample size:  870\n",
      "sample size:  880\n",
      "sample size:  890\n",
      "sample size:  900\n",
      "sample size:  910\n",
      "sample size:  920\n",
      "sample size:  930\n",
      "sample size:  940\n",
      "sample size:  950\n",
      "sample size:  960\n",
      "sample size:  970\n",
      "sample size:  980\n",
      "sample size:  990\n",
      "sample size:  1000\n",
      "sample size:  1010\n",
      "sample size:  1020\n",
      "sample size:  1030\n",
      "sample size:  1040\n",
      "sample size:  1050\n",
      "sample size:  1060\n",
      "sample size:  1070\n",
      "sample size:  1080\n",
      "sample size:  1090\n",
      "sample size:  1100\n",
      "sample size:  1110\n",
      "sample size:  1120\n",
      "sample size:  1130\n",
      "sample size:  1140\n",
      "sample size:  1150\n",
      "sample size:  1160\n",
      "sample size:  1170\n",
      "sample size:  1180\n",
      "sample size:  1190\n",
      "sample size:  1200\n",
      "sample size:  1210\n",
      "sample size:  1220\n",
      "sample size:  1230\n",
      "sample size:  1240\n",
      "sample size:  1250\n",
      "sample size:  1260\n",
      "sample size:  1270\n",
      "sample size:  1280\n",
      "sample size:  1290\n",
      "sample size:  1300\n",
      "sample size:  1310\n",
      "sample size:  1320\n",
      "sample size:  1330\n",
      "sample size:  1340\n",
      "sample size:  1350\n",
      "sample size:  1360\n",
      "sample size:  1370\n",
      "sample size:  1380\n",
      "sample size:  1390\n",
      "sample size:  1400\n",
      "sample size:  1410\n",
      "sample size:  1420\n",
      "sample size:  1430\n",
      "sample size:  1440\n",
      "sample size:  1450\n",
      "sample size:  1460\n",
      "sample size:  1470\n",
      "sample size:  1480\n",
      "sample size:  1490\n",
      "sample size:  1500\n",
      "sample size:  1510\n",
      "sample size:  1520\n",
      "sample size:  1530\n",
      "sample size:  1540\n",
      "sample size:  1550\n",
      "sample size:  1560\n",
      "sample size:  1570\n",
      "sample size:  1580\n",
      "sample size:  1590\n",
      "sample size:  1600\n",
      "sample size:  1610\n",
      "sample size:  1620\n",
      "sample size:  1630\n",
      "sample size:  1640\n",
      "sample size:  1650\n",
      "sample size:  1660\n",
      "sample size:  1670\n",
      "sample size:  1680\n",
      "sample size:  1690\n",
      "sample size:  1700\n",
      "sample size:  1710\n",
      "sample size:  1720\n",
      "sample size:  1730\n",
      "sample size:  1740\n",
      "sample size:  1750\n",
      "sample size:  1760\n",
      "sample size:  1770\n",
      "sample size:  1780\n",
      "sample size:  1790\n",
      "sample size:  1800\n",
      "sample size:  1810\n",
      "sample size:  1820\n",
      "sample size:  1830\n",
      "sample size:  1840\n",
      "sample size:  1850\n",
      "sample size:  1860\n",
      "sample size:  1870\n",
      "sample size:  1880\n",
      "sample size:  1890\n",
      "sample size:  1900\n",
      "sample size:  1910\n",
      "sample size:  1920\n",
      "sample size:  1930\n",
      "sample size:  1940\n",
      "sample size:  1950\n",
      "sample size:  1960\n",
      "sample size:  1970\n",
      "sample size:  1980\n",
      "sample size:  1990\n",
      "sample size:  2000\n",
      "sample size:  2010\n",
      "sample size:  2020\n",
      "sample size:  2030\n",
      "sample size:  2040\n",
      "sample size:  2050\n",
      "sample size:  2060\n",
      "sample size:  2070\n",
      "sample size:  2080\n",
      "sample size:  2090\n",
      "sample size:  2100\n",
      "sample size:  2110\n",
      "sample size:  2120\n",
      "sample size:  2130\n",
      "sample size:  2140\n",
      "sample size:  2150\n",
      "sample size:  2160\n",
      "sample size:  2170\n",
      "sample size:  2180\n",
      "sample size:  2190\n",
      "sample size:  2200\n",
      "sample size:  2210\n",
      "sample size:  2220\n",
      "sample size:  2230\n",
      "sample size:  2240\n",
      "sample size:  2250\n",
      "sample size:  2260\n",
      "sample size:  2270\n",
      "sample size:  2280\n",
      "sample size:  2290\n",
      "sample size:  2300\n",
      "sample size:  2310\n",
      "sample size:  2320\n",
      "sample size:  2330\n",
      "sample size:  2340\n",
      "sample size:  2350\n",
      "sample size:  2360\n",
      "sample size:  2370\n",
      "sample size:  2380\n",
      "sample size:  2390\n",
      "sample size:  2400\n",
      "sample size:  2410\n",
      "sample size:  2420\n",
      "sample size:  2430\n",
      "sample size:  2440\n",
      "sample size:  2450\n",
      "sample size:  2460\n",
      "sample size:  2470\n",
      "sample size:  2480\n",
      "sample size:  2490\n",
      "sample size:  2500\n",
      "sample size:  2510\n",
      "sample size:  2520\n",
      "sample size:  2530\n",
      "sample size:  2540\n",
      "sample size:  2550\n",
      "sample size:  2560\n",
      "sample size:  2570\n",
      "sample size:  2580\n",
      "sample size:  2590\n",
      "sample size:  2600\n",
      "sample size:  2610\n",
      "sample size:  2620\n",
      "sample size:  2630\n",
      "sample size:  2640\n",
      "sample size:  2650\n",
      "sample size:  2660\n",
      "sample size:  2670\n",
      "sample size:  2680\n",
      "sample size:  2690\n",
      "sample size:  2700\n",
      "sample size:  2710\n",
      "sample size:  2720\n",
      "sample size:  2730\n",
      "sample size:  2740\n",
      "sample size:  2750\n",
      "sample size:  2760\n",
      "sample size:  2770\n",
      "sample size:  2780\n",
      "sample size:  2790\n",
      "sample size:  2800\n",
      "sample size:  2810\n",
      "sample size:  2820\n",
      "sample size:  2830\n",
      "sample size:  2840\n",
      "sample size:  2850\n",
      "sample size:  2860\n",
      "sample size:  2870\n",
      "sample size:  2880\n",
      "sample size:  2890\n",
      "sample size:  2900\n",
      "sample size:  2910\n",
      "sample size:  2920\n",
      "sample size:  2930\n",
      "sample size:  2940\n",
      "sample size:  2950\n",
      "sample size:  2960\n",
      "sample size:  2970\n",
      "sample size:  2980\n",
      "sample size:  2990\n",
      "sample size:  3000\n",
      "sample size:  3010\n",
      "sample size:  3020\n",
      "sample size:  3030\n",
      "sample size:  3040\n",
      "sample size:  3050\n",
      "sample size:  3060\n",
      "sample size:  3070\n",
      "sample size:  3080\n",
      "sample size:  3090\n",
      "sample size:  3100\n",
      "sample size:  3110\n",
      "sample size:  3120\n",
      "sample size:  3130\n",
      "sample size:  3140\n",
      "sample size:  3150\n",
      "sample size:  3160\n",
      "sample size:  3170\n",
      "sample size:  3180\n",
      "sample size:  3190\n",
      "sample size:  3200\n",
      "sample size:  3210\n",
      "sample size:  3220\n",
      "sample size:  3230\n",
      "sample size:  3240\n",
      "sample size:  3250\n",
      "sample size:  3260\n",
      "sample size:  3270\n",
      "sample size:  3280\n",
      "sample size:  3290\n",
      "sample size:  3300\n",
      "sample size:  3310\n",
      "sample size:  3320\n",
      "sample size:  3330\n",
      "sample size:  3340\n",
      "sample size:  3350\n",
      "sample size:  3360\n",
      "sample size:  3370\n",
      "sample size:  3380\n",
      "sample size:  3390\n",
      "sample size:  3400\n",
      "sample size:  3410\n",
      "sample size:  3420\n",
      "sample size:  3430\n",
      "sample size:  3440\n",
      "sample size:  3450\n",
      "sample size:  3460\n",
      "sample size:  3470\n",
      "sample size:  3480\n",
      "sample size:  3490\n",
      "sample size:  3500\n",
      "sample size:  3510\n",
      "sample size:  3520\n",
      "sample size:  3530\n",
      "sample size:  3540\n",
      "sample size:  3550\n",
      "sample size:  3560\n",
      "sample size:  3570\n",
      "sample size:  3580\n",
      "sample size:  3590\n",
      "sample size:  3600\n",
      "sample size:  3610\n",
      "sample size:  3620\n",
      "sample size:  3630\n",
      "sample size:  3640\n",
      "sample size:  3650\n",
      "sample size:  3660\n",
      "sample size:  3670\n",
      "sample size:  3680\n",
      "sample size:  3690\n",
      "sample size:  3700\n",
      "sample size:  3710\n",
      "sample size:  3720\n",
      "sample size:  3730\n",
      "sample size:  3740\n",
      "sample size:  3750\n",
      "sample size:  3760\n",
      "sample size:  3770\n",
      "sample size:  3780\n",
      "sample size:  3790\n",
      "sample size:  3800\n",
      "sample size:  3810\n",
      "sample size:  3820\n",
      "sample size:  3830\n",
      "sample size:  3840\n",
      "sample size:  3850\n",
      "sample size:  3860\n",
      "sample size:  3870\n",
      "sample size:  3880\n",
      "sample size:  3890\n",
      "sample size:  3900\n",
      "sample size:  3910\n",
      "sample size:  3920\n",
      "sample size:  3930\n",
      "sample size:  3940\n",
      "sample size:  3950\n",
      "sample size:  3960\n",
      "sample size:  3970\n",
      "sample size:  3980\n",
      "sample size:  3990\n",
      "sample size:  4000\n",
      "sample size:  4010\n",
      "sample size:  4020\n",
      "sample size:  4030\n",
      "sample size:  4040\n",
      "sample size:  4050\n",
      "sample size:  4060\n",
      "sample size:  4070\n",
      "sample size:  4080\n",
      "sample size:  4090\n",
      "sample size:  4100\n",
      "sample size:  4110\n",
      "sample size:  4120\n",
      "sample size:  4130\n",
      "sample size:  4140\n",
      "sample size:  4150\n",
      "sample size:  4160\n",
      "sample size:  4170\n",
      "sample size:  4180\n",
      "sample size:  4190\n",
      "sample size:  4200\n",
      "sample size:  4210\n",
      "sample size:  4220\n",
      "sample size:  4230\n",
      "sample size:  4240\n",
      "sample size:  4250\n",
      "sample size:  4260\n",
      "sample size:  4270\n",
      "sample size:  4280\n",
      "sample size:  4290\n",
      "sample size:  4300\n",
      "sample size:  4310\n",
      "sample size:  4320\n",
      "sample size:  4330\n",
      "sample size:  4340\n",
      "sample size:  4350\n",
      "sample size:  4360\n",
      "sample size:  4370\n",
      "sample size:  4380\n"
     ]
    },
    {
     "name": "stdout",
     "output_type": "stream",
     "text": [
      "sample size:  4390\n",
      "sample size:  4400\n",
      "sample size:  4410\n",
      "sample size:  4420\n",
      "sample size:  4430\n",
      "sample size:  4440\n",
      "sample size:  4450\n",
      "sample size:  4460\n",
      "sample size:  4470\n",
      "sample size:  4480\n",
      "sample size:  4490\n",
      "sample size:  4500\n",
      "sample size:  4510\n",
      "sample size:  4520\n",
      "sample size:  4530\n",
      "sample size:  4540\n",
      "sample size:  4550\n",
      "sample size:  4560\n",
      "sample size:  4570\n",
      "sample size:  4580\n",
      "sample size:  4590\n",
      "sample size:  4600\n",
      "sample size:  4610\n",
      "sample size:  4620\n",
      "sample size:  4630\n",
      "sample size:  4640\n",
      "sample size:  4650\n",
      "sample size:  4660\n",
      "sample size:  4670\n",
      "sample size:  4680\n",
      "sample size:  4690\n",
      "sample size:  4700\n",
      "sample size:  4710\n",
      "sample size:  4720\n",
      "sample size:  4730\n",
      "sample size:  4740\n",
      "sample size:  4750\n",
      "sample size:  4760\n",
      "sample size:  4770\n",
      "sample size:  4780\n",
      "sample size:  4790\n",
      "sample size:  4800\n",
      "sample size:  4810\n",
      "sample size:  4820\n",
      "sample size:  4830\n",
      "sample size:  4840\n",
      "sample size:  4850\n",
      "sample size:  4860\n",
      "sample size:  4870\n",
      "sample size:  4880\n",
      "sample size:  4890\n",
      "sample size:  4900\n",
      "sample size:  4910\n",
      "sample size:  4920\n",
      "sample size:  4930\n",
      "sample size:  4940\n",
      "sample size:  4950\n",
      "sample size:  4960\n",
      "sample size:  4970\n",
      "sample size:  4980\n",
      "sample size:  4990\n",
      "sample size:  5000\n",
      "sample size:  5010\n",
      "sample size:  5020\n",
      "sample size:  5030\n",
      "sample size:  5040\n",
      "sample size:  5050\n",
      "sample size:  5060\n",
      "sample size:  5070\n",
      "sample size:  5080\n",
      "sample size:  5090\n",
      "sample size:  5100\n",
      "sample size:  5110\n",
      "sample size:  5120\n",
      "sample size:  5130\n",
      "sample size:  5140\n",
      "sample size:  5150\n",
      "sample size:  5160\n",
      "sample size:  5170\n",
      "sample size:  5180\n",
      "sample size:  5190\n",
      "sample size:  5200\n",
      "sample size:  5210\n",
      "sample size:  5220\n",
      "sample size:  5230\n",
      "sample size:  5240\n",
      "sample size:  5250\n",
      "sample size:  5260\n",
      "sample size:  5270\n",
      "sample size:  5280\n",
      "sample size:  5290\n",
      "sample size:  5300\n",
      "sample size:  5310\n",
      "sample size:  5320\n",
      "sample size:  5330\n",
      "sample size:  5340\n",
      "sample size:  5350\n",
      "sample size:  5360\n",
      "sample size:  5370\n",
      "sample size:  5380\n",
      "sample size:  5390\n",
      "sample size:  5400\n",
      "sample size:  5410\n",
      "sample size:  5420\n",
      "sample size:  5430\n",
      "sample size:  5440\n",
      "sample size:  5450\n",
      "sample size:  5460\n",
      "sample size:  5470\n",
      "sample size:  5480\n",
      "sample size:  5490\n",
      "sample size:  5500\n",
      "sample size:  5510\n",
      "sample size:  5520\n",
      "sample size:  5530\n",
      "sample size:  5540\n",
      "sample size:  5550\n",
      "sample size:  5560\n",
      "sample size:  5570\n",
      "sample size:  5580\n",
      "sample size:  5590\n",
      "sample size:  5600\n",
      "sample size:  5610\n",
      "sample size:  5620\n",
      "sample size:  5630\n",
      "sample size:  5640\n",
      "sample size:  5650\n",
      "sample size:  5660\n",
      "sample size:  5670\n",
      "sample size:  5680\n",
      "sample size:  5690\n",
      "sample size:  5700\n",
      "sample size:  5710\n",
      "sample size:  5720\n",
      "sample size:  5730\n",
      "sample size:  5740\n",
      "sample size:  5750\n",
      "sample size:  5760\n",
      "sample size:  5770\n",
      "sample size:  5780\n",
      "sample size:  5790\n",
      "sample size:  5800\n",
      "sample size:  5810\n",
      "sample size:  5820\n",
      "sample size:  5830\n",
      "sample size:  5840\n",
      "sample size:  5850\n",
      "sample size:  5860\n",
      "sample size:  5870\n",
      "sample size:  5880\n",
      "sample size:  5890\n",
      "sample size:  5900\n",
      "sample size:  5910\n",
      "sample size:  5920\n",
      "sample size:  5930\n",
      "sample size:  5940\n",
      "sample size:  5950\n",
      "sample size:  5960\n",
      "sample size:  5970\n",
      "sample size:  5980\n",
      "sample size:  5990\n",
      "sample size:  6000\n",
      "sample size:  6010\n",
      "sample size:  6020\n",
      "sample size:  6030\n",
      "sample size:  6040\n",
      "sample size:  6050\n",
      "sample size:  6060\n",
      "sample size:  6070\n",
      "sample size:  6080\n",
      "sample size:  6090\n",
      "sample size:  6100\n",
      "sample size:  6110\n",
      "sample size:  6120\n",
      "sample size:  6130\n",
      "sample size:  6140\n",
      "sample size:  6150\n",
      "sample size:  6160\n",
      "sample size:  6170\n",
      "sample size:  6180\n",
      "sample size:  6190\n",
      "sample size:  6200\n",
      "sample size:  6210\n",
      "sample size:  6220\n",
      "sample size:  6230\n",
      "sample size:  6240\n",
      "sample size:  6250\n",
      "sample size:  6260\n",
      "sample size:  6270\n",
      "sample size:  6280\n",
      "sample size:  6290\n",
      "sample size:  6300\n",
      "sample size:  6310\n",
      "sample size:  6320\n",
      "sample size:  6330\n",
      "sample size:  6340\n",
      "sample size:  6350\n",
      "sample size:  6360\n",
      "sample size:  6370\n",
      "sample size:  6380\n",
      "sample size:  6390\n",
      "sample size:  6400\n",
      "sample size:  6410\n",
      "sample size:  6420\n",
      "sample size:  6430\n",
      "sample size:  6440\n",
      "sample size:  6450\n",
      "sample size:  6460\n",
      "sample size:  6470\n"
     ]
    }
   ],
   "source": [
    "subsample = us_subsampler(0.005,0.1,7,10,x)"
   ]
  },
  {
   "cell_type": "markdown",
   "metadata": {},
   "source": [
    "### 1.2) Real process (description)"
   ]
  },
  {
   "cell_type": "code",
   "execution_count": null,
   "metadata": {},
   "outputs": [],
   "source": []
  },
  {
   "cell_type": "markdown",
   "metadata": {},
   "source": [
    "## 2) Nonstationary univariate time series"
   ]
  },
  {
   "cell_type": "code",
   "execution_count": null,
   "metadata": {},
   "outputs": [],
   "source": [
    "from univariate_nonstationary_subsampler import subsampler"
   ]
  },
  {
   "cell_type": "markdown",
   "metadata": {},
   "source": [
    "### 2.1) Generated process (Gaussian white noise with trend)\n"
   ]
  },
  {
   "cell_type": "code",
   "execution_count": 3,
   "metadata": {},
   "outputs": [],
   "source": [
    "#Generating white noise\n",
    "n = 10000\n",
    "mu = 0\n",
    "sigma = 1\n",
    "x = np.random.normal(mu, sigma, n)\n",
    "\n",
    "#Generating time-series\n",
    "t = np.array(range(n))/1000\n",
    "y = t + x"
   ]
  },
  {
   "cell_type": "code",
   "execution_count": 4,
   "metadata": {},
   "outputs": [
    {
     "data": {
      "text/plain": [
       "[<matplotlib.lines.Line2D at 0x11dacce10>]"
      ]
     },
     "execution_count": 4,
     "metadata": {},
     "output_type": "execute_result"
    },
    {
     "data": {
      "image/png": "[encoded data removed]",
      "text/plain": [
       "<Figure size 432x288 with 1 Axes>"
      ]
     },
     "metadata": {
      "needs_background": "light"
     },
     "output_type": "display_data"
    }
   ],
   "source": [
    "plt.plot(y)"
   ]
  },
  {
   "cell_type": "code",
   "execution_count": null,
   "metadata": {},
   "outputs": [],
   "source": []
  },
  {
   "cell_type": "markdown",
   "metadata": {},
   "source": [
    "### 2.2) Real process (description)"
   ]
  },
  {
   "cell_type": "code",
   "execution_count": null,
   "metadata": {},
   "outputs": [],
   "source": []
  },
  {
   "cell_type": "markdown",
   "metadata": {},
   "source": [
    "## 3) Stationary multivariate time series"
   ]
  },
  {
   "cell_type": "code",
   "execution_count": 5,
   "metadata": {},
   "outputs": [],
   "source": [
    "from mpl_toolkits.mplot3d import Axes3D\n",
    "from matplotlib import cm\n",
    "from matplotlib.ticker import LinearLocator, FormatStrFormatter"
   ]
  },
  {
   "cell_type": "code",
   "execution_count": 6,
   "metadata": {},
   "outputs": [],
   "source": [
    "from stationary.multivariate_stationary_subsampler import ms_subsampler"
   ]
  },
  {
   "cell_type": "code",
   "execution_count": 7,
   "metadata": {},
   "outputs": [
    {
     "name": "stdout",
     "output_type": "stream",
     "text": [
      "[ 8.78004833  9.26898378  8.44016619 ... 10.3767644  10.36999665\n",
      " 11.19859743]\n",
      "[10.74882085 10.63096636  9.10654935 ... 10.49699345  7.73088356\n",
      " 10.56533931]\n",
      "[[ 8.78004833 10.74882085]\n",
      " [ 9.26898378 10.63096636]\n",
      " [ 8.44016619  9.10654935]\n",
      " ...\n",
      " [10.3767644  10.49699345]\n",
      " [10.36999665  7.73088356]\n",
      " [11.19859743 10.56533931]]\n"
     ]
    }
   ],
   "source": [
    "#Generating white noise\n",
    "n = 1000000\n",
    "mu_1 = 10\n",
    "sigma_1 = 1\n",
    "mu_2 = 10\n",
    "sigma_2 = 1\n",
    "x_1 = np.random.normal(mu_1, sigma_1, n)\n",
    "print(x_1)\n",
    "x_2 = np.random.normal(mu_2, sigma_2, n)\n",
    "print(x_2)\n",
    "x = np.vstack((x_1,x_2)).T\n",
    "print(x)"
   ]
  },
  {
   "cell_type": "code",
   "execution_count": 6,
   "metadata": {},
   "outputs": [
    {
     "data": {
      "text/plain": [
       "array([[8.73802631, 9.0399025 ]])"
      ]
     },
     "execution_count": 6,
     "metadata": {},
     "output_type": "execute_result"
    }
   ],
   "source": [
    "x[2:3]"
   ]
  },
  {
   "cell_type": "code",
   "execution_count": 11,
   "metadata": {},
   "outputs": [
    {
     "name": "stdout",
     "output_type": "stream",
     "text": [
      "number of samples:  400\n",
      "lower bound:  [-1.e+09 -1.e+09]\n",
      "upper bound:  [1.e+09 1.e+09]\n",
      "convergence criteria:  [-1.1e+09 -1.1e+09] [9.e+08 9.e+08]\n",
      "number of samples:  600\n",
      "lower bound:  [9.32413761 9.38822093]\n",
      "upper bound:  [1.e+09 1.e+09]\n",
      "convergence criteria:  [10.25655137 10.32704303] [9.50823168 9.59195303]\n"
     ]
    }
   ],
   "source": [
    "block_size = 100\n",
    "subsample = ms_subsampler(0.1,0.2,2,7,block_size,sample = x)"
   ]
  },
  {
   "cell_type": "code",
   "execution_count": 12,
   "metadata": {},
   "outputs": [
    {
     "data": {
      "text/plain": [
       "600"
      ]
     },
     "execution_count": 12,
     "metadata": {},
     "output_type": "execute_result"
    }
   ],
   "source": [
    "subsample.size"
   ]
  },
  {
   "cell_type": "code",
   "execution_count": 13,
   "metadata": {},
   "outputs": [
    {
     "name": "stdout",
     "output_type": "stream",
     "text": [
      "number of samples:  400\n",
      "lower bound:  [-1.e+09 -1.e+09]\n",
      "upper bound:  [1.e+09 1.e+09]\n",
      "convergence criteria:  [-1.05e+09 -1.05e+09] [9.5e+08 9.5e+08]\n",
      "number of samples:  600\n",
      "lower bound:  [9.39688409 9.42443644]\n",
      "upper bound:  [1.e+09 1.e+09]\n",
      "convergence criteria:  [9.86672829 9.89565826] [10.11618016 10.12699122]\n",
      "number of samples:  800\n",
      "lower bound:  [9.60083507 9.68532589]\n",
      "upper bound:  [10.64861069 10.65999076]\n",
      "convergence criteria:  [10.08087683 10.16959219] [9.83458753 9.90346377]\n"
     ]
    }
   ],
   "source": [
    "block_size = 100\n",
    "subsample = ms_subsampler(0.05,0.2,2,7,block_size,sample = x)"
   ]
  },
  {
   "cell_type": "code",
   "execution_count": 14,
   "metadata": {},
   "outputs": [
    {
     "data": {
      "text/plain": [
       "800"
      ]
     },
     "execution_count": 14,
     "metadata": {},
     "output_type": "execute_result"
    }
   ],
   "source": [
    "subsample.size"
   ]
  },
  {
   "cell_type": "code",
   "execution_count": 15,
   "metadata": {},
   "outputs": [
    {
     "name": "stdout",
     "output_type": "stream",
     "text": [
      "number of samples:  400\n",
      "lower bound:  [-1.e+09 -1.e+09]\n",
      "upper bound:  [1.e+09 1.e+09]\n",
      "convergence criteria:  [-1.01e+09 -1.01e+09] [9.9e+08 9.9e+08]\n",
      "number of samples:  600\n",
      "lower bound:  [9.31319757 9.41124506]\n",
      "upper bound:  [1.e+09 1.e+09]\n",
      "convergence criteria:  [9.40632955 9.50535751] [10.48864269 10.5998286 ]\n",
      "number of samples:  800\n",
      "lower bound:  [9.56451466 9.61746531]\n",
      "upper bound:  [10.59458857 10.70689757]\n",
      "convergence criteria:  [9.66015981 9.71363996] [10.23377169 10.28775491]\n",
      "number of samples:  1000\n",
      "lower bound:  [9.59807997 9.66074955]\n",
      "upper bound:  [10.33714312 10.39167163]\n",
      "convergence criteria:  [9.69406077 9.75735705] [10.18354506 10.24678251]\n",
      "number of samples:  1200\n",
      "lower bound:  [9.691737   9.75220496]\n",
      "upper bound:  [10.28640915 10.35028536]\n",
      "convergence criteria:  [9.78865437 9.84972701] [10.10164863 10.16095276]\n",
      "number of samples:  1400\n",
      "lower bound:  [9.71137057 9.77688731]\n",
      "upper bound:  [10.20368549 10.26358864]\n",
      "convergence criteria:  [9.80848428 9.87465618] [10.09745204 10.16095276]\n",
      "number of samples:  1600\n",
      "lower bound:  [9.7698029  9.80954657]\n",
      "upper bound:  [10.19944651 10.26358864]\n",
      "convergence criteria:  [9.86750093 9.90764203] [10.09745204 10.14383509]\n",
      "number of samples:  1800\n",
      "lower bound:  [9.78104504 9.8296078 ]\n",
      "upper bound:  [10.19944651 10.24629807]\n",
      "convergence criteria:  [9.87885549 9.92790388] [10.06099416 10.11245149]\n",
      "number of samples:  2000\n",
      "lower bound:  [9.78867081 9.83669474]\n",
      "upper bound:  [10.16262037 10.21459747]\n",
      "convergence criteria:  [9.88655751 9.93506168] [10.04658218 10.09662412]\n",
      "number of samples:  2200\n",
      "lower bound:  [9.80422949 9.84272903]\n",
      "upper bound:  [10.1480628  10.19861022]\n",
      "convergence criteria:  [9.90227179 9.94115632] [10.03376437 10.07439029]\n",
      "number of samples:  2400\n",
      "lower bound:  [9.81967425 9.84272903]\n",
      "upper bound:  [10.13511553 10.17615181]\n",
      "convergence criteria:  [9.91787099 9.94115632] [10.02977602 10.05319621]\n",
      "number of samples:  2600\n",
      "lower bound:  [9.83182027 9.84564016]\n",
      "upper bound:  [10.13108689 10.15474364]\n",
      "convergence criteria:  [9.93013847 9.94409656] [10.0212748  10.03926828]\n",
      "number of samples:  2800\n",
      "lower bound:  [9.83835678 9.84949127]\n",
      "upper bound:  [10.1224998  10.14067503]\n",
      "convergence criteria:  [9.93674035 9.94798618] [10.01296244 10.02718019]\n",
      "number of samples:  3000\n",
      "lower bound:  [9.84249727 9.85727691]\n",
      "upper bound:  [10.11410348 10.12846484]\n",
      "convergence criteria:  [9.94092224 9.95584968] [10.00344802 10.02116555]\n",
      "number of samples:  3200\n",
      "lower bound:  [9.84662275 9.8613655 ]\n",
      "upper bound:  [10.10449295 10.12238945]\n",
      "convergence criteria:  [9.94508898 9.95997915] [ 9.99610539 10.01361202]\n",
      "number of samples:  3400\n",
      "lower bound:  [9.8512994  9.88124979]\n",
      "upper bound:  [10.09707616 10.11475961]\n",
      "convergence criteria:  [9.9498124  9.98006229] [ 9.98989406 10.01361202]\n",
      "number of samples:  3600\n",
      "lower bound:  [9.86115868 9.88918363]\n",
      "upper bound:  [10.09080208 10.11475961]\n",
      "convergence criteria:  [9.95977027 9.98807547] [ 9.98989406 10.01361202]\n",
      "number of samples:  3800\n",
      "lower bound:  [9.87752947 9.88918363]\n",
      "upper bound:  [10.09080208 10.11475961]\n",
      "convergence criteria:  [9.97630477 9.98807547] [ 9.98989406 10.00903727]\n",
      "number of samples:  4000\n",
      "lower bound:  [9.87833175 9.89298395]\n",
      "upper bound:  [10.09080208 10.11013866]\n",
      "convergence criteria:  [9.97711507 9.99191378] [ 9.98989406 10.00903727]\n",
      "number of samples:  4200\n",
      "lower bound:  [9.88656181 9.89314993]\n",
      "upper bound:  [10.09080208 10.11013866]\n",
      "convergence criteria:  [9.98542743 9.99208143] [ 9.98989406 10.00171487]\n",
      "number of samples:  4400\n",
      "lower bound:  [9.89895611 9.89949932]\n",
      "upper bound:  [10.09080208 10.1027423 ]\n",
      "convergence criteria:  [9.99794567 9.99849431] [ 9.98989406 10.00105818]\n"
     ]
    }
   ],
   "source": [
    "block_size = 100\n",
    "subsample = ms_subsampler(0.01,0.2,2,7,block_size,sample = x)"
   ]
  },
  {
   "cell_type": "code",
   "execution_count": 16,
   "metadata": {},
   "outputs": [
    {
     "data": {
      "text/plain": [
       "4400"
      ]
     },
     "execution_count": 16,
     "metadata": {},
     "output_type": "execute_result"
    }
   ],
   "source": [
    "subsample.size"
   ]
  },
  {
   "cell_type": "markdown",
   "metadata": {},
   "source": [
    "## 4) Nonstationary multivariate time series"
   ]
  },
  {
   "cell_type": "code",
   "execution_count": null,
   "metadata": {},
   "outputs": [],
   "source": []
  },
  {
   "cell_type": "markdown",
   "metadata": {},
   "source": [
    "## CUMSUM "
   ]
  },
  {
   "cell_type": "code",
   "execution_count": 1,
   "metadata": {},
   "outputs": [],
   "source": [
    "import numpy as np\n",
    "import pandas as pd"
   ]
  },
  {
   "cell_type": "code",
   "execution_count": 2,
   "metadata": {},
   "outputs": [],
   "source": [
    "def cusum(x,mean=0,K=0):\n",
    "    \"\"\"Tabular CUSUM per Montgomery,D. 1996 \"Introduction to Statistical Process Control\" p318 \n",
    "    x    : series to analyze\n",
    "    mean : expected process mean\n",
    "    K    : reference value, allowance, slack value-- suggest K=1/2 of the shift to be detected.\n",
    "\n",
    "    Returns:\n",
    "    x  Original series\n",
    "    Cp positive CUSUM\n",
    "    Cm negative CUSUM\n",
    "    \"\"\"\n",
    "    Cp=(x*0).copy()\n",
    "    Cm=Cp.copy()\n",
    "    for ii in np.arange(len(x)):\n",
    "        if ii == 0:\n",
    "            Cp[ii]=x[ii]\n",
    "            Cm[ii]=x[ii]\n",
    "        else:\n",
    "            Cp[ii]=np.max([0,x[ii]-(mean+K)+Cp[ii-1]])\n",
    "            Cm[ii]=np.max([0,(mean-K)-x[ii]+Cm[ii-1]])\n",
    "    return({'x':x, 'Cp': Cp, 'Cm': Cm})"
   ]
  },
  {
   "cell_type": "code",
   "execution_count": 3,
   "metadata": {
    "scrolled": false
   },
   "outputs": [
    {
     "data": {
      "text/plain": [
       "<matplotlib.axes._subplots.AxesSubplot at 0x11d3ee050>"
      ]
     },
     "execution_count": 3,
     "metadata": {},
     "output_type": "execute_result"
    },
    {
     "data": {
      "image/png": "[encoded data removed]",
      "text/plain": [
       "<Figure size 432x288 with 1 Axes>"
      ]
     },
     "metadata": {
      "needs_background": "light"
     },
     "output_type": "display_data"
    }
   ],
   "source": [
    "pd.DataFrame(cusum(np.random.randn(200)+np.repeat([0,0.5],100),K=0.25)).plot()"
   ]
  },
  {
   "cell_type": "code",
   "execution_count": 46,
   "metadata": {},
   "outputs": [],
   "source": [
    "def detection(x, threshold=1, drift=0, ending=False, show=True, ax=None):\n",
    "    \"\"\"Tabular CUSUM per Montgomery,D. 1996 \"Introduction to Statistical Process Control\" p318 \n",
    "    x    : series to analyze\n",
    "    mean : expected process mean\n",
    "    K    : reference value, allowance, slack value-- suggest K=1/2 of the shift to be detected.\n",
    "\n",
    "    Returns:\n",
    "    x  Original series\n",
    "    Cp positive CUSUM\n",
    "    Cm negative CUSUM\n",
    "    \"\"\"\n",
    "    x = np.atleast_1d(x).astype('float64')\n",
    "    gp, gn = np.zeros(x.size), np.zeros(x.size)\n",
    "    ta, tai, taf = np.array([[], [], []], dtype=int)\n",
    "    tap, tan = 0, 0\n",
    "    amp = np.array([])\n",
    "    # Find changes (online form)\n",
    "    for i in range(1, x.size):\n",
    "        s = x[i] - x[i-1]\n",
    "        gp[i] = gp[i-1] + s - drift  # cumulative sum for + change\n",
    "        gn[i] = gn[i-1] - s - drift  # cumulative sum for - change\n",
    "        if gp[i] < 0:\n",
    "            gp[i], tap = 0, i\n",
    "        if gn[i] < 0:\n",
    "            gn[i], tan = 0, i\n",
    "        if gp[i] > threshold or gn[i] > threshold:  # change detected!\n",
    "            ta = np.append(ta, i)    # alarm index\n",
    "            tai = np.append(tai, tap if gp[i] > threshold else tan)  # start\n",
    "            gp[i], gn[i] = 0, 0      # reset alarm\n",
    "\n",
    "    if show:\n",
    "        _plot(x, threshold, drift, ending, ax, ta, tai, taf, gp, gn)\n",
    "\n",
    "    return ta, tai, taf, amp\n",
    "\n",
    "\n",
    "def _plot(x, threshold, drift, ending, ax, ta, tai, taf, gp, gn):\n",
    "    \"\"\"Plot results of the detect_cusum function, see its help.\"\"\"\n",
    "\n",
    "    try:\n",
    "        import matplotlib.pyplot as plt\n",
    "    except ImportError:\n",
    "        print('matplotlib is not available.')\n",
    "    else:\n",
    "        if ax is None:\n",
    "            _, (ax1, ax2) = plt.subplots(2, 1, figsize=(8, 6))\n",
    "\n",
    "        t = range(x.size)\n",
    "        ax1.plot(t, x, 'b-', lw=2)\n",
    "        if len(ta):\n",
    "            ax1.plot(tai, x[tai], '>', mfc='g', mec='g', ms=10,\n",
    "                     label='Start')\n",
    "            if ending:\n",
    "                ax1.plot(taf, x[taf], '<', mfc='g', mec='g', ms=10,\n",
    "                         label='Ending')\n",
    "            ax1.plot(ta, x[ta], 'o', mfc='r', mec='r', mew=1, ms=5,\n",
    "                     label='Alarm')\n",
    "            ax1.legend(loc='best', framealpha=.5, numpoints=1)\n",
    "        ax1.set_xlim(-.01*x.size, x.size*1.01-1)\n",
    "        ax1.set_xlabel('Data #', fontsize=14)\n",
    "        ax1.set_ylabel('Amplitude', fontsize=14)\n",
    "        ymin, ymax = x[np.isfinite(x)].min(), x[np.isfinite(x)].max()\n",
    "        yrange = ymax - ymin if ymax > ymin else 1\n",
    "        ax1.set_ylim(ymin - 0.1*yrange, ymax + 0.1*yrange)\n",
    "        ax1.set_title('Time series and detected changes ' +\n",
    "                      '(threshold= %.3g, drift= %.3g): N changes = %d'\n",
    "                      % (threshold, drift, len(tai)))\n",
    "        ax2.plot(t, gp, 'y-', label='+')\n",
    "        ax2.plot(t, gn, 'm-', label='-')\n",
    "        ax2.set_xlim(-.01*x.size, x.size*1.01-1)\n",
    "        ax2.set_xlabel('Data #', fontsize=14)\n",
    "        ax2.set_ylim(-0.01*threshold, 1.1*threshold)\n",
    "        ax2.axhline(threshold, color='r')\n",
    "        ax1.set_ylabel('Amplitude', fontsize=14)\n",
    "        ax2.set_title('Time series of the cumulative sums of ' +\n",
    "                      'positive and negative changes')\n",
    "        ax2.legend(loc='best', framealpha=.5, numpoints=1)\n",
    "        plt.tight_layout()\n",
    "        plt.show()"
   ]
  },
  {
   "cell_type": "code",
   "execution_count": 48,
   "metadata": {
    "scrolled": true
   },
   "outputs": [
    {
     "data": {
      "image/png": "[encoded data removed]",
      "text/plain": [
       "<Figure size 576x432 with 2 Axes>"
      ]
     },
     "metadata": {
      "needs_background": "light"
     },
     "output_type": "display_data"
    }
   ],
   "source": [
    "x = np.random.randn(300)/5\n",
    "x[100:200] += np.arange(0, 4, 4/100)\n",
    "ta, tai, taf, amp = detection(x, 2, .02, False, True)"
   ]
  },
  {
   "cell_type": "code",
   "execution_count": null,
   "metadata": {},
   "outputs": [],
   "source": []
  }
 ],
 "metadata": {
  "kernelspec": {
   "display_name": "Python 3",
   "language": "python",
   "name": "python3"
  },
  "language_info": {
   "codemirror_mode": {
    "name": "ipython",
    "version": 3
   },
   "file_extension": ".py",
   "mimetype": "text/x-python",
   "name": "python",
   "nbconvert_exporter": "python",
   "pygments_lexer": "ipython3",
   "version": "3.7.6"
  }
 },
 "nbformat": 4,
 "nbformat_minor": 4
}
