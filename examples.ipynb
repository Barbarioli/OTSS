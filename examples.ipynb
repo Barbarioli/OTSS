{
 "cells": [
  {
   "cell_type": "markdown",
   "metadata": {},
   "source": [
    "# Subsampling examples"
   ]
  },
  {
   "cell_type": "code",
   "execution_count": 1,
   "metadata": {},
   "outputs": [],
   "source": [
    "import multiprocessing as mp\n",
    "import time\n",
    "import numpy as np\n",
    "import pandas as pd\n",
    "import matplotlib.pyplot as plt\n",
    "import math\n",
    "import sys\n",
    "import warnings\n",
    "import os\n",
    "from random import randint\n",
    "from scipy.ndimage.filters import uniform_filter1d\n",
    "\n",
    "if not sys.warnoptions:\n",
    "    warnings.simplefilter(\"ignore\")"
   ]
  },
  {
   "cell_type": "code",
   "execution_count": 2,
   "metadata": {},
   "outputs": [
    {
     "data": {
      "text/plain": [
       "'/Users/brunobarbarioli/Documents/Research/OTSS'"
      ]
     },
     "execution_count": 2,
     "metadata": {},
     "output_type": "execute_result"
    }
   ],
   "source": [
    "os.getcwd()"
   ]
  },
  {
   "cell_type": "code",
   "execution_count": 3,
   "metadata": {},
   "outputs": [],
   "source": [
    "from algorithms.online_subsampler import *\n",
    "from algorithms.analytics import *\n",
    "from algorithms.breakpoint_detection import *\n",
    "from algorithms.empirical_bernstein import *\n",
    "from algorithms.uniform_subsampler import *\n",
    "from algorithms.queries import *"
   ]
  },
  {
   "cell_type": "markdown",
   "metadata": {},
   "source": [
    "## Synthetic data"
   ]
  },
  {
   "cell_type": "code",
   "execution_count": 23,
   "metadata": {},
   "outputs": [
    {
     "data": {
      "text/plain": [
       "[<matplotlib.lines.Line2D at 0xb4f7bae90>]"
      ]
     },
     "execution_count": 23,
     "metadata": {},
     "output_type": "execute_result"
    },
    {
     "data": {
      "image/png": "[encoded data removed]",
      "text/plain": [
       "<Figure size 432x288 with 1 Axes>"
      ]
     },
     "metadata": {
      "needs_background": "light"
     },
     "output_type": "display_data"
    }
   ],
   "source": [
    "#Piecewise Stationary series\n",
    "\n",
    "#Parameters\n",
    "n = 1000000\n",
    "mu = 2\n",
    "sigma = 0.5\n",
    "\n",
    "#Gaussian distribution\n",
    "np.random.seed(100)\n",
    "x = np.random.normal(mu, sigma, n)\n",
    "\n",
    "#Altered means\n",
    "x[100000:200000] += 3\n",
    "x[400000:500000] += 4.5\n",
    "x[600000:700000] += 0\n",
    "x[800000:900000] += 3\n",
    "\n",
    "#plot\n",
    "plt.plot(x)"
   ]
  },
  {
   "cell_type": "code",
   "execution_count": 24,
   "metadata": {},
   "outputs": [],
   "source": [
    "# Real average for comparison\n",
    "\n",
    "real_average = np.random.normal(mu, 0, n)\n",
    "real_average[100000:200000] += 3\n",
    "real_average[400000:500000] += 4.5\n",
    "real_average[600000:700000] += 0\n",
    "real_average[800000:900000] += 3"
   ]
  },
  {
   "cell_type": "code",
   "execution_count": null,
   "metadata": {},
   "outputs": [],
   "source": []
  },
  {
   "cell_type": "code",
   "execution_count": 19,
   "metadata": {},
   "outputs": [],
   "source": [
    "uniform_sample = uniform_sampler(x, 10)\n",
    "#uniform_moving_average = uniform_filter1d(uniform_sample, size = 1000)"
   ]
  },
  {
   "cell_type": "code",
   "execution_count": 20,
   "metadata": {},
   "outputs": [],
   "source": [
    "uniform_mean = np.full(1000000,np.mean(uniform_sample))"
   ]
  },
  {
   "cell_type": "code",
   "execution_count": 28,
   "metadata": {},
   "outputs": [],
   "source": [
    "# Using empirical Bernstein subsampler\n",
    "eb_sample = empirical_bernstein(0.05,0.01,2.5,x)\n",
    "\n",
    "#calculating the mean\n",
    "subsample_eb_mean = np.full(1000000,np.mean(eb_sample))"
   ]
  },
  {
   "cell_type": "code",
   "execution_count": 36,
   "metadata": {
    "scrolled": true
   },
   "outputs": [
    {
     "name": "stdout",
     "output_type": "stream",
     "text": [
      "breakpoint started\n",
      "subsampler started\n",
      "Interval size:  53035\n",
      "Relative sample size:  1.66 %\n",
      "----*----\n",
      "Interval size:  33136\n",
      "Relative sample size:  2.6 %\n",
      "----*----\n",
      "Interval size:  13829\n",
      "Relative sample size:  6.36 %\n",
      "----*----\n",
      "Interval size:  5420\n",
      "Relative sample size:  5.54 %\n",
      "----*----\n",
      "Interval size:  2214\n",
      "Relative sample size:  13.55 %\n",
      "----*----\n",
      "Interval size:  62434\n",
      "Relative sample size:  0.46 %\n",
      "----*----\n",
      "Interval size:  29934\n",
      "Relative sample size:  1.0 %\n",
      "----*----\n",
      "Interval size:  48263\n",
      "Relative sample size:  1.82 %\n",
      "----*----\n",
      "Block size greater than data interval\n",
      "----*----\n",
      "Interval size:  1554\n",
      "Relative sample size:  59.2 %\n",
      "----*----\n",
      "Interval size:  2375\n",
      "Relative sample size:  37.05 %\n",
      "----*----\n",
      "Interval size:  43159\n",
      "Relative sample size:  2.04 %\n",
      "----*----\n",
      "Interval size:  104646\n",
      "Relative sample size:  0.86 %\n",
      "----*----\n",
      "Interval size:  40942\n",
      "Relative sample size:  0.56 %\n",
      "----*----\n",
      "Interval size:  41012\n",
      "Relative sample size:  0.56 %\n",
      "----*----\n",
      "Interval size:  18046\n",
      "Relative sample size:  1.22 %\n",
      "----*----\n",
      "Interval size:  7371\n",
      "Relative sample size:  12.48 %\n",
      "----*----\n",
      "Interval size:  37212\n",
      "Relative sample size:  2.5 %\n",
      "----*----\n",
      "Interval size:  3402\n",
      "Relative sample size:  27.34 %\n",
      "----*----\n",
      "Interval size:  36991\n",
      "Relative sample size:  2.46 %\n",
      "----*----\n",
      "Interval size:  49220\n",
      "Relative sample size:  1.77 %\n",
      "----*----\n",
      "Interval size:  31174\n",
      "Relative sample size:  2.89 %\n",
      "----*----\n",
      "Interval size:  52192\n",
      "Relative sample size:  1.72 %\n",
      "----*----\n",
      "Interval size:  51227\n",
      "Relative sample size:  1.72 %\n",
      "----*----\n",
      "Interval size:  31211\n",
      "Relative sample size:  2.88 %\n",
      "----*----\n",
      "Interval size:  11045\n",
      "Relative sample size:  2.63 %\n",
      "----*----\n",
      "Interval size:  88955\n",
      "Relative sample size:  0.33 %\n",
      "----*----\n",
      "Interval size:  53333\n",
      "Relative sample size:  1.65 %\n",
      "----*----\n",
      "Interval size:  29550\n",
      "Relative sample size:  3.01 %\n",
      "----*----\n"
     ]
    },
    {
     "data": {
      "image/png": "[encoded data removed]",
      "text/plain": [
       "<Figure size 576x432 with 2 Axes>"
      ]
     },
     "metadata": {
      "needs_background": "light"
     },
     "output_type": "display_data"
    }
   ],
   "source": [
    "# Online subsampler\n",
    "\n",
    "queue = mp.Queue()\n",
    "return_queue = mp.Queue()\n",
    "index_queue = mp.Queue()\n",
    "p1 = mp.Process(target = detection, args = (x, queue, 2.75, .25, False, True))\n",
    "p2 = mp.Process(target = online_subsampler, args = (0.05,0.01,2.5,10,x, queue, return_queue,index_queue, 1000))\n",
    "\n",
    "p1.start()\n",
    "p2.start()"
   ]
  },
  {
   "cell_type": "code",
   "execution_count": 37,
   "metadata": {},
   "outputs": [],
   "source": [
    "threshold_data = return_queue.get()\n",
    "\n",
    "while return_queue.empty() == False:\n",
    "    sub = return_queue.get()\n",
    "    threshold_data = np.concatenate((threshold_data, sub), axis = None)"
   ]
  },
  {
   "cell_type": "code",
   "execution_count": 38,
   "metadata": {},
   "outputs": [
    {
     "name": "stdout",
     "output_type": "stream",
     "text": [
      "Real number of values above threshold:  120\n",
      "Values above threshold for uniform sampling:  7\n",
      "Values above threshold for EB sampling:  0\n",
      "Values above threshold for OTSS:  1\n"
     ]
    }
   ],
   "source": [
    "#Threshold evaluation\n",
    "threshold_real_value = threshold_query(x, 8)\n",
    "print('Real number of values above threshold: ', len(threshold_real_value))\n",
    "threshold_uniform_sampler = threshold_query(uniform_sample, 8)\n",
    "print('Values above threshold for uniform sampling: ', len(threshold_uniform_sampler))\n",
    "threshold_eb_sampler = threshold_query(eb_sample, 8)\n",
    "print('Values above threshold for EB sampling: ', len(threshold_eb_sampler))\n",
    "threshold_otss = threshold_query(threshold_data, 8)\n",
    "print('Values above threshold for OTSS: ', len(threshold_otss))"
   ]
  },
  {
   "cell_type": "code",
   "execution_count": 10,
   "metadata": {},
   "outputs": [],
   "source": [
    "# Calculating statistics\n",
    "sub, rel_size = subsample_analysis(return_queue, index_queue)"
   ]
  },
  {
   "cell_type": "code",
   "execution_count": 13,
   "metadata": {},
   "outputs": [
    {
     "data": {
      "text/plain": [
       "<matplotlib.legend.Legend at 0x1235f5990>"
      ]
     },
     "execution_count": 13,
     "metadata": {},
     "output_type": "execute_result"
    },
    {
     "data": {
      "image/png": "[encoded data removed]",
      "text/plain": [
       "<Figure size 432x288 with 1 Axes>"
      ]
     },
     "metadata": {
      "needs_background": "light"
     },
     "output_type": "display_data"
    }
   ],
   "source": [
    "# Plotting subsample size\n",
    "plt.plot(rel_size, color = 'green')\n",
    "plt.plot(np.full(1000000,1), color = 'blue')\n",
    "plt.plot(np.full(1000000,np.mean(rel_size)), color='red', linestyle ='--' )\n",
    "plt.legend(['subsample relative size', 'full sample', 'mean subsample size'], loc='upper left')"
   ]
  },
  {
   "cell_type": "code",
   "execution_count": 20,
   "metadata": {},
   "outputs": [
    {
     "data": {
      "text/plain": [
       "[<matplotlib.lines.Line2D at 0x123febd50>]"
      ]
     },
     "execution_count": 20,
     "metadata": {},
     "output_type": "execute_result"
    },
    {
     "data": {
      "image/png": "[encoded data removed]",
      "text/plain": [
       "<Figure size 432x288 with 1 Axes>"
      ]
     },
     "metadata": {
      "needs_background": "light"
     },
     "output_type": "display_data"
    }
   ],
   "source": [
    "#plotting mean\n",
    "\n",
    "plt.plot(real_average)\n",
    "plt.plot(subsample_eb_mean)\n",
    "plt.plot(sub)\n",
    "plt.plot(uniform_mean, color = 'red', linestyle ='--')"
   ]
  },
  {
   "cell_type": "markdown",
   "metadata": {},
   "source": [
    "## Real Data"
   ]
  },
  {
   "cell_type": "markdown",
   "metadata": {},
   "source": [
    "### Example 1 - UCI Household power consumption\n",
    "https://archive.ics.uci.edu/ml/datasets/Individual+household+electric+power+consumption"
   ]
  },
  {
   "cell_type": "code",
   "execution_count": 4,
   "metadata": {},
   "outputs": [],
   "source": [
    "path = '/Users/brunobarbarioli/Documents/Research/OTSS/datasets/household_power_consumption.txt'\n",
    "data = pd.read_csv(path, sep = ';')"
   ]
  },
  {
   "cell_type": "markdown",
   "metadata": {},
   "source": [
    "#### Exploratory data analysis and data cleaning\n"
   ]
  },
  {
   "cell_type": "code",
   "execution_count": 5,
   "metadata": {},
   "outputs": [
    {
     "name": "stdout",
     "output_type": "stream",
     "text": [
      "         Date      Time Global_active_power Global_reactive_power  Voltage  \\\n",
      "0  16/12/2006  17:24:00               4.216                 0.418  234.840   \n",
      "1  16/12/2006  17:25:00               5.360                 0.436  233.630   \n",
      "2  16/12/2006  17:26:00               5.374                 0.498  233.290   \n",
      "3  16/12/2006  17:27:00               5.388                 0.502  233.740   \n",
      "4  16/12/2006  17:28:00               3.666                 0.528  235.680   \n",
      "\n",
      "  Global_intensity Sub_metering_1 Sub_metering_2  Sub_metering_3  \n",
      "0           18.400          0.000          1.000            17.0  \n",
      "1           23.000          0.000          1.000            16.0  \n",
      "2           23.000          0.000          2.000            17.0  \n",
      "3           23.000          0.000          1.000            17.0  \n",
      "4           15.800          0.000          1.000            17.0  \n"
     ]
    }
   ],
   "source": [
    "print(data.head(5))"
   ]
  },
  {
   "cell_type": "code",
   "execution_count": 6,
   "metadata": {},
   "outputs": [
    {
     "name": "stdout",
     "output_type": "stream",
     "text": [
      "<class 'pandas.core.frame.DataFrame'>\n",
      "RangeIndex: 2075259 entries, 0 to 2075258\n",
      "Data columns (total 9 columns):\n",
      " #   Column                 Dtype  \n",
      "---  ------                 -----  \n",
      " 0   Date                   object \n",
      " 1   Time                   object \n",
      " 2   Global_active_power    object \n",
      " 3   Global_reactive_power  object \n",
      " 4   Voltage                object \n",
      " 5   Global_intensity       object \n",
      " 6   Sub_metering_1         object \n",
      " 7   Sub_metering_2         object \n",
      " 8   Sub_metering_3         float64\n",
      "dtypes: float64(1), object(8)\n",
      "memory usage: 142.5+ MB\n"
     ]
    }
   ],
   "source": [
    "data.info()"
   ]
  },
  {
   "cell_type": "code",
   "execution_count": 7,
   "metadata": {},
   "outputs": [],
   "source": [
    "data = data[data.Sub_metering_1 != '?']\n",
    "data = data[data.Sub_metering_2 != '?']\n",
    "data = data[data.Sub_metering_3 != '?']"
   ]
  },
  {
   "cell_type": "code",
   "execution_count": 8,
   "metadata": {},
   "outputs": [],
   "source": [
    "data.index = pd.to_datetime(data['Date'] +' '+ data['Time'])\n",
    "data_clean = data.drop(columns = ['Date', 'Time'])"
   ]
  },
  {
   "cell_type": "code",
   "execution_count": 9,
   "metadata": {},
   "outputs": [
    {
     "name": "stdout",
     "output_type": "stream",
     "text": [
      "<class 'pandas.core.frame.DataFrame'>\n",
      "DatetimeIndex: 2049280 entries, 2006-12-16 17:24:00 to 2010-11-26 21:02:00\n",
      "Data columns (total 7 columns):\n",
      " #   Column                 Dtype  \n",
      "---  ------                 -----  \n",
      " 0   Global_active_power    object \n",
      " 1   Global_reactive_power  object \n",
      " 2   Voltage                object \n",
      " 3   Global_intensity       object \n",
      " 4   Sub_metering_1         object \n",
      " 5   Sub_metering_2         object \n",
      " 6   Sub_metering_3         float64\n",
      "dtypes: float64(1), object(6)\n",
      "memory usage: 125.1+ MB\n"
     ]
    }
   ],
   "source": [
    "data_clean.info()"
   ]
  },
  {
   "cell_type": "markdown",
   "metadata": {},
   "source": [
    "#### Sub metering 3"
   ]
  },
  {
   "cell_type": "code",
   "execution_count": 10,
   "metadata": {},
   "outputs": [],
   "source": [
    "x = data_clean['Sub_metering_3']\n",
    "x = x['2007-01':'2008-12']"
   ]
  },
  {
   "cell_type": "code",
   "execution_count": 14,
   "metadata": {},
   "outputs": [
    {
     "data": {
      "text/plain": [
       "<matplotlib.axes._subplots.AxesSubplot at 0x1268a34d0>"
      ]
     },
     "execution_count": 14,
     "metadata": {},
     "output_type": "execute_result"
    },
    {
     "data": {
      "image/png": "[encoded data removed]",
      "text/plain": [
       "<Figure size 720x360 with 1 Axes>"
      ]
     },
     "metadata": {
      "needs_background": "light"
     },
     "output_type": "display_data"
    }
   ],
   "source": [
    "plt.figure(figsize=(10,5))\n",
    "x.plot()"
   ]
  },
  {
   "cell_type": "code",
   "execution_count": null,
   "metadata": {
    "scrolled": false
   },
   "outputs": [],
   "source": [
    "#breakpoint detection Threshold = 5, drift = 17.5\n",
    "\n",
    "queue_energy = mp.Queue()\n",
    "return_queue_energy = mp.Queue()\n",
    "index_queue_energy = mp.Queue()\n",
    "p1 = mp.Process(target = detection, args = (x, queue_energy, 5, 12.5, False, False))\n",
    "p2 = mp.Process(target = online_subsampler, args = (0.05,0.01,15,10,x, queue_energy, return_queue_energy, index_queue_energy, 1000))\n",
    "\n",
    "p1.start()\n",
    "p2.start()"
   ]
  },
  {
   "cell_type": "code",
   "execution_count": 16,
   "metadata": {},
   "outputs": [],
   "source": [
    "sub_energy, rel_size_energy = subsample_analysis(return_queue_energy, index_queue_energy)"
   ]
  },
  {
   "cell_type": "code",
   "execution_count": 18,
   "metadata": {},
   "outputs": [
    {
     "data": {
      "text/plain": [
       "[<matplotlib.lines.Line2D at 0x120f57350>]"
      ]
     },
     "execution_count": 18,
     "metadata": {},
     "output_type": "execute_result"
    },
    {
     "data": {
      "image/png": "[encoded data removed]",
      "text/plain": [
       "<Figure size 720x360 with 1 Axes>"
      ]
     },
     "metadata": {
      "needs_background": "light"
     },
     "output_type": "display_data"
    }
   ],
   "source": [
    "# Plotting subsample size\n",
    "plt.figure(figsize=(10,5))\n",
    "plt.plot(rel_size_energy, color = 'green')\n",
    "#plt.plot(np.full(2000000,1), color = 'blue')\n",
    "plt.plot(np.full(1000000,max(rel_size_energy)), color='red', linestyle ='--' )\n",
    "#plt.legend(['subsample relative size', 'full sample', 'maximum subsample size'], loc='upper left')"
   ]
  },
  {
   "cell_type": "code",
   "execution_count": 19,
   "metadata": {},
   "outputs": [
    {
     "data": {
      "text/plain": [
       "[<matplotlib.lines.Line2D at 0x12b5db590>]"
      ]
     },
     "execution_count": 19,
     "metadata": {},
     "output_type": "execute_result"
    },
    {
     "data": {
      "image/png": "[encoded data removed]",
      "text/plain": [
       "<Figure size 720x360 with 1 Axes>"
      ]
     },
     "metadata": {
      "needs_background": "light"
     },
     "output_type": "display_data"
    }
   ],
   "source": [
    "#plotting mean\n",
    "plt.figure(figsize=(10,5))\n",
    "#plt.plot(real_average)\n",
    "#plt.plot(subsample_eb_mean)\n",
    "plt.plot(sub_energy)"
   ]
  },
  {
   "cell_type": "markdown",
   "metadata": {},
   "source": [
    "#### Voltage"
   ]
  },
  {
   "cell_type": "code",
   "execution_count": 20,
   "metadata": {},
   "outputs": [],
   "source": [
    "y = data_clean['Voltage']\n",
    "y = y.astype('float')\n",
    "y = y['2007-01':'2008-12']"
   ]
  },
  {
   "cell_type": "code",
   "execution_count": 21,
   "metadata": {},
   "outputs": [
    {
     "data": {
      "text/plain": [
       "<matplotlib.axes._subplots.AxesSubplot at 0x12136bcd0>"
      ]
     },
     "execution_count": 21,
     "metadata": {},
     "output_type": "execute_result"
    },
    {
     "data": {
      "image/png": "[encoded data removed]",
      "text/plain": [
       "<Figure size 720x288 with 1 Axes>"
      ]
     },
     "metadata": {
      "needs_background": "light"
     },
     "output_type": "display_data"
    }
   ],
   "source": [
    "plt.figure(figsize=(10,4))\n",
    "y.plot()"
   ]
  },
  {
   "cell_type": "code",
   "execution_count": null,
   "metadata": {
    "scrolled": true
   },
   "outputs": [],
   "source": [
    "#breakpoint detection Threshold = 5, drift = 17.5\n",
    "\n",
    "queue_voltage = mp.Queue()\n",
    "return_queue_voltage = mp.Queue()\n",
    "index_queue_voltage = mp.Queue()\n",
    "p1 = mp.Process(target = detection, args = (y, queue_voltage, 5, 1, False, False))\n",
    "p2 = mp.Process(target = online_subsampler, args = (0.05,0.01,20,10,x, queue_voltage, return_queue_voltage, index_queue_voltage, 1000))\n",
    "\n",
    "p1.start()\n",
    "p2.start()"
   ]
  },
  {
   "cell_type": "code",
   "execution_count": 23,
   "metadata": {},
   "outputs": [],
   "source": [
    "sub_voltage, rel_size_voltage = subsample_analysis(return_queue_voltage, index_queue_voltage)"
   ]
  },
  {
   "cell_type": "code",
   "execution_count": 25,
   "metadata": {},
   "outputs": [
    {
     "data": {
      "text/plain": [
       "[<matplotlib.lines.Line2D at 0x1212a1550>]"
      ]
     },
     "execution_count": 25,
     "metadata": {},
     "output_type": "execute_result"
    },
    {
     "data": {
      "image/png": "[encoded data removed]",
      "text/plain": [
       "<Figure size 720x360 with 1 Axes>"
      ]
     },
     "metadata": {
      "needs_background": "light"
     },
     "output_type": "display_data"
    }
   ],
   "source": [
    "# Plotting subsample size\n",
    "plt.figure(figsize=(10,5))\n",
    "plt.plot(rel_size_voltage, color = 'green')\n",
    "#plt.plot(np.full(2000000,1), color = 'blue')\n",
    "plt.plot(np.full(2000000,max(rel_size_voltage)), color='red', linestyle ='--' )\n",
    "#plt.legend(['subsample relative size', 'full sample', 'maximum subsample size'], loc='upper left')"
   ]
  },
  {
   "cell_type": "code",
   "execution_count": 26,
   "metadata": {},
   "outputs": [
    {
     "data": {
      "text/plain": [
       "[<matplotlib.lines.Line2D at 0x12c225b10>]"
      ]
     },
     "execution_count": 26,
     "metadata": {},
     "output_type": "execute_result"
    },
    {
     "data": {
      "image/png": "[encoded data removed]",
      "text/plain": [
       "<Figure size 720x360 with 1 Axes>"
      ]
     },
     "metadata": {
      "needs_background": "light"
     },
     "output_type": "display_data"
    }
   ],
   "source": [
    "#plotting mean\n",
    "plt.figure(figsize=(10,5))\n",
    "#plt.plot(real_average)\n",
    "#plt.plot(subsample_eb_mean)\n",
    "plt.plot(sub_voltage)"
   ]
  },
  {
   "cell_type": "markdown",
   "metadata": {},
   "source": [
    "### Querry analysis"
   ]
  },
  {
   "cell_type": "code",
   "execution_count": 10,
   "metadata": {},
   "outputs": [],
   "source": [
    "x = data_clean['Sub_metering_3']\n",
    "x = x['2007-01':'2008-12']\n",
    "\n",
    "series_1 = x['2007-01':'2007-02']\n",
    "series_2 = x['2007-04':'2007-05']\n",
    "series_3 = x['2008-07':'2008-09']\n",
    "series_4 = x['2008-02':'2007-05']\n",
    "series_5 = x['2007-01':'2007-02']\n",
    "series_6 = x[150:3000]\n",
    "series_7 = x[250:5000]\n",
    "series_8 = x[5000:60000]"
   ]
  },
  {
   "cell_type": "code",
   "execution_count": 11,
   "metadata": {},
   "outputs": [],
   "source": [
    "full_series = pd.concat([series_6,series_7,series_8])\n",
    "series = pd.concat([series_6,series_8])"
   ]
  },
  {
   "cell_type": "code",
   "execution_count": 12,
   "metadata": {},
   "outputs": [
    {
     "data": {
      "text/plain": [
       "2007-01-01 02:30:00    0.0\n",
       "2007-01-01 02:31:00    0.0\n",
       "2007-01-01 02:32:00    0.0\n",
       "2007-01-01 02:33:00    0.0\n",
       "2007-01-01 02:34:00    0.0\n",
       "                      ... \n",
       "2007-11-02 15:57:00    0.0\n",
       "2007-11-02 15:58:00    0.0\n",
       "2007-11-02 15:59:00    0.0\n",
       "2007-11-02 16:00:00    0.0\n",
       "2007-11-02 16:01:00    0.0\n",
       "Name: Sub_metering_3, Length: 62600, dtype: float64"
      ]
     },
     "execution_count": 12,
     "metadata": {},
     "output_type": "execute_result"
    }
   ],
   "source": [
    "full_series"
   ]
  },
  {
   "cell_type": "code",
   "execution_count": 13,
   "metadata": {},
   "outputs": [
    {
     "name": "stdout",
     "output_type": "stream",
     "text": [
      "2007-03-01 00:00:00     0.0\n",
      "2007-03-01 00:01:00     0.0\n",
      "2007-03-01 00:02:00     0.0\n",
      "2007-03-01 00:03:00     0.0\n",
      "2007-03-01 00:04:00     0.0\n",
      "                       ... \n",
      "2007-03-02 23:55:00    18.0\n",
      "2007-03-02 23:56:00    18.0\n",
      "2007-03-02 23:57:00    18.0\n",
      "2007-03-02 23:58:00    17.0\n",
      "2007-03-02 23:59:00    18.0\n",
      "Name: Sub_metering_3, Length: 3000, dtype: float64\n"
     ]
    }
   ],
   "source": [
    "print(full_series['2007-03'])"
   ]
  },
  {
   "cell_type": "code",
   "execution_count": 14,
   "metadata": {},
   "outputs": [
    {
     "data": {
      "text/plain": [
       "DatetimeIndex(['2007-01-01 02:30:00', '2007-01-01 02:31:00',\n",
       "               '2007-01-01 02:32:00', '2007-01-01 02:33:00',\n",
       "               '2007-01-01 02:34:00', '2007-01-01 02:35:00',\n",
       "               '2007-01-01 02:36:00', '2007-01-01 02:37:00',\n",
       "               '2007-01-01 02:38:00', '2007-01-01 02:39:00',\n",
       "               ...\n",
       "               '2007-11-02 15:52:00', '2007-11-02 15:53:00',\n",
       "               '2007-11-02 15:54:00', '2007-11-02 15:55:00',\n",
       "               '2007-11-02 15:56:00', '2007-11-02 15:57:00',\n",
       "               '2007-11-02 15:58:00', '2007-11-02 15:59:00',\n",
       "               '2007-11-02 16:00:00', '2007-11-02 16:01:00'],\n",
       "              dtype='datetime64[ns]', length=62600, freq=None)"
      ]
     },
     "execution_count": 14,
     "metadata": {},
     "output_type": "execute_result"
    }
   ],
   "source": [
    "full_series.index"
   ]
  },
  {
   "cell_type": "code",
   "execution_count": 15,
   "metadata": {},
   "outputs": [
    {
     "data": {
      "text/plain": [
       "<matplotlib.axes._subplots.AxesSubplot at 0x144bc56d0>"
      ]
     },
     "execution_count": 15,
     "metadata": {},
     "output_type": "execute_result"
    },
    {
     "data": {
      "image/png": "[encoded data removed]",
      "text/plain": [
       "<Figure size 432x288 with 1 Axes>"
      ]
     },
     "metadata": {
      "needs_background": "light"
     },
     "output_type": "display_data"
    }
   ],
   "source": [
    "full_series.plot()"
   ]
  },
  {
   "cell_type": "code",
   "execution_count": 16,
   "metadata": {},
   "outputs": [
    {
     "data": {
      "text/plain": [
       "DatetimeIndex(['2007-01-01 02:30:00', '2007-01-01 02:31:00',\n",
       "               '2007-01-01 02:32:00', '2007-01-01 02:33:00',\n",
       "               '2007-01-01 02:34:00', '2007-01-01 02:35:00',\n",
       "               '2007-01-01 02:36:00', '2007-01-01 02:37:00',\n",
       "               '2007-01-01 02:38:00', '2007-01-01 02:39:00',\n",
       "               ...\n",
       "               '2007-11-02 15:52:00', '2007-11-02 15:53:00',\n",
       "               '2007-11-02 15:54:00', '2007-11-02 15:55:00',\n",
       "               '2007-11-02 15:56:00', '2007-11-02 15:57:00',\n",
       "               '2007-11-02 15:58:00', '2007-11-02 15:59:00',\n",
       "               '2007-11-02 16:00:00', '2007-11-02 16:01:00'],\n",
       "              dtype='datetime64[ns]', length=62600, freq=None)"
      ]
     },
     "execution_count": 16,
     "metadata": {},
     "output_type": "execute_result"
    }
   ],
   "source": [
    "full_series.index"
   ]
  },
  {
   "cell_type": "code",
   "execution_count": 17,
   "metadata": {},
   "outputs": [
    {
     "data": {
      "text/plain": [
       "DatetimeIndex(['2007-01-01 02:30:00', '2007-01-01 02:31:00',\n",
       "               '2007-01-01 02:32:00', '2007-01-01 02:33:00',\n",
       "               '2007-01-01 02:34:00', '2007-01-01 02:35:00',\n",
       "               '2007-01-01 02:36:00', '2007-01-01 02:37:00',\n",
       "               '2007-01-01 02:38:00', '2007-01-01 02:39:00',\n",
       "               ...\n",
       "               '2007-11-02 15:52:00', '2007-11-02 15:53:00',\n",
       "               '2007-11-02 15:54:00', '2007-11-02 15:55:00',\n",
       "               '2007-11-02 15:56:00', '2007-11-02 15:57:00',\n",
       "               '2007-11-02 15:58:00', '2007-11-02 15:59:00',\n",
       "               '2007-11-02 16:00:00', '2007-11-02 16:01:00'],\n",
       "              dtype='datetime64[ns]', length=59850, freq=None)"
      ]
     },
     "execution_count": 17,
     "metadata": {},
     "output_type": "execute_result"
    }
   ],
   "source": [
    "full_series.index.drop_duplicates()"
   ]
  },
  {
   "cell_type": "code",
   "execution_count": 18,
   "metadata": {},
   "outputs": [],
   "source": [
    "full_series = full_series.loc[~full_series.index.duplicated(keep = 'first')]"
   ]
  },
  {
   "cell_type": "code",
   "execution_count": 19,
   "metadata": {},
   "outputs": [
    {
     "data": {
      "text/plain": [
       "DatetimeIndex(['2007-01-01 02:30:00', '2007-01-01 02:31:00',\n",
       "               '2007-01-01 02:32:00', '2007-01-01 02:33:00',\n",
       "               '2007-01-01 02:34:00', '2007-01-01 02:35:00',\n",
       "               '2007-01-01 02:36:00', '2007-01-01 02:37:00',\n",
       "               '2007-01-01 02:38:00', '2007-01-01 02:39:00',\n",
       "               ...\n",
       "               '2007-11-02 15:52:00', '2007-11-02 15:53:00',\n",
       "               '2007-11-02 15:54:00', '2007-11-02 15:55:00',\n",
       "               '2007-11-02 15:56:00', '2007-11-02 15:57:00',\n",
       "               '2007-11-02 15:58:00', '2007-11-02 15:59:00',\n",
       "               '2007-11-02 16:00:00', '2007-11-02 16:01:00'],\n",
       "              dtype='datetime64[ns]', length=59850, freq=None)"
      ]
     },
     "execution_count": 19,
     "metadata": {},
     "output_type": "execute_result"
    }
   ],
   "source": [
    "full_series.index"
   ]
  },
  {
   "cell_type": "code",
   "execution_count": 20,
   "metadata": {},
   "outputs": [
    {
     "name": "stdout",
     "output_type": "stream",
     "text": [
      "2007-01-01 02:35:00    0.0\n",
      "Name: Sub_metering_3, dtype: float64\n"
     ]
    }
   ],
   "source": [
    "print(full_series[5:6])"
   ]
  },
  {
   "cell_type": "code",
   "execution_count": 11,
   "metadata": {},
   "outputs": [],
   "source": [
    "uniform_sample = uniform_sampler(x, 10)"
   ]
  },
  {
   "cell_type": "code",
   "execution_count": 12,
   "metadata": {},
   "outputs": [
    {
     "name": "stdout",
     "output_type": "stream",
     "text": [
      "2007-01-01 00:00:00    0.0\n",
      "2007-01-01 00:00:00    0.0\n",
      "2007-01-01 00:10:00    0.0\n",
      "2007-01-01 00:20:00    0.0\n",
      "2007-01-01 00:30:00    0.0\n",
      "                      ... \n",
      "2008-12-31 23:16:00    0.0\n",
      "2008-12-31 23:26:00    0.0\n",
      "2008-12-31 23:36:00    0.0\n",
      "2008-12-31 23:46:00    0.0\n",
      "2008-12-31 23:56:00    0.0\n",
      "Name: Sub_metering_3, Length: 104859, dtype: float64\n"
     ]
    }
   ],
   "source": [
    "print(uniform_sample)"
   ]
  },
  {
   "cell_type": "code",
   "execution_count": 17,
   "metadata": {},
   "outputs": [],
   "source": [
    "eb_sample = empirical_bernstein(0.05,0.01,20,x)"
   ]
  },
  {
   "cell_type": "code",
   "execution_count": 18,
   "metadata": {},
   "outputs": [
    {
     "name": "stdout",
     "output_type": "stream",
     "text": [
      "2007-01-01 00:00:00     0.0\n",
      "2008-01-14 19:08:00     0.0\n",
      "2008-03-22 15:18:00     0.0\n",
      "2008-03-31 23:51:00    18.0\n",
      "2007-09-10 03:48:00     0.0\n",
      "                       ... \n",
      "2007-01-30 17:49:00    18.0\n",
      "2007-07-26 15:48:00     0.0\n",
      "2007-10-11 21:53:00    17.0\n",
      "2008-03-10 09:37:00    18.0\n",
      "2008-10-21 13:49:00    28.0\n",
      "Name: Sub_metering_3, Length: 9190, dtype: float64\n"
     ]
    }
   ],
   "source": [
    "print(eb_sample) "
   ]
  },
  {
   "cell_type": "code",
   "execution_count": 19,
   "metadata": {},
   "outputs": [],
   "source": [
    "eb_sample = eb_sample.sort_index()"
   ]
  },
  {
   "cell_type": "code",
   "execution_count": 20,
   "metadata": {},
   "outputs": [
    {
     "data": {
      "text/plain": [
       "2007-01-01 00:00:00     0.0\n",
       "2007-01-01 02:36:00     0.0\n",
       "2007-01-01 05:54:00     0.0\n",
       "2007-01-01 08:49:00     0.0\n",
       "2007-01-01 12:08:00     0.0\n",
       "                       ... \n",
       "2008-12-31 20:28:00    17.0\n",
       "2008-12-31 21:30:00     0.0\n",
       "2008-12-31 23:12:00     0.0\n",
       "2008-12-31 23:13:00     0.0\n",
       "2008-12-31 23:36:00     0.0\n",
       "Name: Sub_metering_3, Length: 9190, dtype: float64"
      ]
     },
     "execution_count": 20,
     "metadata": {},
     "output_type": "execute_result"
    }
   ],
   "source": [
    "eb_sample"
   ]
  },
  {
   "cell_type": "code",
   "execution_count": 21,
   "metadata": {},
   "outputs": [
    {
     "data": {
      "text/plain": [
       "<matplotlib.axes._subplots.AxesSubplot at 0x122581b10>"
      ]
     },
     "execution_count": 21,
     "metadata": {},
     "output_type": "execute_result"
    },
    {
     "data": {
      "image/png": "[encoded data removed]",
      "text/plain": [
       "<Figure size 720x360 with 1 Axes>"
      ]
     },
     "metadata": {
      "needs_background": "light"
     },
     "output_type": "display_data"
    }
   ],
   "source": [
    "eb_sample.plot(figsize=(10, 5))"
   ]
  },
  {
   "cell_type": "code",
   "execution_count": null,
   "metadata": {},
   "outputs": [],
   "source": []
  },
  {
   "cell_type": "code",
   "execution_count": 59,
   "metadata": {},
   "outputs": [
    {
     "data": {
      "text/plain": [
       "<matplotlib.axes._subplots.AxesSubplot at 0x7fc4b8f7f390>"
      ]
     },
     "execution_count": 59,
     "metadata": {},
     "output_type": "execute_result"
    },
    {
     "data": {
      "image/png": "[encoded data removed]",
      "text/plain": [
       "<Figure size 720x360 with 1 Axes>"
      ]
     },
     "metadata": {
      "needs_background": "light"
     },
     "output_type": "display_data"
    }
   ],
   "source": [
    "np.random.seed(1)\n",
    "\n",
    "points = 100000\n",
    "data = np.random.rand(points) # You can use other random functions to generate values with constraints\n",
    "tidx = pd.date_range('1950-01-01', periods=points, freq='D') # freq='MS'set the frequency of date in months and start from day 1. You can use 'T' for minutes and so on\n",
    "series = pd.Series(data, index =tidx)\n",
    "series.plot(figsize=(10, 5))"
   ]
  },
  {
   "cell_type": "code",
   "execution_count": 60,
   "metadata": {},
   "outputs": [],
   "source": [
    "uniform_sample = uniform_sampler(series)"
   ]
  },
  {
   "cell_type": "code",
   "execution_count": 65,
   "metadata": {},
   "outputs": [],
   "source": [
    "uniform_sample = uniform_sample.resample('D').mean()"
   ]
  },
  {
   "cell_type": "code",
   "execution_count": 66,
   "metadata": {},
   "outputs": [
    {
     "data": {
      "text/plain": [
       "1950-01-01    0.417022\n",
       "1950-01-02         NaN\n",
       "1950-01-03         NaN\n",
       "1950-01-04         NaN\n",
       "1950-01-05         NaN\n",
       "1950-01-06    0.092339\n",
       "1950-01-07         NaN\n",
       "1950-01-08         NaN\n",
       "1950-01-09         NaN\n",
       "1950-01-10         NaN\n",
       "1950-01-11    0.419195\n",
       "1950-01-12         NaN\n",
       "1950-01-13         NaN\n",
       "1950-01-14         NaN\n",
       "1950-01-15         NaN\n",
       "1950-01-16    0.670468\n",
       "1950-01-17         NaN\n",
       "1950-01-18         NaN\n",
       "1950-01-19         NaN\n",
       "1950-01-20         NaN\n",
       "Freq: D, dtype: float64"
      ]
     },
     "execution_count": 66,
     "metadata": {},
     "output_type": "execute_result"
    }
   ],
   "source": [
    "uniform_sample.head(20)"
   ]
  },
  {
   "cell_type": "code",
   "execution_count": 67,
   "metadata": {},
   "outputs": [],
   "source": [
    "value = interpolation_query(uniform_sample, 9, method = 'linear')\n",
    "value_quadratic = interpolation_query(uniform_sample, 4, method = 'quadratic')"
   ]
  },
  {
   "cell_type": "code",
   "execution_count": 68,
   "metadata": {},
   "outputs": [
    {
     "name": "stdout",
     "output_type": "stream",
     "text": [
      "nan\n",
      "nan\n"
     ]
    }
   ],
   "source": [
    "print(value)\n",
    "print(value_quadratic)"
   ]
  },
  {
   "cell_type": "code",
   "execution_count": 17,
   "metadata": {},
   "outputs": [
    {
     "name": "stdout",
     "output_type": "stream",
     "text": [
      "lag 0:  -0.007205660309202525\n",
      "lag 1:  -0.0019183952434179891\n",
      "lag 2:  0.0011692624424227748\n",
      "lag 3:  0.0011924314773994354\n",
      "lag 4:  -0.001917270284002118\n"
     ]
    },
    {
     "data": {
      "image/png": "[encoded data removed]",
      "text/plain": [
       "<Figure size 432x288 with 1 Axes>"
      ]
     },
     "metadata": {
      "needs_background": "light"
     },
     "output_type": "display_data"
    }
   ],
   "source": [
    "lags = correlation_query(series, number_of_lags = 5, print_lags = True, plot = True)"
   ]
  },
  {
   "cell_type": "code",
   "execution_count": 27,
   "metadata": {},
   "outputs": [],
   "source": [
    "eb_sample = empirical_bernstein(0.05,0.01,1,series)"
   ]
  },
  {
   "cell_type": "code",
   "execution_count": 28,
   "metadata": {},
   "outputs": [
    {
     "data": {
      "text/plain": [
       "1950-01-01    0.417022\n",
       "1950-01-02         NaN\n",
       "1950-01-03         NaN\n",
       "1950-01-04         NaN\n",
       "1950-01-05         NaN\n",
       "                ...   \n",
       "2223-09-30         NaN\n",
       "2223-10-01         NaN\n",
       "2223-10-02         NaN\n",
       "2223-10-03         NaN\n",
       "2223-10-04    0.631118\n",
       "Freq: D, Length: 99988, dtype: float64"
      ]
     },
     "execution_count": 28,
     "metadata": {},
     "output_type": "execute_result"
    }
   ],
   "source": [
    "eb_sample.resample('D').mean()"
   ]
  },
  {
   "cell_type": "markdown",
   "metadata": {},
   "source": [
    "## Query comparison"
   ]
  },
  {
   "cell_type": "code",
   "execution_count": 4,
   "metadata": {},
   "outputs": [
    {
     "data": {
      "text/plain": [
       "<matplotlib.axes._subplots.AxesSubplot at 0x7fd036a5b190>"
      ]
     },
     "execution_count": 4,
     "metadata": {},
     "output_type": "execute_result"
    },
    {
     "data": {
      "image/png": "[encoded data removed]",
      "text/plain": [
       "<Figure size 720x360 with 1 Axes>"
      ]
     },
     "metadata": {
      "needs_background": "light"
     },
     "output_type": "display_data"
    }
   ],
   "source": [
    "#Piecewise Stationary series\n",
    "\n",
    "#Parameters\n",
    "n = 100000\n",
    "mu = 2\n",
    "sigma = 0.5\n",
    "\n",
    "#Gaussian distribution\n",
    "np.random.seed(100)\n",
    "x = np.random.normal(mu, sigma, n)\n",
    "\n",
    "#Altered means\n",
    "x[10000:20000] += 3\n",
    "x[40000:50000] += 4.5\n",
    "x[60000:70000] += 0\n",
    "x[80000:90000] += 3\n",
    "\n",
    "#plot\n",
    "tidx = pd.date_range('1950-01-01', periods=n, freq='D') # freq='MS'set the frequency of date in months and start from day 1. You can use 'T' for minutes and so on\n",
    "series = pd.Series(x, index =tidx)\n",
    "series.plot(figsize=(10, 5))"
   ]
  },
  {
   "cell_type": "code",
   "execution_count": 15,
   "metadata": {},
   "outputs": [],
   "source": [
    "#Baseline Subsamples\n",
    "eb_sample = empirical_bernstein(0.05,0.01,3,series)\n",
    "uniform_sample = uniform_sampler(series, 5)"
   ]
  },
  {
   "cell_type": "code",
   "execution_count": 16,
   "metadata": {},
   "outputs": [],
   "source": [
    "#upscaled subsamples\n",
    "eb_sample_upscaled = eb_sample.resample('D').mean()\n",
    "uniform_sample_upscaled = uniform_sample.resample('D').mean()"
   ]
  },
  {
   "cell_type": "code",
   "execution_count": 17,
   "metadata": {},
   "outputs": [
    {
     "data": {
      "text/plain": [
       "1950-01-01    1.125117\n",
       "1950-01-02         NaN\n",
       "1950-01-03         NaN\n",
       "1950-01-04         NaN\n",
       "1950-01-05         NaN\n",
       "1950-01-06    2.257109\n",
       "1950-01-07         NaN\n",
       "1950-01-08         NaN\n",
       "1950-01-09         NaN\n",
       "1950-01-10         NaN\n",
       "1950-01-11    1.770987\n",
       "1950-01-12         NaN\n",
       "1950-01-13         NaN\n",
       "1950-01-14         NaN\n",
       "1950-01-15         NaN\n",
       "1950-01-16    1.947794\n",
       "1950-01-17         NaN\n",
       "1950-01-18         NaN\n",
       "1950-01-19         NaN\n",
       "1950-01-20         NaN\n",
       "Freq: D, dtype: float64"
      ]
     },
     "execution_count": 17,
     "metadata": {},
     "output_type": "execute_result"
    }
   ],
   "source": [
    "uniform_sample_upscaled.head(20)"
   ]
  },
  {
   "cell_type": "code",
   "execution_count": 18,
   "metadata": {},
   "outputs": [
    {
     "name": "stdout",
     "output_type": "stream",
     "text": [
      "Interpolation for 10th value: \n",
      "\n",
      "Real value:  1.770986507248688\n",
      "Empirical Bernstein:  1.770986507248688\n",
      "Uniform sampler:  1.770986507248688\n",
      "Online Sampler:\n",
      "------------\n",
      "\n",
      "Interpolation for 17400 value: \n",
      "\n",
      "Real value:  5.147529836671587\n",
      "Empirical Bernstein:  5.1509564727292005\n",
      "Uniform sampler:  4.910361655171728\n",
      "Online Sampler:\n",
      "------------\n",
      "\n",
      "Interpolation for 1003 value: \n",
      "\n",
      "Real value:  1.9178734829314086\n",
      "Empirical Bernstein:  2.924264480432045\n",
      "Uniform sampler:  1.782105532568902\n",
      "Online Sampler:\n",
      "------------\n",
      "\n"
     ]
    }
   ],
   "source": [
    "#interpolation querry\n",
    "#10\n",
    "print('Interpolation for 10th value: \\n')\n",
    "print('Real value: ', series[10])\n",
    "print('Empirical Bernstein: ', interpolation_query(eb_sample_upscaled, 10, method = 'linear'))\n",
    "print('Uniform sampler: ', interpolation_query(uniform_sample_upscaled, 10, method = 'linear'))\n",
    "print('Online Sampler:', )\n",
    "print('------------\\n')\n",
    "\n",
    "#17400\n",
    "print('Interpolation for 17400 value: \\n')\n",
    "print('Real value: ', series[17401])\n",
    "print('Empirical Bernstein: ', interpolation_query(eb_sample_upscaled, 17401, method = 'linear'))\n",
    "print('Uniform sampler: ', interpolation_query(uniform_sample_upscaled, 17401, method = 'linear'))\n",
    "print('Online Sampler:', )\n",
    "print('------------\\n')\n",
    "\n",
    "#1003\n",
    "\n",
    "print('Interpolation for 1003 value: \\n')\n",
    "print('Real value: ', series[1003])\n",
    "print('Empirical Bernstein: ', interpolation_query(eb_sample_upscaled, 1003, method = 'linear'))\n",
    "print('Uniform sampler: ', interpolation_query(uniform_sample_upscaled, 1003, method = 'linear'))\n",
    "print('Online Sampler:', )\n",
    "print('------------\\n')\n"
   ]
  },
  {
   "cell_type": "code",
   "execution_count": 19,
   "metadata": {},
   "outputs": [
    {
     "name": "stdout",
     "output_type": "stream",
     "text": [
      "Euclidean distance: \n",
      "\n",
      "Empirical Bernstein:  207.03947470446448\n",
      "Uniform:  178.60686394476375\n",
      "Online Sampler: \n",
      "\n",
      "------------ \n",
      "\n",
      "DTW distance: \n",
      "\n",
      "Empirical Bernstein:  46153.82164185152\n",
      "Uniform:  40637.68328494871\n",
      "Online Sampler: \n",
      "\n",
      "------------\n",
      "\n"
     ]
    }
   ],
   "source": [
    "# Distance metrics for linear interpolation\n",
    "\n",
    "print('Euclidean distance: \\n')\n",
    "print('Empirical Bernstein: ', interpolation_distance(series, eb_sample_upscaled))\n",
    "print('Uniform: ', interpolation_distance(series, uniform_sample_upscaled))\n",
    "print('Online Sampler: \\n', )\n",
    "print('------------ \\n')\n",
    "\n",
    "print('DTW distance: \\n')\n",
    "print('Empirical Bernstein: ', interpolation_distance(series, eb_sample_upscaled, distance = 'dtw'))\n",
    "print('Uniform: ', interpolation_distance(series, uniform_sample_upscaled, distance = 'dtw'))\n",
    "print('Online Sampler: \\n', )\n",
    "print('------------\\n')"
   ]
  },
  {
   "cell_type": "code",
   "execution_count": 21,
   "metadata": {},
   "outputs": [
    {
     "name": "stdout",
     "output_type": "stream",
     "text": [
      "Autocorrelation: \n",
      "\n",
      "Original time series: \n",
      "lag 0:  0.9165781908920051\n",
      "lag 1:  0.9163356767945378\n",
      "lag 2:  0.916456229259552\n",
      "lag 3:  0.9159109785164908\n",
      "lag 4:  0.9160145043489284\n",
      "lag 5:  0.9156005378224017\n",
      "lag 6:  0.9158505883523945\n",
      "lag 7:  0.9155048716888063\n",
      "lag 8:  0.9155798800822517\n",
      "lag 9:  0.9151567928977699\n",
      "Empirical Bernstein: \n",
      "lag 0:  0.003427924434583126\n",
      "lag 1:  -0.014911657481562809\n",
      "lag 2:  -0.02004890017267406\n",
      "lag 3:  0.035322317074204794\n",
      "lag 4:  0.000886306304977263\n",
      "lag 5:  0.028450172221066192\n",
      "lag 6:  0.022495155352725373\n",
      "lag 7:  -0.031077150287325297\n",
      "lag 8:  0.0076905335739679915\n",
      "lag 9:  0.009537426000761537\n",
      "Uniform: \n",
      "lag 0:  0.9167974232665349\n",
      "lag 1:  0.9155433843258257\n",
      "lag 2:  0.9156776398915739\n",
      "lag 3:  0.9143790106456892\n",
      "lag 4:  0.9121730941285333\n",
      "lag 5:  0.9140326034521267\n",
      "lag 6:  0.9126690975388864\n",
      "lag 7:  0.9111286488686366\n",
      "lag 8:  0.9111079120093657\n",
      "lag 9:  0.9102364427646076\n",
      "Online Sampler: \n",
      "\n",
      "------------ \n",
      "\n"
     ]
    }
   ],
   "source": [
    "# Autocorrelation\n",
    "\n",
    "print('Autocorrelation: \\n')\n",
    "print('Original time series: ')\n",
    "correlation_query(series, number_of_lags = 10, print_lags = True, plot = False)\n",
    "print('Empirical Bernstein: ')\n",
    "correlation_query(eb_sample, number_of_lags = 10, print_lags = True, plot = False)\n",
    "print('Uniform: ' )\n",
    "correlation_query(uniform_sample, number_of_lags = 10, print_lags = True, plot = False)\n",
    "print('Online Sampler: \\n', )\n",
    "print('------------ \\n')"
   ]
  },
  {
   "cell_type": "code",
   "execution_count": null,
   "metadata": {},
   "outputs": [],
   "source": []
  }
 ],
 "metadata": {
  "kernelspec": {
   "display_name": "Python 3",
   "language": "python",
   "name": "python3"
  },
  "language_info": {
   "codemirror_mode": {
    "name": "ipython",
    "version": 3
   },
   "file_extension": ".py",
   "mimetype": "text/x-python",
   "name": "python",
   "nbconvert_exporter": "python",
   "pygments_lexer": "ipython3",
   "version": "3.7.6"
  }
 },
 "nbformat": 4,
 "nbformat_minor": 4
}
