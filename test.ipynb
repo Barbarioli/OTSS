{
 "cells": [
  {
   "cell_type": "markdown",
   "metadata": {},
   "source": [
    "# Subsampling examples"
   ]
  },
  {
   "cell_type": "code",
   "execution_count": 7,
   "metadata": {},
   "outputs": [],
   "source": [
    "import matplotlib.pyplot as plt\n",
    "import numpy as np\n",
    "import os"
   ]
  },
  {
   "cell_type": "code",
   "execution_count": 2,
   "metadata": {},
   "outputs": [
    {
     "data": {
      "text/plain": [
       "'/Users/brunobarbarioli/Documents/Research/OTSS'"
      ]
     },
     "execution_count": 2,
     "metadata": {},
     "output_type": "execute_result"
    }
   ],
   "source": [
    "os.getcwd()"
   ]
  },
  {
   "cell_type": "markdown",
   "metadata": {},
   "source": [
    "## 1) Stationary univariate time series"
   ]
  },
  {
   "cell_type": "code",
   "execution_count": 3,
   "metadata": {
    "scrolled": true
   },
   "outputs": [],
   "source": [
    "from stationary.univariate_stationary_subsampler import us_subsampler"
   ]
  },
  {
   "cell_type": "markdown",
   "metadata": {},
   "source": [
    "### 1.1) Generated process (Gaussian white noise)"
   ]
  },
  {
   "cell_type": "code",
   "execution_count": 4,
   "metadata": {},
   "outputs": [],
   "source": [
    "#Generating white noise\n",
    "n = 1000000\n",
    "mu = 10\n",
    "sigma = 1\n",
    "x = np.random.normal(mu, sigma, n)"
   ]
  },
  {
   "cell_type": "code",
   "execution_count": 5,
   "metadata": {},
   "outputs": [
    {
     "data": {
      "text/plain": [
       "[<matplotlib.lines.Line2D at 0x119a598d0>]"
      ]
     },
     "execution_count": 5,
     "metadata": {},
     "output_type": "execute_result"
    },
    {
     "data": {
      "image/png": "[encoded data removed]",
      "text/plain": [
       "<Figure size 432x288 with 1 Axes>"
      ]
     },
     "metadata": {
      "needs_background": "light"
     },
     "output_type": "display_data"
    }
   ],
   "source": [
    "plt.plot(x)"
   ]
  },
  {
   "cell_type": "code",
   "execution_count": 7,
   "metadata": {},
   "outputs": [],
   "source": [
    "block_size = 10\n",
    "subsample = us_subsampler(0.5,0.1,7,block_size,sample = x)"
   ]
  },
  {
   "cell_type": "code",
   "execution_count": 8,
   "metadata": {},
   "outputs": [
    {
     "name": "stdout",
     "output_type": "stream",
     "text": [
      "3\n"
     ]
    }
   ],
   "source": [
    "print(len(subsample))"
   ]
  },
  {
   "cell_type": "code",
   "execution_count": 9,
   "metadata": {},
   "outputs": [
    {
     "name": "stdout",
     "output_type": "stream",
     "text": [
      "[array([ 9.5693543 ,  9.11981324, 10.47159332,  9.65638808,  9.51708374,\n",
      "        8.97260267,  9.7994385 ,  8.88102658, 10.70915564,  9.1556956 ]), array([10.58845624,  9.2826844 ,  9.83592352,  8.46723156,  9.49350883,\n",
      "        9.82721394, 11.23575529,  9.32432462, 10.1712225 , 10.32633737]), array([ 9.32744539, 10.28516607, 11.22016726,  9.82660203, 10.82795973,\n",
      "        9.37027512, 11.04521683,  8.87879299, 11.46783379, 11.44522768])]\n"
     ]
    }
   ],
   "source": [
    "print(subsample)"
   ]
  },
  {
   "cell_type": "code",
   "execution_count": 10,
   "metadata": {},
   "outputs": [
    {
     "name": "stdout",
     "output_type": "stream",
     "text": [
      "9.93664989365721\n"
     ]
    }
   ],
   "source": [
    "print(np.mean(subsample))"
   ]
  },
  {
   "cell_type": "code",
   "execution_count": 11,
   "metadata": {},
   "outputs": [
    {
     "name": "stdout",
     "output_type": "stream",
     "text": [
      "0.8235580997369291\n"
     ]
    }
   ],
   "source": [
    "print(np.std(subsample))"
   ]
  },
  {
   "cell_type": "code",
   "execution_count": 13,
   "metadata": {},
   "outputs": [],
   "source": [
    "block_size = 10\n",
    "subsample = us_subsampler(0.1,0.1,7,block_size,sample = x)"
   ]
  },
  {
   "cell_type": "code",
   "execution_count": 14,
   "metadata": {},
   "outputs": [
    {
     "name": "stdout",
     "output_type": "stream",
     "text": [
      "11\n"
     ]
    }
   ],
   "source": [
    "print(len(subsample))"
   ]
  },
  {
   "cell_type": "code",
   "execution_count": 15,
   "metadata": {},
   "outputs": [
    {
     "name": "stdout",
     "output_type": "stream",
     "text": [
      "subsample mean:  10.134570515864675\n",
      "subsample std:  0.8020746212588122\n"
     ]
    }
   ],
   "source": [
    "print('subsample mean: ', np.mean(subsample))\n",
    "print('subsample std: ', np.std(subsample))"
   ]
  },
  {
   "cell_type": "code",
   "execution_count": 36,
   "metadata": {},
   "outputs": [],
   "source": [
    "block_size = n/100\n",
    "subsample = us_subsampler(0.05,0.1,7,block_size,sample = x)"
   ]
  },
  {
   "cell_type": "code",
   "execution_count": 37,
   "metadata": {},
   "outputs": [
    {
     "name": "stdout",
     "output_type": "stream",
     "text": [
      "sample size: 272\n",
      "subsample mean:  10.054952699352086\n",
      "subsample std:  1.041377262088284\n"
     ]
    }
   ],
   "source": [
    "print('sample size:', len(subsample))\n",
    "print('subsample mean: ', np.mean(subsample))\n",
    "print('subsample std: ', np.std(subsample))"
   ]
  },
  {
   "cell_type": "code",
   "execution_count": 42,
   "metadata": {
    "scrolled": true
   },
   "outputs": [],
   "source": [
    "block_size = 10\n",
    "subsample = us_subsampler(0.01,0.1,7,block_size,sample = x)"
   ]
  },
  {
   "cell_type": "code",
   "execution_count": 48,
   "metadata": {},
   "outputs": [
    {
     "name": "stdout",
     "output_type": "stream",
     "text": [
      "sample size: 2185\n",
      "subsample mean:  10.004111277800597\n",
      "subsample std:  1.0006045244172528\n"
     ]
    }
   ],
   "source": [
    "print('sample size:', len(subsample))\n",
    "print('subsample mean: ', np.mean(subsample))\n",
    "print('subsample std: ', np.std(subsample))"
   ]
  },
  {
   "cell_type": "code",
   "execution_count": null,
   "metadata": {},
   "outputs": [],
   "source": [
    "subsample = us_subsampler(0.01,0.1,7,10,x)"
   ]
  },
  {
   "cell_type": "code",
   "execution_count": 6,
   "metadata": {},
   "outputs": [
    {
     "name": "stdout",
     "output_type": "stream",
     "text": [
      "sample size: 2296\n",
      "subsample mean:  9.990669551382327\n",
      "subsample std:  1.0059337918330062\n"
     ]
    }
   ],
   "source": [
    "print('sample size:', len(subsample))\n",
    "print('subsample mean: ', np.mean(subsample))\n",
    "print('subsample std: ', np.std(subsample))"
   ]
  },
  {
   "cell_type": "code",
   "execution_count": null,
   "metadata": {},
   "outputs": [],
   "source": [
    "subsample = us_subsampler(0.005,0.1,7,10,x)"
   ]
  },
  {
   "cell_type": "code",
   "execution_count": 8,
   "metadata": {},
   "outputs": [
    {
     "name": "stdout",
     "output_type": "stream",
     "text": [
      "sample size: 6443\n",
      "subsample mean:  10.005570939610735\n",
      "subsample std:  0.9973280307596822\n"
     ]
    }
   ],
   "source": [
    "print('sample size:', len(subsample))\n",
    "print('subsample mean: ', np.mean(subsample))\n",
    "print('subsample std: ', np.std(subsample))"
   ]
  },
  {
   "cell_type": "code",
   "execution_count": null,
   "metadata": {},
   "outputs": [],
   "source": [
    "subsample = us_subsampler(0.005,0.1,7,10,x)"
   ]
  },
  {
   "cell_type": "markdown",
   "metadata": {},
   "source": [
    "### 1.2) Real process (description)"
   ]
  },
  {
   "cell_type": "code",
   "execution_count": null,
   "metadata": {},
   "outputs": [],
   "source": []
  },
  {
   "cell_type": "markdown",
   "metadata": {},
   "source": [
    "## 2) Nonstationary univariate time series"
   ]
  },
  {
   "cell_type": "code",
   "execution_count": null,
   "metadata": {},
   "outputs": [],
   "source": [
    "from univariate_nonstationary_subsampler import subsampler"
   ]
  },
  {
   "cell_type": "markdown",
   "metadata": {},
   "source": [
    "### 2.1) Generated process (Gaussian white noise with trend)\n"
   ]
  },
  {
   "cell_type": "code",
   "execution_count": 3,
   "metadata": {},
   "outputs": [],
   "source": [
    "#Generating white noise\n",
    "n = 10000\n",
    "mu = 0\n",
    "sigma = 1\n",
    "x = np.random.normal(mu, sigma, n)\n",
    "\n",
    "#Generating time-series\n",
    "t = np.array(range(n))/1000\n",
    "y = t + x"
   ]
  },
  {
   "cell_type": "code",
   "execution_count": 4,
   "metadata": {},
   "outputs": [
    {
     "data": {
      "text/plain": [
       "[<matplotlib.lines.Line2D at 0x11dacce10>]"
      ]
     },
     "execution_count": 4,
     "metadata": {},
     "output_type": "execute_result"
    },
    {
     "data": {
      "image/png": "[encoded data removed]",
      "text/plain": [
       "<Figure size 432x288 with 1 Axes>"
      ]
     },
     "metadata": {
      "needs_background": "light"
     },
     "output_type": "display_data"
    }
   ],
   "source": [
    "plt.plot(y)"
   ]
  },
  {
   "cell_type": "code",
   "execution_count": null,
   "metadata": {},
   "outputs": [],
   "source": []
  },
  {
   "cell_type": "markdown",
   "metadata": {},
   "source": [
    "### 2.2) Real process (description)"
   ]
  },
  {
   "cell_type": "code",
   "execution_count": null,
   "metadata": {},
   "outputs": [],
   "source": []
  },
  {
   "cell_type": "markdown",
   "metadata": {},
   "source": [
    "## 3) Stationary multivariate time series"
   ]
  },
  {
   "cell_type": "code",
   "execution_count": 5,
   "metadata": {},
   "outputs": [],
   "source": [
    "from mpl_toolkits.mplot3d import Axes3D\n",
    "from matplotlib import cm\n",
    "from matplotlib.ticker import LinearLocator, FormatStrFormatter"
   ]
  },
  {
   "cell_type": "code",
   "execution_count": 6,
   "metadata": {},
   "outputs": [],
   "source": [
    "from stationary.multivariate_stationary_subsampler import ms_subsampler"
   ]
  },
  {
   "cell_type": "code",
   "execution_count": 7,
   "metadata": {},
   "outputs": [
    {
     "name": "stdout",
     "output_type": "stream",
     "text": [
      "[ 8.78004833  9.26898378  8.44016619 ... 10.3767644  10.36999665\n",
      " 11.19859743]\n",
      "[10.74882085 10.63096636  9.10654935 ... 10.49699345  7.73088356\n",
      " 10.56533931]\n",
      "[[ 8.78004833 10.74882085]\n",
      " [ 9.26898378 10.63096636]\n",
      " [ 8.44016619  9.10654935]\n",
      " ...\n",
      " [10.3767644  10.49699345]\n",
      " [10.36999665  7.73088356]\n",
      " [11.19859743 10.56533931]]\n"
     ]
    }
   ],
   "source": [
    "#Generating white noise\n",
    "n = 1000000\n",
    "mu_1 = 10\n",
    "sigma_1 = 1\n",
    "mu_2 = 10\n",
    "sigma_2 = 1\n",
    "x_1 = np.random.normal(mu_1, sigma_1, n)\n",
    "print(x_1)\n",
    "x_2 = np.random.normal(mu_2, sigma_2, n)\n",
    "print(x_2)\n",
    "x = np.vstack((x_1,x_2)).T\n",
    "print(x)"
   ]
  },
  {
   "cell_type": "code",
   "execution_count": 6,
   "metadata": {},
   "outputs": [
    {
     "data": {
      "text/plain": [
       "array([[8.73802631, 9.0399025 ]])"
      ]
     },
     "execution_count": 6,
     "metadata": {},
     "output_type": "execute_result"
    }
   ],
   "source": [
    "x[2:3]"
   ]
  },
  {
   "cell_type": "code",
   "execution_count": 11,
   "metadata": {},
   "outputs": [
    {
     "name": "stdout",
     "output_type": "stream",
     "text": [
      "number of samples:  400\n",
      "lower bound:  [-1.e+09 -1.e+09]\n",
      "upper bound:  [1.e+09 1.e+09]\n",
      "convergence criteria:  [-1.1e+09 -1.1e+09] [9.e+08 9.e+08]\n",
      "number of samples:  600\n",
      "lower bound:  [9.32413761 9.38822093]\n",
      "upper bound:  [1.e+09 1.e+09]\n",
      "convergence criteria:  [10.25655137 10.32704303] [9.50823168 9.59195303]\n"
     ]
    }
   ],
   "source": [
    "block_size = 100\n",
    "subsample = ms_subsampler(0.1,0.2,2,7,block_size,sample = x)"
   ]
  },
  {
   "cell_type": "code",
   "execution_count": 12,
   "metadata": {},
   "outputs": [
    {
     "data": {
      "text/plain": [
       "600"
      ]
     },
     "execution_count": 12,
     "metadata": {},
     "output_type": "execute_result"
    }
   ],
   "source": [
    "subsample.size"
   ]
  },
  {
   "cell_type": "code",
   "execution_count": 13,
   "metadata": {},
   "outputs": [
    {
     "name": "stdout",
     "output_type": "stream",
     "text": [
      "number of samples:  400\n",
      "lower bound:  [-1.e+09 -1.e+09]\n",
      "upper bound:  [1.e+09 1.e+09]\n",
      "convergence criteria:  [-1.05e+09 -1.05e+09] [9.5e+08 9.5e+08]\n",
      "number of samples:  600\n",
      "lower bound:  [9.39688409 9.42443644]\n",
      "upper bound:  [1.e+09 1.e+09]\n",
      "convergence criteria:  [9.86672829 9.89565826] [10.11618016 10.12699122]\n",
      "number of samples:  800\n",
      "lower bound:  [9.60083507 9.68532589]\n",
      "upper bound:  [10.64861069 10.65999076]\n",
      "convergence criteria:  [10.08087683 10.16959219] [9.83458753 9.90346377]\n"
     ]
    }
   ],
   "source": [
    "block_size = 100\n",
    "subsample = ms_subsampler(0.05,0.2,2,7,block_size,sample = x)"
   ]
  },
  {
   "cell_type": "code",
   "execution_count": 14,
   "metadata": {},
   "outputs": [
    {
     "data": {
      "text/plain": [
       "800"
      ]
     },
     "execution_count": 14,
     "metadata": {},
     "output_type": "execute_result"
    }
   ],
   "source": [
    "subsample.size"
   ]
  },
  {
   "cell_type": "code",
   "execution_count": 15,
   "metadata": {},
   "outputs": [
    {
     "name": "stdout",
     "output_type": "stream",
     "text": [
      "number of samples:  400\n",
      "lower bound:  [-1.e+09 -1.e+09]\n",
      "upper bound:  [1.e+09 1.e+09]\n",
      "convergence criteria:  [-1.01e+09 -1.01e+09] [9.9e+08 9.9e+08]\n",
      "number of samples:  600\n",
      "lower bound:  [9.31319757 9.41124506]\n",
      "upper bound:  [1.e+09 1.e+09]\n",
      "convergence criteria:  [9.40632955 9.50535751] [10.48864269 10.5998286 ]\n",
      "number of samples:  800\n",
      "lower bound:  [9.56451466 9.61746531]\n",
      "upper bound:  [10.59458857 10.70689757]\n",
      "convergence criteria:  [9.66015981 9.71363996] [10.23377169 10.28775491]\n",
      "number of samples:  1000\n",
      "lower bound:  [9.59807997 9.66074955]\n",
      "upper bound:  [10.33714312 10.39167163]\n",
      "convergence criteria:  [9.69406077 9.75735705] [10.18354506 10.24678251]\n",
      "number of samples:  1200\n",
      "lower bound:  [9.691737   9.75220496]\n",
      "upper bound:  [10.28640915 10.35028536]\n",
      "convergence criteria:  [9.78865437 9.84972701] [10.10164863 10.16095276]\n",
      "number of samples:  1400\n",
      "lower bound:  [9.71137057 9.77688731]\n",
      "upper bound:  [10.20368549 10.26358864]\n",
      "convergence criteria:  [9.80848428 9.87465618] [10.09745204 10.16095276]\n",
      "number of samples:  1600\n",
      "lower bound:  [9.7698029  9.80954657]\n",
      "upper bound:  [10.19944651 10.26358864]\n",
      "convergence criteria:  [9.86750093 9.90764203] [10.09745204 10.14383509]\n",
      "number of samples:  1800\n",
      "lower bound:  [9.78104504 9.8296078 ]\n",
      "upper bound:  [10.19944651 10.24629807]\n",
      "convergence criteria:  [9.87885549 9.92790388] [10.06099416 10.11245149]\n",
      "number of samples:  2000\n",
      "lower bound:  [9.78867081 9.83669474]\n",
      "upper bound:  [10.16262037 10.21459747]\n",
      "convergence criteria:  [9.88655751 9.93506168] [10.04658218 10.09662412]\n",
      "number of samples:  2200\n",
      "lower bound:  [9.80422949 9.84272903]\n",
      "upper bound:  [10.1480628  10.19861022]\n",
      "convergence criteria:  [9.90227179 9.94115632] [10.03376437 10.07439029]\n",
      "number of samples:  2400\n",
      "lower bound:  [9.81967425 9.84272903]\n",
      "upper bound:  [10.13511553 10.17615181]\n",
      "convergence criteria:  [9.91787099 9.94115632] [10.02977602 10.05319621]\n",
      "number of samples:  2600\n",
      "lower bound:  [9.83182027 9.84564016]\n",
      "upper bound:  [10.13108689 10.15474364]\n",
      "convergence criteria:  [9.93013847 9.94409656] [10.0212748  10.03926828]\n",
      "number of samples:  2800\n",
      "lower bound:  [9.83835678 9.84949127]\n",
      "upper bound:  [10.1224998  10.14067503]\n",
      "convergence criteria:  [9.93674035 9.94798618] [10.01296244 10.02718019]\n",
      "number of samples:  3000\n",
      "lower bound:  [9.84249727 9.85727691]\n",
      "upper bound:  [10.11410348 10.12846484]\n",
      "convergence criteria:  [9.94092224 9.95584968] [10.00344802 10.02116555]\n",
      "number of samples:  3200\n",
      "lower bound:  [9.84662275 9.8613655 ]\n",
      "upper bound:  [10.10449295 10.12238945]\n",
      "convergence criteria:  [9.94508898 9.95997915] [ 9.99610539 10.01361202]\n",
      "number of samples:  3400\n",
      "lower bound:  [9.8512994  9.88124979]\n",
      "upper bound:  [10.09707616 10.11475961]\n",
      "convergence criteria:  [9.9498124  9.98006229] [ 9.98989406 10.01361202]\n",
      "number of samples:  3600\n",
      "lower bound:  [9.86115868 9.88918363]\n",
      "upper bound:  [10.09080208 10.11475961]\n",
      "convergence criteria:  [9.95977027 9.98807547] [ 9.98989406 10.01361202]\n",
      "number of samples:  3800\n",
      "lower bound:  [9.87752947 9.88918363]\n",
      "upper bound:  [10.09080208 10.11475961]\n",
      "convergence criteria:  [9.97630477 9.98807547] [ 9.98989406 10.00903727]\n",
      "number of samples:  4000\n",
      "lower bound:  [9.87833175 9.89298395]\n",
      "upper bound:  [10.09080208 10.11013866]\n",
      "convergence criteria:  [9.97711507 9.99191378] [ 9.98989406 10.00903727]\n",
      "number of samples:  4200\n",
      "lower bound:  [9.88656181 9.89314993]\n",
      "upper bound:  [10.09080208 10.11013866]\n",
      "convergence criteria:  [9.98542743 9.99208143] [ 9.98989406 10.00171487]\n",
      "number of samples:  4400\n",
      "lower bound:  [9.89895611 9.89949932]\n",
      "upper bound:  [10.09080208 10.1027423 ]\n",
      "convergence criteria:  [9.99794567 9.99849431] [ 9.98989406 10.00105818]\n"
     ]
    }
   ],
   "source": [
    "block_size = 100\n",
    "subsample = ms_subsampler(0.01,0.2,2,7,block_size,sample = x)"
   ]
  },
  {
   "cell_type": "code",
   "execution_count": 16,
   "metadata": {},
   "outputs": [
    {
     "data": {
      "text/plain": [
       "4400"
      ]
     },
     "execution_count": 16,
     "metadata": {},
     "output_type": "execute_result"
    }
   ],
   "source": [
    "subsample.size"
   ]
  },
  {
   "cell_type": "markdown",
   "metadata": {},
   "source": [
    "## 4) Nonstationary multivariate time series"
   ]
  },
  {
   "cell_type": "code",
   "execution_count": null,
   "metadata": {},
   "outputs": [],
   "source": []
  },
  {
   "cell_type": "markdown",
   "metadata": {},
   "source": [
    "## CUMSUM "
   ]
  },
  {
   "cell_type": "code",
   "execution_count": 3,
   "metadata": {},
   "outputs": [],
   "source": [
    "import numpy as np\n",
    "import pandas as pd"
   ]
  },
  {
   "cell_type": "code",
   "execution_count": 2,
   "metadata": {},
   "outputs": [],
   "source": [
    "def cusum(x,mean=0,K=0):\n",
    "    \"\"\"Tabular CUSUM per Montgomery,D. 1996 \"Introduction to Statistical Process Control\" p318 \n",
    "    x    : series to analyze\n",
    "    mean : expected process mean\n",
    "    K    : reference value, allowance, slack value-- suggest K=1/2 of the shift to be detected.\n",
    "\n",
    "    Returns:\n",
    "    x  Original series\n",
    "    Cp positive CUSUM\n",
    "    Cm negative CUSUM\n",
    "    \"\"\"\n",
    "    Cp=(x*0).copy()\n",
    "    Cm=Cp.copy()\n",
    "    for ii in np.arange(len(x)):\n",
    "        if ii == 0:\n",
    "            Cp[ii]=x[ii]\n",
    "            Cm[ii]=x[ii]\n",
    "        else:\n",
    "            Cp[ii]=np.max([0,x[ii]-(mean+K)+Cp[ii-1]])\n",
    "            Cm[ii]=np.max([0,(mean-K)-x[ii]+Cm[ii-1]])\n",
    "    return({'x':x, 'Cp': Cp, 'Cm': Cm})"
   ]
  },
  {
   "cell_type": "code",
   "execution_count": 3,
   "metadata": {
    "scrolled": false
   },
   "outputs": [
    {
     "data": {
      "text/plain": [
       "<matplotlib.axes._subplots.AxesSubplot at 0x11d3ee050>"
      ]
     },
     "execution_count": 3,
     "metadata": {},
     "output_type": "execute_result"
    },
    {
     "data": {
      "image/png": "[encoded data removed]",
      "text/plain": [
       "<Figure size 432x288 with 1 Axes>"
      ]
     },
     "metadata": {
      "needs_background": "light"
     },
     "output_type": "display_data"
    }
   ],
   "source": [
    "pd.DataFrame(cusum(np.random.randn(200)+np.repeat([0,0.5],100),K=0.25)).plot()"
   ]
  },
  {
   "cell_type": "code",
   "execution_count": 2,
   "metadata": {},
   "outputs": [],
   "source": [
    "def detection(x, threshold=1, drift=0, ending=False, show=True, ax=None):\n",
    "    \"\"\"Tabular CUSUM per Montgomery,D. 1996 \"Introduction to Statistical Process Control\" p318 \n",
    "    x    : series to analyze\n",
    "    mean : expected process mean\n",
    "    K    : reference value, allowance, slack value-- suggest K=1/2 of the shift to be detected.\n",
    "\n",
    "    Returns:\n",
    "    x  Original series\n",
    "    Cp positive CUSUM\n",
    "    Cm negative CUSUM\n",
    "    \"\"\"\n",
    "    x = np.atleast_1d(x).astype('float64')\n",
    "    gp, gn = np.zeros(x.size), np.zeros(x.size)\n",
    "    ta, tai, taf = np.array([[], [], []], dtype=int)\n",
    "    tap, tan = 0, 0\n",
    "    amp = np.array([])\n",
    "    ta = np.append(ta,0)\n",
    "    # Find changes (online form)\n",
    "    for i in range(1, x.size):\n",
    "        s = x[i] - x[i-1]\n",
    "        gp[i] = gp[i-1] + s - drift  # cumulative sum for + change\n",
    "        gn[i] = gn[i-1] - s - drift  # cumulative sum for - change\n",
    "        if gp[i] < 0:\n",
    "            gp[i], tap = 0, i\n",
    "        if gn[i] < 0:\n",
    "            gn[i], tan = 0, i\n",
    "        if gp[i] > threshold or gn[i] > threshold:  # change detected!\n",
    "            ta = np.append(ta, i)    # alarm index\n",
    "            tai = np.append(tai, tap if gp[i] > threshold else tan)  # start\n",
    "            gp[i], gn[i] = 0, 0      # reset alarm\n",
    "\n",
    "    if show:\n",
    "        _plot(x, threshold, drift, ending, ax, ta, tai, taf, gp, gn)\n",
    "\n",
    "    return ta, tai, taf, amp\n",
    "\n",
    "\n",
    "def _plot(x, threshold, drift, ending, ax, ta, tai, taf, gp, gn):\n",
    "    \"\"\"Plot results of the detect_cusum function, see its help.\"\"\"\n",
    "\n",
    "    try:\n",
    "        import matplotlib.pyplot as plt\n",
    "    except ImportError:\n",
    "        print('matplotlib is not available.')\n",
    "    else:\n",
    "        if ax is None:\n",
    "            _, (ax1, ax2) = plt.subplots(2, 1, figsize=(8, 6))\n",
    "\n",
    "        t = range(x.size)\n",
    "        ax1.plot(t, x, 'b-', lw=2)\n",
    "        if len(ta):\n",
    "            ax1.plot(tai, x[tai], '>', mfc='g', mec='g', ms=10,\n",
    "                     label='Start')\n",
    "            if ending:\n",
    "                ax1.plot(taf, x[taf], '<', mfc='g', mec='g', ms=10,\n",
    "                         label='Ending')\n",
    "            ax1.plot(ta, x[ta], 'o', mfc='r', mec='r', mew=1, ms=5,\n",
    "                     label='Alarm')\n",
    "            ax1.legend(loc='best', framealpha=.5, numpoints=1)\n",
    "        ax1.set_xlim(-.01*x.size, x.size*1.01-1)\n",
    "        ax1.set_xlabel('Data #', fontsize=14)\n",
    "        ax1.set_ylabel('Amplitude', fontsize=14)\n",
    "        ymin, ymax = x[np.isfinite(x)].min(), x[np.isfinite(x)].max()\n",
    "        yrange = ymax - ymin if ymax > ymin else 1\n",
    "        ax1.set_ylim(ymin - 0.1*yrange, ymax + 0.1*yrange)\n",
    "        ax1.set_title('Time series and detected changes ' +\n",
    "                      '(threshold= %.3g, drift= %.3g): N changes = %d'\n",
    "                      % (threshold, drift, len(tai)))\n",
    "        ax2.plot(t, gp, 'y-', label='+')\n",
    "        ax2.plot(t, gn, 'm-', label='-')\n",
    "        ax2.set_xlim(-.01*x.size, x.size*1.01-1)\n",
    "        ax2.set_xlabel('Data #', fontsize=14)\n",
    "        ax2.set_ylim(-0.01*threshold, 1.1*threshold)\n",
    "        ax2.axhline(threshold, color='r')\n",
    "        ax1.set_ylabel('Amplitude', fontsize=14)\n",
    "        ax2.set_title('Time series of the cumulative sums of ' +\n",
    "                      'positive and negative changes')\n",
    "        ax2.legend(loc='best', framealpha=.5, numpoints=1)\n",
    "        plt.tight_layout()\n",
    "        plt.show()"
   ]
  },
  {
   "cell_type": "code",
   "execution_count": 4,
   "metadata": {},
   "outputs": [
    {
     "data": {
      "image/png": "[encoded data removed]",
      "text/plain": [
       "<Figure size 576x432 with 2 Axes>"
      ]
     },
     "metadata": {
      "needs_background": "light"
     },
     "output_type": "display_data"
    }
   ],
   "source": [
    "x = np.random.randn(300)/5\n",
    "x[100:200] += 2.5\n",
    "ta, tai, taf, amp = detection(x, 2, .02, False, True)"
   ]
  },
  {
   "cell_type": "code",
   "execution_count": null,
   "metadata": {},
   "outputs": [],
   "source": [
    "x = np.random.randn(300)/5\n",
    "x[100:200] += 1.0\n",
    "ta, tai, taf, amp = detection(x, 1, .02, False, True)"
   ]
  },
  {
   "cell_type": "code",
   "execution_count": 4,
   "metadata": {},
   "outputs": [],
   "source": [
    "def detection(x,queue, threshold=1, drift=0, ending=False, show=True, ax=None):\n",
    "    \"\"\"Tabular CUSUM per Montgomery,D. 1996 \"Introduction to Statistical Process Control\" p318 \n",
    "    x    : series to analyze\n",
    "    mean : expected process mean\n",
    "    K    : reference value, allowance, slack value-- suggest K=1/2 of the shift to be detected.\n",
    "\n",
    "    Returns:\n",
    "    x  Original series\n",
    "    Cp positive CUSUM\n",
    "    Cm negative CUSUM\n",
    "    \"\"\"\n",
    "    print(\"breakpoint started\")\n",
    "    x = np.atleast_1d(x).astype('float64')\n",
    "    gp, gn = np.zeros(x.size), np.zeros(x.size)\n",
    "    ta, tai, taf = np.array([[], [], []], dtype=int)\n",
    "    tap, tan = 0, 0\n",
    "    amp = np.array([])\n",
    "    ta = np.append(ta,0)\n",
    "    queue_fake = []\n",
    "    # Find changes (online form)\n",
    "    for i in range(1, x.size):        \n",
    "        s = x[i] - x[i-1]\n",
    "        gp[i] = gp[i-1] + s - drift  # cumulative sum for + change\n",
    "        gn[i] = gn[i-1] - s - drift  # cumulative sum for - change\n",
    "        if gp[i] < 0:\n",
    "            gp[i], tap = 0, i\n",
    "        if gn[i] < 0:\n",
    "            gn[i], tan = 0, i\n",
    "        if gp[i] > threshold or gn[i] > threshold:  # change detected!\n",
    "            ta = np.append(ta, i)    # alarm index\n",
    "            try:  \n",
    "                queue_fake.append((ta[-2], ta[-1]))\n",
    "                queue.put((ta[-2], ta[-1]))\n",
    "            except IndexError:\n",
    "                print(ta[-1])\n",
    "                print('moving to next block')\n",
    "            tai = np.append(tai, tap if gp[i] > threshold else tan)  # start\n",
    "            gp[i], gn[i] = 0, 0      # reset alarm\n",
    "    #print(queue_fake)\n",
    "            \n",
    "    if show:\n",
    "        _plot(x, threshold, drift, ending, ax, ta, tai, taf, gp, gn)\n",
    "\n",
    "    return ta, tai, taf, amp\n",
    "\n",
    "\n",
    "def _plot(x, threshold, drift, ending, ax, ta, tai, taf, gp, gn):\n",
    "    \"\"\"Plot results of the detect_cusum function, see its help.\"\"\"\n",
    "\n",
    "    try:\n",
    "        import matplotlib.pyplot as plt\n",
    "    except ImportError:\n",
    "        print('matplotlib is not available.')\n",
    "    else:\n",
    "        if ax is None:\n",
    "            _, (ax1, ax2) = plt.subplots(2, 1, figsize=(8, 6))\n",
    "\n",
    "        t = range(x.size)\n",
    "        ax1.plot(t, x, 'b-', lw=2)\n",
    "        if len(ta):\n",
    "            ax1.plot(tai, x[tai], '>', mfc='g', mec='g', ms=10,\n",
    "                     label='Start')\n",
    "            if ending:\n",
    "                ax1.plot(taf, x[taf], '<', mfc='g', mec='g', ms=10,\n",
    "                         label='Ending')\n",
    "            ax1.plot(ta, x[ta], 'o', mfc='r', mec='r', mew=1, ms=5,\n",
    "                     label='Alarm')\n",
    "            ax1.legend(loc='best', framealpha=.5, numpoints=1)\n",
    "        ax1.set_xlim(-.01*x.size, x.size*1.01-1)\n",
    "        ax1.set_xlabel('Data #', fontsize=14)\n",
    "        ax1.set_ylabel('Amplitude', fontsize=14)\n",
    "        ymin, ymax = x[np.isfinite(x)].min(), x[np.isfinite(x)].max()\n",
    "        yrange = ymax - ymin if ymax > ymin else 1\n",
    "        ax1.set_ylim(ymin - 0.1*yrange, ymax + 0.1*yrange)\n",
    "        ax1.set_title('Time series and detected changes ' +\n",
    "                      '(threshold= %.3g, drift= %.3g): N changes = %d'\n",
    "                      % (threshold, drift, len(tai)))\n",
    "        ax2.plot(t, gp, 'y-', label='+')\n",
    "        ax2.plot(t, gn, 'm-', label='-')\n",
    "        ax2.set_xlim(-.01*x.size, x.size*1.01-1)\n",
    "        ax2.set_xlabel('Data #', fontsize=14)\n",
    "        ax2.set_ylim(-0.01*threshold, 1.1*threshold)\n",
    "        ax2.axhline(threshold, color='r')\n",
    "        ax1.set_ylabel('Amplitude', fontsize=14)\n",
    "        ax2.set_title('Time series of the cumulative sums of ' +\n",
    "                      'positive and negative changes')\n",
    "        ax2.legend(loc='best', framealpha=.5, numpoints=1)\n",
    "        plt.tight_layout()\n",
    "        plt.show()"
   ]
  },
  {
   "cell_type": "markdown",
   "metadata": {},
   "source": [
    "## Full model"
   ]
  },
  {
   "cell_type": "code",
   "execution_count": 1,
   "metadata": {},
   "outputs": [],
   "source": [
    "import multiprocessing as mp\n",
    "import time\n",
    "import numpy as np\n",
    "import pandas as pd\n",
    "import matplotlib.pyplot as plt"
   ]
  },
  {
   "cell_type": "code",
   "execution_count": 2,
   "metadata": {},
   "outputs": [],
   "source": [
    "queue = mp.Queue()\n"
   ]
  },
  {
   "cell_type": "code",
   "execution_count": 3,
   "metadata": {},
   "outputs": [],
   "source": [
    "def detection(x,queue, threshold=1, drift=0, ending=False, show=True, ax=None):\n",
    "    \"\"\"Tabular CUSUM per Montgomery,D. 1996 \"Introduction to Statistical Process Control\" p318 \n",
    "    x    : series to analyze\n",
    "    mean : expected process mean\n",
    "    K    : reference value, allowance, slack value-- suggest K=1/2 of the shift to be detected.\n",
    "\n",
    "    Returns:\n",
    "    x  Original series\n",
    "    Cp positive CUSUM\n",
    "    Cm negative CUSUM\n",
    "    \"\"\"\n",
    "    print(\"breakpoint started\")\n",
    "    x = np.atleast_1d(x).astype('float64')\n",
    "    gp, gn = np.zeros(x.size), np.zeros(x.size)\n",
    "    ta, tai, taf = np.array([[], [], []], dtype=int)\n",
    "    tap, tan = 0, 0\n",
    "    amp = np.array([])\n",
    "    ta = np.append(ta,0)\n",
    "    queue_fake = []\n",
    "    # Find changes (online form)\n",
    "    for i in range(1, x.size):        \n",
    "        s = x[i] - x[i-1]\n",
    "        gp[i] = gp[i-1] + s - drift  # cumulative sum for + change\n",
    "        gn[i] = gn[i-1] - s - drift  # cumulative sum for - change\n",
    "        if gp[i] < 0:\n",
    "            gp[i], tap = 0, i\n",
    "        if gn[i] < 0:\n",
    "            gn[i], tan = 0, i\n",
    "        if gp[i] > threshold or gn[i] > threshold:  # change detected!\n",
    "            ta = np.append(ta, i)    # alarm index\n",
    "            try:  \n",
    "                queue_fake.append((ta[-2], ta[-1]))\n",
    "                queue.put((ta[-2], ta[-1]))\n",
    "            except IndexError:\n",
    "                print(ta[-1])\n",
    "                print('moving to next block')\n",
    "            tai = np.append(tai, tap if gp[i] > threshold else tan)  # start\n",
    "            gp[i], gn[i] = 0, 0      # reset alarm\n",
    "    #print(queue_fake)\n",
    "            \n",
    "    if show:\n",
    "        _plot(x, threshold, drift, ending, ax, ta, tai, taf, gp, gn)\n",
    "\n",
    "    return ta, tai, taf, amp\n",
    "\n",
    "\n",
    "def _plot(x, threshold, drift, ending, ax, ta, tai, taf, gp, gn):\n",
    "    \"\"\"Plot results of the detect_cusum function, see its help.\"\"\"\n",
    "\n",
    "    try:\n",
    "        import matplotlib.pyplot as plt\n",
    "    except ImportError:\n",
    "        print('matplotlib is not available.')\n",
    "    else:\n",
    "        if ax is None:\n",
    "            _, (ax1, ax2) = plt.subplots(2, 1, figsize=(8, 6))\n",
    "\n",
    "        t = range(x.size)\n",
    "        ax1.plot(t, x, 'b-', lw=2)\n",
    "        if len(ta):\n",
    "            ax1.plot(tai, x[tai], '>', mfc='g', mec='g', ms=10,\n",
    "                     label='Start')\n",
    "            if ending:\n",
    "                ax1.plot(taf, x[taf], '<', mfc='g', mec='g', ms=10,\n",
    "                         label='Ending')\n",
    "            ax1.plot(ta, x[ta], 'o', mfc='r', mec='r', mew=1, ms=5,\n",
    "                     label='Alarm')\n",
    "            ax1.legend(loc='best', framealpha=.5, numpoints=1)\n",
    "        ax1.set_xlim(-.01*x.size, x.size*1.01-1)\n",
    "        ax1.set_xlabel('Data #', fontsize=14)\n",
    "        ax1.set_ylabel('Amplitude', fontsize=14)\n",
    "        ymin, ymax = x[np.isfinite(x)].min(), x[np.isfinite(x)].max()\n",
    "        yrange = ymax - ymin if ymax > ymin else 1\n",
    "        ax1.set_ylim(ymin - 0.1*yrange, ymax + 0.1*yrange)\n",
    "        ax1.set_title('Time series and detected changes ' +\n",
    "                      '(threshold= %.3g, drift= %.3g): N changes = %d'\n",
    "                      % (threshold, drift, len(tai)))\n",
    "        ax2.plot(t, gp, 'y-', label='+')\n",
    "        ax2.plot(t, gn, 'm-', label='-')\n",
    "        ax2.set_xlim(-.01*x.size, x.size*1.01-1)\n",
    "        ax2.set_xlabel('Data #', fontsize=14)\n",
    "        ax2.set_ylim(-0.01*threshold, 1.1*threshold)\n",
    "        ax2.axhline(threshold, color='r')\n",
    "        ax1.set_ylabel('Amplitude', fontsize=14)\n",
    "        ax2.set_title('Time series of the cumulative sums of ' +\n",
    "                      'positive and negative changes')\n",
    "        ax2.legend(loc='best', framealpha=.5, numpoints=1)\n",
    "        plt.tight_layout()\n",
    "        plt.show()"
   ]
  },
  {
   "cell_type": "code",
   "execution_count": 52,
   "metadata": {},
   "outputs": [],
   "source": [
    "import math\n",
    "import time\n",
    "import numpy as np\n",
    "from random import randint\n",
    "\n",
    "def us_subsampler(epsilon, delta, variable_range, block_size, data, queue):\n",
    "\n",
    "    epsilon = epsilon\n",
    "    delta = delta  \n",
    "    beta = 1.5\n",
    "    p = 1.1\n",
    "    c = delta * (p-1)/p\n",
    "    last = None\n",
    "    subsamples = []\n",
    "    indexes = queue.get()\n",
    "    #Checking for stopping condition\n",
    "    print('subsampler started')\n",
    "    time.sleep(3)\n",
    "    while indexes:\n",
    "        sample = data[indexes[0]:indexes[1]]\n",
    "        #print(len(sample))        \n",
    "        #print(sample)\n",
    "        print('Breakpoint indexes', indexes[0], indexes[1])\n",
    "        upper_bound = 10000000000000\n",
    "        lower_bound = -1000000000000\n",
    "        t = 1\n",
    "        k = 0\n",
    "        values = []\n",
    "        iteration = 0\n",
    "        \n",
    "        while ((epsilon + 1) * lower_bound < (1 - epsilon) * upper_bound):\n",
    "\n",
    "            initial_value = randint(0,len(sample)-(block_size+1))\n",
    "\n",
    "            #if (t % 10 == 0):\n",
    "                #print('sample size: ', t)\n",
    "            values.append(sample[initial_value:initial_value+block_size])\n",
    "            t += block_size\n",
    "\n",
    "            #Adding new value\n",
    "\n",
    "            if t > np.floor(beta ** k):\n",
    "                k += 1\n",
    "                alpha = np.floor(beta ** k) / np.floor(beta ** (k - 1))\n",
    "                dk = c / (0.00000000000001 + (math.log(k, p) ** p))\n",
    "                x = -alpha * np.log(dk)/3\n",
    "            \n",
    "            #print(2 * x / t)\n",
    "            ct = np.std(values) * np.sqrt(2 * x / t) + 3 * variable_range * x / t\n",
    "            lower_bound = max(lower_bound, np.abs(np.mean(values))-ct)\n",
    "            #print('lower bound: ', lower_bound)\n",
    "            upper_bound = min(upper_bound, np.abs(np.mean(values))+ct)\n",
    "            #print('upper bound: ', upper_bound)\n",
    "            iteration += 1\n",
    "        #print('Subsample size:',len(values[0]))\n",
    "        subsamples.append(values)\n",
    "        print('Relative sample size: ', str(round((block_size * iteration)/len(data)*100,2)) +' %')\n",
    "        indexes = queue.get()\n",
    "        \n",
    "    \n",
    "    return subsamples"
   ]
  },
  {
   "cell_type": "markdown",
   "metadata": {},
   "source": [
    "## Example 1"
   ]
  },
  {
   "cell_type": "code",
   "execution_count": 64,
   "metadata": {},
   "outputs": [
    {
     "data": {
      "text/plain": [
       "[<matplotlib.lines.Line2D at 0x133abecd0>]"
      ]
     },
     "execution_count": 64,
     "metadata": {},
     "output_type": "execute_result"
    },
    {
     "data": {
      "image/png": "[encoded data removed]",
      "text/plain": [
       "<Figure size 432x288 with 1 Axes>"
      ]
     },
     "metadata": {
      "needs_background": "light"
     },
     "output_type": "display_data"
    }
   ],
   "source": [
    "n = 1000000\n",
    "mu = 2\n",
    "sigma = 0.5\n",
    "x = np.random.normal(mu, sigma, n)\n",
    "x[100000:200000] += 2\n",
    "x[400000:500000] += 3.5\n",
    "x[600000:700000] += 2.5\n",
    "x[800000:900000] += 2\n",
    "plt.plot(x)"
   ]
  },
  {
   "cell_type": "code",
   "execution_count": 65,
   "metadata": {},
   "outputs": [
    {
     "name": "stdout",
     "output_type": "stream",
     "text": [
      "breakpoint started\n",
      "subsampler started\n",
      "Breakpoint indexes 0 100046\n"
     ]
    },
    {
     "name": "stderr",
     "output_type": "stream",
     "text": [
      "/Users/brunobarbarioli/opt/anaconda3/lib/python3.7/site-packages/ipykernel_launcher.py:49: RuntimeWarning: invalid value encountered in sqrt\n"
     ]
    },
    {
     "name": "stdout",
     "output_type": "stream",
     "text": [
      "Relative sample size:  1.54 %\n",
      "Breakpoint indexes 100046 355465\n",
      "Relative sample size:  1.31 %\n",
      "Breakpoint indexes 355465 400000\n",
      "Relative sample size:  1.52 %\n",
      "Breakpoint indexes 400000 500000\n",
      "Relative sample size:  0.4 %\n",
      "Breakpoint indexes 500000 600009\n",
      "Relative sample size:  1.56 %\n",
      "Breakpoint indexes 600009 700000\n",
      "Relative sample size:  0.51 %\n",
      "Breakpoint indexes 700000 729888\n",
      "Relative sample size:  1.51 %\n",
      "Breakpoint indexes 729888 800005\n",
      "Relative sample size:  1.57 %\n",
      "Breakpoint indexes 800005 873778\n",
      "Relative sample size:  0.59 %\n",
      "Breakpoint indexes 873778 898835\n",
      "Relative sample size:  0.59 %\n",
      "Breakpoint indexes 898835 964022\n",
      "Relative sample size:  1.67 %\n"
     ]
    }
   ],
   "source": [
    "# Epsilon 0.01\n",
    "queue = mp.Queue()\n",
    "p1 = mp.Process(target = detection, args = (x, queue, 3.5, .02, False, False))\n",
    "p2 = mp.Process(target = us_subsampler, args = (0.01,0.01,7,5,x, queue))\n",
    "\n",
    "p1.start()\n",
    "p2.start()"
   ]
  },
  {
   "cell_type": "code",
   "execution_count": 66,
   "metadata": {},
   "outputs": [
    {
     "name": "stdout",
     "output_type": "stream",
     "text": [
      "breakpoint started\n",
      "subsampler started\n",
      "Breakpoint indexes 0 100046\n"
     ]
    },
    {
     "name": "stderr",
     "output_type": "stream",
     "text": [
      "/Users/brunobarbarioli/opt/anaconda3/lib/python3.7/site-packages/ipykernel_launcher.py:49: RuntimeWarning: invalid value encountered in sqrt\n"
     ]
    },
    {
     "name": "stdout",
     "output_type": "stream",
     "text": [
      "Relative sample size:  4.19 %\n",
      "Breakpoint indexes 100046 355465\n",
      "Relative sample size:  5.91 %\n",
      "Breakpoint indexes 355465 400000\n",
      "Relative sample size:  4.63 %\n",
      "Breakpoint indexes 400000 500000\n",
      "Relative sample size:  0.98 %\n",
      "Breakpoint indexes 500000 600009\n",
      "Relative sample size:  4.56 %\n",
      "Breakpoint indexes 600009 700000\n",
      "Relative sample size:  1.34 %\n",
      "Breakpoint indexes 700000 729888\n",
      "Relative sample size:  4.58 %\n",
      "Breakpoint indexes 729888 800005\n",
      "Relative sample size:  4.42 %\n",
      "Breakpoint indexes 800005 873778\n",
      "Relative sample size:  1.57 %\n",
      "Breakpoint indexes 873778 898835\n",
      "Relative sample size:  1.54 %\n",
      "Breakpoint indexes 898835 964022\n"
     ]
    }
   ],
   "source": [
    "# Epsilon 0.005\n",
    "queue = mp.Queue()\n",
    "p1 = mp.Process(target = detection, args = (x, queue, 3.5, .02, False, False))\n",
    "p2 = mp.Process(target = us_subsampler, args = (0.005,0.01,7,5,x, queue))\n",
    "\n",
    "p1.start()\n",
    "p2.start()"
   ]
  },
  {
   "cell_type": "markdown",
   "metadata": {},
   "source": [
    "## Example 2"
   ]
  },
  {
   "cell_type": "code",
   "execution_count": 58,
   "metadata": {},
   "outputs": [
    {
     "data": {
      "text/plain": [
       "[<matplotlib.lines.Line2D at 0x11ca08650>]"
      ]
     },
     "execution_count": 58,
     "metadata": {},
     "output_type": "execute_result"
    },
    {
     "data": {
      "image/png": "[encoded data removed]",
      "text/plain": [
       "<Figure size 432x288 with 1 Axes>"
      ]
     },
     "metadata": {
      "needs_background": "light"
     },
     "output_type": "display_data"
    }
   ],
   "source": [
    "n = 1000000\n",
    "mu = 2\n",
    "sigma = 1\n",
    "x = np.random.normal(mu, sigma, n)\n",
    "x[100000:200000] += 2\n",
    "x[400000:500000] += 3.5\n",
    "x[600000:700000] += 2.5\n",
    "x[800000:900000] += 2\n",
    "plt.plot(x)"
   ]
  },
  {
   "cell_type": "code",
   "execution_count": 60,
   "metadata": {},
   "outputs": [
    {
     "name": "stdout",
     "output_type": "stream",
     "text": [
      "breakpoint started\n",
      "subsampler started\n",
      "Breakpoint indexes 0 6\n"
     ]
    },
    {
     "name": "stderr",
     "output_type": "stream",
     "text": [
      "/Users/brunobarbarioli/opt/anaconda3/lib/python3.7/site-packages/ipykernel_launcher.py:49: RuntimeWarning: invalid value encountered in sqrt\n",
      "Process Process-48:\n",
      "Traceback (most recent call last):\n",
      "  File \"/Users/brunobarbarioli/opt/anaconda3/lib/python3.7/multiprocessing/process.py\", line 297, in _bootstrap\n",
      "    self.run()\n",
      "  File \"/Users/brunobarbarioli/opt/anaconda3/lib/python3.7/multiprocessing/process.py\", line 99, in run\n",
      "    self._target(*self._args, **self._kwargs)\n",
      "  File \"<ipython-input-52-053f29c2dba3>\", line 50, in us_subsampler\n",
      "    lower_bound = max(lower_bound, np.abs(np.mean(values))-ct)\n",
      "  File \"<__array_function__ internals>\", line 6, in mean\n",
      "  File \"/Users/brunobarbarioli/opt/anaconda3/lib/python3.7/site-packages/numpy/core/fromnumeric.py\", line 3335, in mean\n",
      "    out=out, **kwargs)\n",
      "  File \"/Users/brunobarbarioli/opt/anaconda3/lib/python3.7/site-packages/numpy/core/_methods.py\", line 135, in _mean\n",
      "    arr = asanyarray(a)\n",
      "  File \"/Users/brunobarbarioli/opt/anaconda3/lib/python3.7/site-packages/numpy/core/_asarray.py\", line 138, in asanyarray\n",
      "    return array(a, dtype, copy=False, order=order, subok=True)\n",
      "KeyboardInterrupt\n"
     ]
    }
   ],
   "source": [
    "# Epsilon 0.01\n",
    "queue = mp.Queue()\n",
    "p1 = mp.Process(target = detection, args = (x, queue, 3, .02, False, False))\n",
    "p2 = mp.Process(target = us_subsampler, args = (0.01,0.01,7,5,x, queue))\n",
    "\n",
    "p1.start()\n",
    "p2.start()"
   ]
  },
  {
   "cell_type": "code",
   "execution_count": null,
   "metadata": {},
   "outputs": [],
   "source": []
  }
 ],
 "metadata": {
  "kernelspec": {
   "display_name": "Python 3",
   "language": "python",
   "name": "python3"
  },
  "language_info": {
   "codemirror_mode": {
    "name": "ipython",
    "version": 3
   },
   "file_extension": ".py",
   "mimetype": "text/x-python",
   "name": "python",
   "nbconvert_exporter": "python",
   "pygments_lexer": "ipython3",
   "version": "3.7.6"
  }
 },
 "nbformat": 4,
 "nbformat_minor": 4
}
