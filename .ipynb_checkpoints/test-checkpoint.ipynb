{
 "cells": [
  {
   "cell_type": "markdown",
   "metadata": {},
   "source": [
    "# Subsampling examples"
   ]
  },
  {
   "cell_type": "code",
   "execution_count": 1,
   "metadata": {},
   "outputs": [],
   "source": [
    "import matplotlib.pyplot as plt\n",
    "import numpy as np\n",
    "import os"
   ]
  },
  {
   "cell_type": "code",
   "execution_count": 2,
   "metadata": {},
   "outputs": [
    {
     "data": {
      "text/plain": [
       "'/Users/brunobarbarioli/Documents/Research/OTSS'"
      ]
     },
     "execution_count": 2,
     "metadata": {},
     "output_type": "execute_result"
    }
   ],
   "source": [
    "os.getcwd()"
   ]
  },
  {
   "cell_type": "markdown",
   "metadata": {},
   "source": [
    "## 1) Stationary univariate time series"
   ]
  },
  {
   "cell_type": "code",
   "execution_count": 3,
   "metadata": {
    "scrolled": true
   },
   "outputs": [],
   "source": [
    "from stationary.univariate_stationary_subsampler import us_subsampler"
   ]
  },
  {
   "cell_type": "markdown",
   "metadata": {},
   "source": [
    "### 1.1) Generated process (Gaussian white noise)"
   ]
  },
  {
   "cell_type": "code",
   "execution_count": 4,
   "metadata": {},
   "outputs": [],
   "source": [
    "#Generating white noise\n",
    "n = 1000000\n",
    "mu = 10\n",
    "sigma = 1\n",
    "x = np.random.normal(mu, sigma, n)"
   ]
  },
  {
   "cell_type": "code",
   "execution_count": 5,
   "metadata": {},
   "outputs": [
    {
     "data": {
      "text/plain": [
       "[<matplotlib.lines.Line2D at 0x119a598d0>]"
      ]
     },
     "execution_count": 5,
     "metadata": {},
     "output_type": "execute_result"
    },
    {
     "data": {
      "image/png": "[encoded data removed]",
      "text/plain": [
       "<Figure size 432x288 with 1 Axes>"
      ]
     },
     "metadata": {
      "needs_background": "light"
     },
     "output_type": "display_data"
    }
   ],
   "source": [
    "plt.plot(x)"
   ]
  },
  {
   "cell_type": "code",
   "execution_count": 7,
   "metadata": {},
   "outputs": [],
   "source": [
    "block_size = 10\n",
    "subsample = us_subsampler(0.5,0.1,7,block_size,sample = x)"
   ]
  },
  {
   "cell_type": "code",
   "execution_count": 8,
   "metadata": {},
   "outputs": [
    {
     "name": "stdout",
     "output_type": "stream",
     "text": [
      "3\n"
     ]
    }
   ],
   "source": [
    "print(len(subsample))"
   ]
  },
  {
   "cell_type": "code",
   "execution_count": 9,
   "metadata": {},
   "outputs": [
    {
     "name": "stdout",
     "output_type": "stream",
     "text": [
      "[array([ 9.5693543 ,  9.11981324, 10.47159332,  9.65638808,  9.51708374,\n",
      "        8.97260267,  9.7994385 ,  8.88102658, 10.70915564,  9.1556956 ]), array([10.58845624,  9.2826844 ,  9.83592352,  8.46723156,  9.49350883,\n",
      "        9.82721394, 11.23575529,  9.32432462, 10.1712225 , 10.32633737]), array([ 9.32744539, 10.28516607, 11.22016726,  9.82660203, 10.82795973,\n",
      "        9.37027512, 11.04521683,  8.87879299, 11.46783379, 11.44522768])]\n"
     ]
    }
   ],
   "source": [
    "print(subsample)"
   ]
  },
  {
   "cell_type": "code",
   "execution_count": 10,
   "metadata": {},
   "outputs": [
    {
     "name": "stdout",
     "output_type": "stream",
     "text": [
      "9.93664989365721\n"
     ]
    }
   ],
   "source": [
    "print(np.mean(subsample))"
   ]
  },
  {
   "cell_type": "code",
   "execution_count": 11,
   "metadata": {},
   "outputs": [
    {
     "name": "stdout",
     "output_type": "stream",
     "text": [
      "0.8235580997369291\n"
     ]
    }
   ],
   "source": [
    "print(np.std(subsample))"
   ]
  },
  {
   "cell_type": "code",
   "execution_count": 13,
   "metadata": {},
   "outputs": [],
   "source": [
    "block_size = 10\n",
    "subsample = us_subsampler(0.1,0.1,7,block_size,sample = x)"
   ]
  },
  {
   "cell_type": "code",
   "execution_count": 14,
   "metadata": {},
   "outputs": [
    {
     "name": "stdout",
     "output_type": "stream",
     "text": [
      "11\n"
     ]
    }
   ],
   "source": [
    "print(len(subsample))"
   ]
  },
  {
   "cell_type": "code",
   "execution_count": 15,
   "metadata": {},
   "outputs": [
    {
     "name": "stdout",
     "output_type": "stream",
     "text": [
      "subsample mean:  10.134570515864675\n",
      "subsample std:  0.8020746212588122\n"
     ]
    }
   ],
   "source": [
    "print('subsample mean: ', np.mean(subsample))\n",
    "print('subsample std: ', np.std(subsample))"
   ]
  },
  {
   "cell_type": "code",
   "execution_count": 36,
   "metadata": {},
   "outputs": [],
   "source": [
    "block_size = n/100\n",
    "subsample = us_subsampler(0.05,0.1,7,block_size,sample = x)"
   ]
  },
  {
   "cell_type": "code",
   "execution_count": 37,
   "metadata": {},
   "outputs": [
    {
     "name": "stdout",
     "output_type": "stream",
     "text": [
      "sample size: 272\n",
      "subsample mean:  10.054952699352086\n",
      "subsample std:  1.041377262088284\n"
     ]
    }
   ],
   "source": [
    "print('sample size:', len(subsample))\n",
    "print('subsample mean: ', np.mean(subsample))\n",
    "print('subsample std: ', np.std(subsample))"
   ]
  },
  {
   "cell_type": "code",
   "execution_count": 42,
   "metadata": {
    "scrolled": true
   },
   "outputs": [],
   "source": [
    "block_size = 10\n",
    "subsample = us_subsampler(0.01,0.1,7,block_size,sample = x)"
   ]
  },
  {
   "cell_type": "code",
   "execution_count": 48,
   "metadata": {},
   "outputs": [
    {
     "name": "stdout",
     "output_type": "stream",
     "text": [
      "sample size: 2185\n",
      "subsample mean:  10.004111277800597\n",
      "subsample std:  1.0006045244172528\n"
     ]
    }
   ],
   "source": [
    "print('sample size:', len(subsample))\n",
    "print('subsample mean: ', np.mean(subsample))\n",
    "print('subsample std: ', np.std(subsample))"
   ]
  },
  {
   "cell_type": "code",
   "execution_count": null,
   "metadata": {},
   "outputs": [],
   "source": [
    "subsample = us_subsampler(0.01,0.1,7,10,x)"
   ]
  },
  {
   "cell_type": "code",
   "execution_count": 6,
   "metadata": {},
   "outputs": [
    {
     "name": "stdout",
     "output_type": "stream",
     "text": [
      "sample size: 2296\n",
      "subsample mean:  9.990669551382327\n",
      "subsample std:  1.0059337918330062\n"
     ]
    }
   ],
   "source": [
    "print('sample size:', len(subsample))\n",
    "print('subsample mean: ', np.mean(subsample))\n",
    "print('subsample std: ', np.std(subsample))"
   ]
  },
  {
   "cell_type": "code",
   "execution_count": null,
   "metadata": {},
   "outputs": [],
   "source": [
    "subsample = us_subsampler(0.005,0.1,7,10,x)"
   ]
  },
  {
   "cell_type": "code",
   "execution_count": 8,
   "metadata": {},
   "outputs": [
    {
     "name": "stdout",
     "output_type": "stream",
     "text": [
      "sample size: 6443\n",
      "subsample mean:  10.005570939610735\n",
      "subsample std:  0.9973280307596822\n"
     ]
    }
   ],
   "source": [
    "print('sample size:', len(subsample))\n",
    "print('subsample mean: ', np.mean(subsample))\n",
    "print('subsample std: ', np.std(subsample))"
   ]
  },
  {
   "cell_type": "code",
   "execution_count": null,
   "metadata": {},
   "outputs": [],
   "source": [
    "subsample = us_subsampler(0.005,0.1,7,10,x)"
   ]
  },
  {
   "cell_type": "markdown",
   "metadata": {},
   "source": [
    "### 1.2) Real process (description)"
   ]
  },
  {
   "cell_type": "code",
   "execution_count": null,
   "metadata": {},
   "outputs": [],
   "source": []
  },
  {
   "cell_type": "markdown",
   "metadata": {},
   "source": [
    "## 2) Nonstationary univariate time series"
   ]
  },
  {
   "cell_type": "code",
   "execution_count": null,
   "metadata": {},
   "outputs": [],
   "source": [
    "from univariate_nonstationary_subsampler import subsampler"
   ]
  },
  {
   "cell_type": "markdown",
   "metadata": {},
   "source": [
    "### 2.1) Generated process (Gaussian white noise with trend)\n"
   ]
  },
  {
   "cell_type": "code",
   "execution_count": 3,
   "metadata": {},
   "outputs": [],
   "source": [
    "#Generating white noise\n",
    "n = 10000\n",
    "mu = 0\n",
    "sigma = 1\n",
    "x = np.random.normal(mu, sigma, n)\n",
    "\n",
    "#Generating time-series\n",
    "t = np.array(range(n))/1000\n",
    "y = t + x"
   ]
  },
  {
   "cell_type": "code",
   "execution_count": 4,
   "metadata": {},
   "outputs": [
    {
     "data": {
      "text/plain": [
       "[<matplotlib.lines.Line2D at 0x11dacce10>]"
      ]
     },
     "execution_count": 4,
     "metadata": {},
     "output_type": "execute_result"
    },
    {
     "data": {
      "image/png": "[encoded data removed]",
      "text/plain": [
       "<Figure size 432x288 with 1 Axes>"
      ]
     },
     "metadata": {
      "needs_background": "light"
     },
     "output_type": "display_data"
    }
   ],
   "source": [
    "plt.plot(y)"
   ]
  },
  {
   "cell_type": "code",
   "execution_count": null,
   "metadata": {},
   "outputs": [],
   "source": []
  },
  {
   "cell_type": "markdown",
   "metadata": {},
   "source": [
    "### 2.2) Real process (description)"
   ]
  },
  {
   "cell_type": "code",
   "execution_count": null,
   "metadata": {},
   "outputs": [],
   "source": []
  },
  {
   "cell_type": "markdown",
   "metadata": {},
   "source": [
    "## 3) Stationary multivariate time series"
   ]
  },
  {
   "cell_type": "code",
   "execution_count": 5,
   "metadata": {},
   "outputs": [],
   "source": [
    "from mpl_toolkits.mplot3d import Axes3D\n",
    "from matplotlib import cm\n",
    "from matplotlib.ticker import LinearLocator, FormatStrFormatter"
   ]
  },
  {
   "cell_type": "code",
   "execution_count": 6,
   "metadata": {},
   "outputs": [],
   "source": [
    "from stationary.multivariate_stationary_subsampler import ms_subsampler"
   ]
  },
  {
   "cell_type": "code",
   "execution_count": 7,
   "metadata": {},
   "outputs": [
    {
     "name": "stdout",
     "output_type": "stream",
     "text": [
      "[ 8.78004833  9.26898378  8.44016619 ... 10.3767644  10.36999665\n",
      " 11.19859743]\n",
      "[10.74882085 10.63096636  9.10654935 ... 10.49699345  7.73088356\n",
      " 10.56533931]\n",
      "[[ 8.78004833 10.74882085]\n",
      " [ 9.26898378 10.63096636]\n",
      " [ 8.44016619  9.10654935]\n",
      " ...\n",
      " [10.3767644  10.49699345]\n",
      " [10.36999665  7.73088356]\n",
      " [11.19859743 10.56533931]]\n"
     ]
    }
   ],
   "source": [
    "#Generating white noise\n",
    "n = 1000000\n",
    "mu_1 = 10\n",
    "sigma_1 = 1\n",
    "mu_2 = 10\n",
    "sigma_2 = 1\n",
    "x_1 = np.random.normal(mu_1, sigma_1, n)\n",
    "print(x_1)\n",
    "x_2 = np.random.normal(mu_2, sigma_2, n)\n",
    "print(x_2)\n",
    "x = np.vstack((x_1,x_2)).T\n",
    "print(x)"
   ]
  },
  {
   "cell_type": "code",
   "execution_count": 6,
   "metadata": {},
   "outputs": [
    {
     "data": {
      "text/plain": [
       "array([[8.73802631, 9.0399025 ]])"
      ]
     },
     "execution_count": 6,
     "metadata": {},
     "output_type": "execute_result"
    }
   ],
   "source": [
    "x[2:3]"
   ]
  },
  {
   "cell_type": "code",
   "execution_count": 11,
   "metadata": {},
   "outputs": [
    {
     "name": "stdout",
     "output_type": "stream",
     "text": [
      "number of samples:  400\n",
      "lower bound:  [-1.e+09 -1.e+09]\n",
      "upper bound:  [1.e+09 1.e+09]\n",
      "convergence criteria:  [-1.1e+09 -1.1e+09] [9.e+08 9.e+08]\n",
      "number of samples:  600\n",
      "lower bound:  [9.32413761 9.38822093]\n",
      "upper bound:  [1.e+09 1.e+09]\n",
      "convergence criteria:  [10.25655137 10.32704303] [9.50823168 9.59195303]\n"
     ]
    }
   ],
   "source": [
    "block_size = 100\n",
    "subsample = ms_subsampler(0.1,0.2,2,7,block_size,sample = x)"
   ]
  },
  {
   "cell_type": "code",
   "execution_count": 12,
   "metadata": {},
   "outputs": [
    {
     "data": {
      "text/plain": [
       "600"
      ]
     },
     "execution_count": 12,
     "metadata": {},
     "output_type": "execute_result"
    }
   ],
   "source": [
    "subsample.size"
   ]
  },
  {
   "cell_type": "code",
   "execution_count": 13,
   "metadata": {},
   "outputs": [
    {
     "name": "stdout",
     "output_type": "stream",
     "text": [
      "number of samples:  400\n",
      "lower bound:  [-1.e+09 -1.e+09]\n",
      "upper bound:  [1.e+09 1.e+09]\n",
      "convergence criteria:  [-1.05e+09 -1.05e+09] [9.5e+08 9.5e+08]\n",
      "number of samples:  600\n",
      "lower bound:  [9.39688409 9.42443644]\n",
      "upper bound:  [1.e+09 1.e+09]\n",
      "convergence criteria:  [9.86672829 9.89565826] [10.11618016 10.12699122]\n",
      "number of samples:  800\n",
      "lower bound:  [9.60083507 9.68532589]\n",
      "upper bound:  [10.64861069 10.65999076]\n",
      "convergence criteria:  [10.08087683 10.16959219] [9.83458753 9.90346377]\n"
     ]
    }
   ],
   "source": [
    "block_size = 100\n",
    "subsample = ms_subsampler(0.05,0.2,2,7,block_size,sample = x)"
   ]
  },
  {
   "cell_type": "code",
   "execution_count": 14,
   "metadata": {},
   "outputs": [
    {
     "data": {
      "text/plain": [
       "800"
      ]
     },
     "execution_count": 14,
     "metadata": {},
     "output_type": "execute_result"
    }
   ],
   "source": [
    "subsample.size"
   ]
  },
  {
   "cell_type": "code",
   "execution_count": 15,
   "metadata": {},
   "outputs": [
    {
     "name": "stdout",
     "output_type": "stream",
     "text": [
      "number of samples:  400\n",
      "lower bound:  [-1.e+09 -1.e+09]\n",
      "upper bound:  [1.e+09 1.e+09]\n",
      "convergence criteria:  [-1.01e+09 -1.01e+09] [9.9e+08 9.9e+08]\n",
      "number of samples:  600\n",
      "lower bound:  [9.31319757 9.41124506]\n",
      "upper bound:  [1.e+09 1.e+09]\n",
      "convergence criteria:  [9.40632955 9.50535751] [10.48864269 10.5998286 ]\n",
      "number of samples:  800\n",
      "lower bound:  [9.56451466 9.61746531]\n",
      "upper bound:  [10.59458857 10.70689757]\n",
      "convergence criteria:  [9.66015981 9.71363996] [10.23377169 10.28775491]\n",
      "number of samples:  1000\n",
      "lower bound:  [9.59807997 9.66074955]\n",
      "upper bound:  [10.33714312 10.39167163]\n",
      "convergence criteria:  [9.69406077 9.75735705] [10.18354506 10.24678251]\n",
      "number of samples:  1200\n",
      "lower bound:  [9.691737   9.75220496]\n",
      "upper bound:  [10.28640915 10.35028536]\n",
      "convergence criteria:  [9.78865437 9.84972701] [10.10164863 10.16095276]\n",
      "number of samples:  1400\n",
      "lower bound:  [9.71137057 9.77688731]\n",
      "upper bound:  [10.20368549 10.26358864]\n",
      "convergence criteria:  [9.80848428 9.87465618] [10.09745204 10.16095276]\n",
      "number of samples:  1600\n",
      "lower bound:  [9.7698029  9.80954657]\n",
      "upper bound:  [10.19944651 10.26358864]\n",
      "convergence criteria:  [9.86750093 9.90764203] [10.09745204 10.14383509]\n",
      "number of samples:  1800\n",
      "lower bound:  [9.78104504 9.8296078 ]\n",
      "upper bound:  [10.19944651 10.24629807]\n",
      "convergence criteria:  [9.87885549 9.92790388] [10.06099416 10.11245149]\n",
      "number of samples:  2000\n",
      "lower bound:  [9.78867081 9.83669474]\n",
      "upper bound:  [10.16262037 10.21459747]\n",
      "convergence criteria:  [9.88655751 9.93506168] [10.04658218 10.09662412]\n",
      "number of samples:  2200\n",
      "lower bound:  [9.80422949 9.84272903]\n",
      "upper bound:  [10.1480628  10.19861022]\n",
      "convergence criteria:  [9.90227179 9.94115632] [10.03376437 10.07439029]\n",
      "number of samples:  2400\n",
      "lower bound:  [9.81967425 9.84272903]\n",
      "upper bound:  [10.13511553 10.17615181]\n",
      "convergence criteria:  [9.91787099 9.94115632] [10.02977602 10.05319621]\n",
      "number of samples:  2600\n",
      "lower bound:  [9.83182027 9.84564016]\n",
      "upper bound:  [10.13108689 10.15474364]\n",
      "convergence criteria:  [9.93013847 9.94409656] [10.0212748  10.03926828]\n",
      "number of samples:  2800\n",
      "lower bound:  [9.83835678 9.84949127]\n",
      "upper bound:  [10.1224998  10.14067503]\n",
      "convergence criteria:  [9.93674035 9.94798618] [10.01296244 10.02718019]\n",
      "number of samples:  3000\n",
      "lower bound:  [9.84249727 9.85727691]\n",
      "upper bound:  [10.11410348 10.12846484]\n",
      "convergence criteria:  [9.94092224 9.95584968] [10.00344802 10.02116555]\n",
      "number of samples:  3200\n",
      "lower bound:  [9.84662275 9.8613655 ]\n",
      "upper bound:  [10.10449295 10.12238945]\n",
      "convergence criteria:  [9.94508898 9.95997915] [ 9.99610539 10.01361202]\n",
      "number of samples:  3400\n",
      "lower bound:  [9.8512994  9.88124979]\n",
      "upper bound:  [10.09707616 10.11475961]\n",
      "convergence criteria:  [9.9498124  9.98006229] [ 9.98989406 10.01361202]\n",
      "number of samples:  3600\n",
      "lower bound:  [9.86115868 9.88918363]\n",
      "upper bound:  [10.09080208 10.11475961]\n",
      "convergence criteria:  [9.95977027 9.98807547] [ 9.98989406 10.01361202]\n",
      "number of samples:  3800\n",
      "lower bound:  [9.87752947 9.88918363]\n",
      "upper bound:  [10.09080208 10.11475961]\n",
      "convergence criteria:  [9.97630477 9.98807547] [ 9.98989406 10.00903727]\n",
      "number of samples:  4000\n",
      "lower bound:  [9.87833175 9.89298395]\n",
      "upper bound:  [10.09080208 10.11013866]\n",
      "convergence criteria:  [9.97711507 9.99191378] [ 9.98989406 10.00903727]\n",
      "number of samples:  4200\n",
      "lower bound:  [9.88656181 9.89314993]\n",
      "upper bound:  [10.09080208 10.11013866]\n",
      "convergence criteria:  [9.98542743 9.99208143] [ 9.98989406 10.00171487]\n",
      "number of samples:  4400\n",
      "lower bound:  [9.89895611 9.89949932]\n",
      "upper bound:  [10.09080208 10.1027423 ]\n",
      "convergence criteria:  [9.99794567 9.99849431] [ 9.98989406 10.00105818]\n"
     ]
    }
   ],
   "source": [
    "block_size = 100\n",
    "subsample = ms_subsampler(0.01,0.2,2,7,block_size,sample = x)"
   ]
  },
  {
   "cell_type": "code",
   "execution_count": 16,
   "metadata": {},
   "outputs": [
    {
     "data": {
      "text/plain": [
       "4400"
      ]
     },
     "execution_count": 16,
     "metadata": {},
     "output_type": "execute_result"
    }
   ],
   "source": [
    "subsample.size"
   ]
  },
  {
   "cell_type": "markdown",
   "metadata": {},
   "source": [
    "## 4) Nonstationary multivariate time series"
   ]
  },
  {
   "cell_type": "code",
   "execution_count": null,
   "metadata": {},
   "outputs": [],
   "source": []
  },
  {
   "cell_type": "markdown",
   "metadata": {},
   "source": [
    "## CUMSUM "
   ]
  },
  {
   "cell_type": "code",
   "execution_count": 3,
   "metadata": {},
   "outputs": [],
   "source": [
    "import numpy as np\n",
    "import pandas as pd"
   ]
  },
  {
   "cell_type": "code",
   "execution_count": 2,
   "metadata": {},
   "outputs": [],
   "source": [
    "def cusum(x,mean=0,K=0):\n",
    "    \"\"\"Tabular CUSUM per Montgomery,D. 1996 \"Introduction to Statistical Process Control\" p318 \n",
    "    x    : series to analyze\n",
    "    mean : expected process mean\n",
    "    K    : reference value, allowance, slack value-- suggest K=1/2 of the shift to be detected.\n",
    "\n",
    "    Returns:\n",
    "    x  Original series\n",
    "    Cp positive CUSUM\n",
    "    Cm negative CUSUM\n",
    "    \"\"\"\n",
    "    Cp=(x*0).copy()\n",
    "    Cm=Cp.copy()\n",
    "    for ii in np.arange(len(x)):\n",
    "        if ii == 0:\n",
    "            Cp[ii]=x[ii]\n",
    "            Cm[ii]=x[ii]\n",
    "        else:\n",
    "            Cp[ii]=np.max([0,x[ii]-(mean+K)+Cp[ii-1]])\n",
    "            Cm[ii]=np.max([0,(mean-K)-x[ii]+Cm[ii-1]])\n",
    "    return({'x':x, 'Cp': Cp, 'Cm': Cm})"
   ]
  },
  {
   "cell_type": "code",
   "execution_count": 3,
   "metadata": {
    "scrolled": false
   },
   "outputs": [
    {
     "data": {
      "text/plain": [
       "<matplotlib.axes._subplots.AxesSubplot at 0x11d3ee050>"
      ]
     },
     "execution_count": 3,
     "metadata": {},
     "output_type": "execute_result"
    },
    {
     "data": {
      "image/png": "[encoded data removed]",
      "text/plain": [
       "<Figure size 432x288 with 1 Axes>"
      ]
     },
     "metadata": {
      "needs_background": "light"
     },
     "output_type": "display_data"
    }
   ],
   "source": [
    "pd.DataFrame(cusum(np.random.randn(200)+np.repeat([0,0.5],100),K=0.25)).plot()"
   ]
  },
  {
   "cell_type": "markdown",
   "metadata": {},
   "source": [
    "modified version of detecta module\n",
    "https://nbviewer.jupyter.org/github/demotu/detecta/blob/master/docs/detect_cusum.ipynb"
   ]
  },
  {
   "cell_type": "code",
   "execution_count": 48,
   "metadata": {},
   "outputs": [],
   "source": [
    "def detection(x, threshold=1, drift=0, ending=False, show=True, ax=None):\n",
    "    \"\"\"Tabular CUSUM per Montgomery,D. 1996 \"Introduction to Statistical Process Control\" p318 \n",
    "    x    : series to analyze\n",
    "    mean : expected process mean\n",
    "    K    : reference value, allowance, slack value-- suggest K=1/2 of the shift to be detected.\n",
    "\n",
    "    Returns:\n",
    "    x  Original series\n",
    "    Cp positive CUSUM\n",
    "    Cm negative CUSUM\n",
    "    \"\"\"\n",
    "    x = np.atleast_1d(x).astype('float64')\n",
    "    gp, gn = np.zeros(x.size), np.zeros(x.size)\n",
    "    ta, tai, taf = np.array([[], [], []], dtype=int)\n",
    "    tap, tan = 0, 0\n",
    "    amp = np.array([])\n",
    "    ta = np.append(ta,0)\n",
    "    # Find changes (online form)\n",
    "    for i in range(1, x.size):\n",
    "        s = x[i] - x[i-1]\n",
    "        gp[i] = max(0, gp[i-1] + s - drift)  # cumulative sum for + change\n",
    "        gn[i] = max(0, gn[i-1] - s - drift)  # cumulative sum for - change\n",
    "        if gp[i] < 0:\n",
    "            gp[i], tap = 0, i\n",
    "        if gn[i] < 0:\n",
    "            gn[i], tan = 0, i\n",
    "        if gp[i] > threshold or gn[i] > threshold:  # change detected!\n",
    "            ta = np.append(ta, i)    # alarm index\n",
    "            tai = np.append(tai, tap if gp[i] > threshold else tan)  # start\n",
    "            gp[i], gn[i] = 0, 0      # reset alarm\n",
    "\n",
    "    if show:\n",
    "        _plot(x, threshold, drift, ending, ax, ta, tai, taf, gp, gn)\n",
    "\n",
    "    return ta, tai, taf, amp\n",
    "\n",
    "\n",
    "def _plot(x, threshold, drift, ending, ax, ta, tai, taf, gp, gn):\n",
    "    \"\"\"Plot results of the detect_cusum function, see its help.\"\"\"\n",
    "\n",
    "    try:\n",
    "        import matplotlib.pyplot as plt\n",
    "    except ImportError:\n",
    "        print('matplotlib is not available.')\n",
    "    else:\n",
    "        if ax is None:\n",
    "            _, (ax1, ax2) = plt.subplots(2, 1, figsize=(8, 6))\n",
    "\n",
    "        t = range(x.size)\n",
    "        ax1.plot(t, x, 'b-', lw=2)\n",
    "        if len(ta):\n",
    "            ax1.plot(tai, x[tai], '>', mfc='g', mec='g', ms=10,\n",
    "                     label='Start')\n",
    "            if ending:\n",
    "                ax1.plot(taf, x[taf], '<', mfc='g', mec='g', ms=10,\n",
    "                         label='Ending')\n",
    "            ax1.plot(ta, x[ta], 'o', mfc='r', mec='r', mew=1, ms=5,\n",
    "                     label='Alarm')\n",
    "            ax1.legend(loc='best', framealpha=.5, numpoints=1)\n",
    "        ax1.set_xlim(-.01*x.size, x.size*1.01-1)\n",
    "        ax1.set_xlabel('Data #', fontsize=14)\n",
    "        ax1.set_ylabel('Amplitude', fontsize=14)\n",
    "        ymin, ymax = x[np.isfinite(x)].min(), x[np.isfinite(x)].max()\n",
    "        yrange = ymax - ymin if ymax > ymin else 1\n",
    "        ax1.set_ylim(ymin - 0.1*yrange, ymax + 0.1*yrange)\n",
    "        ax1.set_title('Time series and detected changes ' +\n",
    "                      '(threshold= %.3g, drift= %.3g): N changes = %d'\n",
    "                      % (threshold, drift, len(tai)))\n",
    "        ax2.plot(t, gp, 'y-', label='+')\n",
    "        ax2.plot(t, gn, 'm-', label='-')\n",
    "        ax2.set_xlim(-.01*x.size, x.size*1.01-1)\n",
    "        ax2.set_xlabel('Data #', fontsize=14)\n",
    "        ax2.set_ylim(-0.01*threshold, 1.1*threshold)\n",
    "        ax2.axhline(threshold, color='r')\n",
    "        ax1.set_ylabel('Amplitude', fontsize=14)\n",
    "        ax2.set_title('Time series of the cumulative sums of ' +\n",
    "                      'positive and negative changes')\n",
    "        ax2.legend(loc='best', framealpha=.5, numpoints=1)\n",
    "        plt.tight_layout()\n",
    "        plt.show()"
   ]
  },
  {
   "cell_type": "code",
   "execution_count": 4,
   "metadata": {},
   "outputs": [
    {
     "data": {
      "image/png": "[encoded data removed]",
      "text/plain": [
       "<Figure size 576x432 with 2 Axes>"
      ]
     },
     "metadata": {
      "needs_background": "light"
     },
     "output_type": "display_data"
    }
   ],
   "source": [
    "x = np.random.randn(300)/5\n",
    "x[100:200] += 2.5\n",
    "ta, tai, taf, amp = detection(x, 2, .02, False, True)"
   ]
  },
  {
   "cell_type": "code",
   "execution_count": null,
   "metadata": {},
   "outputs": [],
   "source": [
    "x = np.random.randn(300)/5\n",
    "x[100:200] += 1.0\n",
    "ta, tai, taf, amp = detection(x, 1, .02, False, True)"
   ]
  },
  {
   "cell_type": "code",
   "execution_count": 46,
   "metadata": {},
   "outputs": [],
   "source": [
    "def detection(x,queue, threshold=1, drift=0, ending=False, show=True, ax=None):\n",
    "    \"\"\"Tabular CUSUM per Montgomery,D. 1996 \"Introduction to Statistical Process Control\" p318 \n",
    "    x    : series to analyze\n",
    "    mean : expected process mean\n",
    "    K    : reference value, allowance, slack value-- suggest K=1/2 of the shift to be detected.\n",
    "\n",
    "    Returns:\n",
    "    x  Original series\n",
    "    Cp positive CUSUM\n",
    "    Cm negative CUSUM\n",
    "    \"\"\"\n",
    "    print(\"breakpoint started\")\n",
    "    x = np.atleast_1d(x).astype('float64')\n",
    "    gp, gn = np.zeros(x.size), np.zeros(x.size)\n",
    "    ta, tai, taf = np.array([[], [], []], dtype=int)\n",
    "    tap, tan = 0, 0\n",
    "    amp = np.array([])\n",
    "    ta = np.append(ta,0)\n",
    "    queue_fake = []\n",
    "    # Find changes (online form)\n",
    "    for i in range(1, x.size):        \n",
    "        s = x[i] - x[i-1]\n",
    "        gp[i] = gp[i-1] + s - drift  # cumulative sum for + change\n",
    "        gn[i] = gn[i-1] - s - drift  # cumulative sum for - change\n",
    "        if gp[i] < 0:\n",
    "            gp[i], tap = 0, i\n",
    "        if gn[i] < 0:\n",
    "            gn[i], tan = 0, i\n",
    "        if gp[i] > threshold or gn[i] > threshold:  # change detected!\n",
    "            ta = np.append(ta, i)    # alarm index\n",
    "            try:  \n",
    "                queue_fake.append((ta[-2], ta[-1]))\n",
    "                queue.put((ta[-2], ta[-1]))\n",
    "            except IndexError:\n",
    "                print(ta[-1])\n",
    "                print('moving to next block')\n",
    "            tai = np.append(tai, tap if gp[i] > threshold else tan)  # start\n",
    "            gp[i], gn[i] = 0, 0      # reset alarm\n",
    "    #print(queue_fake)\n",
    "            \n",
    "    if show:\n",
    "        _plot(x, threshold, drift, ending, ax, ta, tai, taf, gp, gn)\n",
    "\n",
    "    return ta, tai, taf, amp\n",
    "\n",
    "\n",
    "def _plot(x, threshold, drift, ending, ax, ta, tai, taf, gp, gn):\n",
    "    \"\"\"Plot results of the detect_cusum function, see its help.\"\"\"\n",
    "\n",
    "    try:\n",
    "        import matplotlib.pyplot as plt\n",
    "    except ImportError:\n",
    "        print('matplotlib is not available.')\n",
    "    else:\n",
    "        if ax is None:\n",
    "            _, (ax1, ax2) = plt.subplots(2, 1, figsize=(8, 6))\n",
    "\n",
    "        t = range(x.size)\n",
    "        ax1.plot(t, x, 'b-', lw=2)\n",
    "        if len(ta):\n",
    "            ax1.plot(tai, x[tai], '>', mfc='g', mec='g', ms=10,\n",
    "                     label='Start')\n",
    "            if ending:\n",
    "                ax1.plot(taf, x[taf], '<', mfc='g', mec='g', ms=10,\n",
    "                         label='Ending')\n",
    "            ax1.plot(ta, x[ta], 'o', mfc='r', mec='r', mew=1, ms=5,\n",
    "                     label='Alarm')\n",
    "            ax1.legend(loc='best', framealpha=.5, numpoints=1)\n",
    "        ax1.set_xlim(-.01*x.size, x.size*1.01-1)\n",
    "        ax1.set_xlabel('Data #', fontsize=14)\n",
    "        ax1.set_ylabel('Amplitude', fontsize=14)\n",
    "        ymin, ymax = x[np.isfinite(x)].min(), x[np.isfinite(x)].max()\n",
    "        yrange = ymax - ymin if ymax > ymin else 1\n",
    "        ax1.set_ylim(ymin - 0.1*yrange, ymax + 0.1*yrange)\n",
    "        ax1.set_title('Time series and detected changes ' +\n",
    "                      '(threshold= %.3g, drift= %.3g): N changes = %d'\n",
    "                      % (threshold, drift, len(tai)))\n",
    "        ax2.plot(t, gp, 'y-', label='+')\n",
    "        ax2.plot(t, gn, 'm-', label='-')\n",
    "        ax2.set_xlim(-.01*x.size, x.size*1.01-1)\n",
    "        ax2.set_xlabel('Data #', fontsize=14)\n",
    "        ax2.set_ylim(-0.01*threshold, 1.1*threshold)\n",
    "        ax2.axhline(threshold, color='r')\n",
    "        ax1.set_ylabel('Amplitude', fontsize=14)\n",
    "        ax2.set_title('Time series of the cumulative sums of ' +\n",
    "                      'positive and negative changes')\n",
    "        ax2.legend(loc='best', framealpha=.5, numpoints=1)\n",
    "        plt.tight_layout()\n",
    "        plt.show()"
   ]
  },
  {
   "cell_type": "markdown",
   "metadata": {},
   "source": [
    "## Full model"
   ]
  },
  {
   "cell_type": "code",
   "execution_count": 61,
   "metadata": {},
   "outputs": [],
   "source": [
    "import multiprocessing as mp\n",
    "import time\n",
    "import numpy as np\n",
    "import pandas as pd\n",
    "import matplotlib.pyplot as plt"
   ]
  },
  {
   "cell_type": "code",
   "execution_count": 2,
   "metadata": {},
   "outputs": [],
   "source": [
    "def detection(x,queue, threshold=1, drift=0, ending=False, show=True, ax=None):\n",
    "    \"\"\"Tabular CUSUM per Montgomery,D. 1996 \"Introduction to Statistical Process Control\" p318 \n",
    "    x    : series to analyze\n",
    "    mean : expected process mean\n",
    "    K    : reference value, allowance, slack value-- suggest K=1/2 of the shift to be detected.\n",
    "\n",
    "    Returns:\n",
    "    x  Original series\n",
    "    Cp positive CUSUM\n",
    "    Cm negative CUSUM\n",
    "    \"\"\"\n",
    "    print(\"breakpoint started\")\n",
    "    x = np.atleast_1d(x).astype('float64')\n",
    "    gp, gn = np.zeros(x.size), np.zeros(x.size)\n",
    "    ta, tai, taf = np.array([[], [], []], dtype=int)\n",
    "    tap, tan = 0, 0\n",
    "    amp = np.array([])\n",
    "    ta = np.append(ta,0)\n",
    "    queue_fake = []\n",
    "    \n",
    "    # Find changes (online form)\n",
    "    for i in range(1, x.size):        \n",
    "        s = x[i] - x[i-1]\n",
    "        gp[i] = max(0, gp[i-1] + s - drift) # cumulative sum for + change\n",
    "        gn[i] = max(0, gn[i-1] - s - drift)  # cumulative sum for - change\n",
    "        if gp[i] < 0:\n",
    "            gp[i], tap = 0, i\n",
    "        if gn[i] < 0:\n",
    "            gn[i], tan = 0, i\n",
    "        if gp[i] > threshold or gn[i] > threshold:  # change detected!\n",
    "            ta = np.append(ta, i)    # alarm index\n",
    "            try:  \n",
    "                #queue_fake.append((ta[-2], ta[-1]))\n",
    "                queue.put((ta[-2], ta[-1]))\n",
    "            except IndexError:\n",
    "                print(ta[-1])\n",
    "                print('moving to next block')\n",
    "            tai = np.append(tai, tap if gp[i] > threshold else tan)  # start\n",
    "            gp[i], gn[i] = 0, 0      # reset alarm\n",
    "    #print(queue_fake)\n",
    "            \n",
    "    if show:\n",
    "        _plot(x, threshold, drift, ending, ax, ta, tai, taf, gp, gn)\n",
    "\n",
    "    return ta, tai, taf, amp\n",
    "\n",
    "\n",
    "def _plot(x, threshold, drift, ending, ax, ta, tai, taf, gp, gn):\n",
    "    \"\"\"Plot results of the detect_cusum function, see its help.\"\"\"\n",
    "\n",
    "    try:\n",
    "        import matplotlib.pyplot as plt\n",
    "    except ImportError:\n",
    "        print('matplotlib is not available.')\n",
    "    else:\n",
    "        if ax is None:\n",
    "            _, (ax1, ax2) = plt.subplots(2, 1, figsize=(8, 6))\n",
    "\n",
    "        t = range(x.size)\n",
    "        ax1.plot(t, x, 'b-', lw=2)\n",
    "        if len(ta):\n",
    "            ax1.plot(tai, x[tai], '>', mfc='g', mec='g', ms=10,\n",
    "                     label='Start')\n",
    "            if ending:\n",
    "                ax1.plot(taf, x[taf], '<', mfc='g', mec='g', ms=10,\n",
    "                         label='Ending')\n",
    "            ax1.plot(ta, x[ta], 'o', mfc='r', mec='r', mew=1, ms=5,\n",
    "                     label='Alarm')\n",
    "            ax1.legend(loc='best', framealpha=.5, numpoints=1)\n",
    "        ax1.set_xlim(-.01*x.size, x.size*1.01-1)\n",
    "        ax1.set_xlabel('Data #', fontsize=14)\n",
    "        ax1.set_ylabel('Amplitude', fontsize=14)\n",
    "        ymin, ymax = x[np.isfinite(x)].min(), x[np.isfinite(x)].max()\n",
    "        yrange = ymax - ymin if ymax > ymin else 1\n",
    "        ax1.set_ylim(ymin - 0.1*yrange, ymax + 0.1*yrange)\n",
    "        ax1.set_title('Time series and detected changes ' +\n",
    "                      '(threshold= %.3g, drift= %.3g): N changes = %d'\n",
    "                      % (threshold, drift, len(tai)))\n",
    "        ax2.plot(t, gp, 'y-', label='+')\n",
    "        ax2.plot(t, gn, 'm-', label='-')\n",
    "        ax2.set_xlim(-.01*x.size, x.size*1.01-1)\n",
    "        ax2.set_xlabel('Data #', fontsize=14)\n",
    "        ax2.set_ylim(-0.01*threshold, 1.1*threshold)\n",
    "        ax2.axhline(threshold, color='r')\n",
    "        ax1.set_ylabel('Amplitude', fontsize=14)\n",
    "        ax2.set_title('Time series of the cumulative sums of ' +\n",
    "                      'positive and negative changes')\n",
    "        ax2.legend(loc='best', framealpha=.5, numpoints=1)\n",
    "        plt.tight_layout()\n",
    "        plt.show()"
   ]
  },
  {
   "cell_type": "code",
   "execution_count": 3,
   "metadata": {},
   "outputs": [],
   "source": [
    "def us_subsampler(epsilon, delta, variable_range, block_size, data, queue, return_queue, index_queue, max_iteration = 100):\n",
    "\n",
    "    epsilon = epsilon\n",
    "    delta = delta  \n",
    "    beta = 1.5\n",
    "    p = 1.1\n",
    "    c = delta * (p-1)/p\n",
    "    last = None\n",
    "    indexes = queue.get()\n",
    "    #Checking for stopping condition\n",
    "    print('subsampler started')\n",
    "    time.sleep(3)\n",
    "    while indexes:\n",
    "        if (indexes[1] - indexes[0]) < block_size:\n",
    "            print('Block size greater than data interval')\n",
    "            print(\"----*----\")\n",
    "            indexes = queue.get()\n",
    "            continue\n",
    "            \n",
    "        sample = data[indexes[0]:indexes[1]]\n",
    "        #print('Breakpoint indices: ', indexes[0], indexes[1])\n",
    "        print('Interval size: ', indexes[1] - indexes[0])\n",
    "        upper_bound = 10000000000000\n",
    "        lower_bound = -1000000000000\n",
    "        t = 1\n",
    "        k = 0\n",
    "        values = np.empty(1)\n",
    "        iteration = 0\n",
    "        \n",
    "        while ((epsilon + 1) * lower_bound < (1 - epsilon) * upper_bound):\n",
    "\n",
    "            initial_value = randint(0,len(sample)-(block_size+1))\n",
    "\n",
    "            #if (t % 10 == 0):\n",
    "                #print('sample size: ', t)\n",
    "            values = np.concatenate((values,sample[initial_value:initial_value+block_size]), axis = None)\n",
    "            t += block_size\n",
    "\n",
    "            #Adding new value\n",
    "\n",
    "            if t > np.floor(beta ** k):\n",
    "                k += 1\n",
    "                alpha = np.floor(beta ** k) / np.floor(beta ** (k - 1))\n",
    "                dk = c / (0.00000000000001 + (math.log(k, p) ** p))\n",
    "                x = -alpha * np.log(dk)/3\n",
    "            \n",
    "            #print(2 * x / t)\n",
    "            ct = np.std(values) * np.sqrt(2 * x / t) + 3 * variable_range * x / t\n",
    "            lower_bound = max(lower_bound, np.abs(np.mean(values))-ct)\n",
    "            #print('lower bound: ', lower_bound)\n",
    "            upper_bound = min(upper_bound, np.abs(np.mean(values))+ct)\n",
    "            #print('upper bound: ', upper_bound)\n",
    "            iteration += 1\n",
    "            if iteration == max_iteration or len(values) >= len(sample):\n",
    "                break\n",
    "                \n",
    "        if iteration == max_iteration or len(values) >= len(sample):\n",
    "            return_queue.put(sample)\n",
    "        else:\n",
    "            return_queue.put(values)\n",
    "        \n",
    "        if iteration == max_iteration or len(values) >= len(sample):\n",
    "            print('Relative sample size: ', '100%')\n",
    "        else:\n",
    "            print('Relative sample size: ', str(round(((block_size * iteration)/len(sample))*100,2)) +' %')\n",
    "        \n",
    "        print(\"----*----\")\n",
    "        index = indexes\n",
    "        index_queue.put(index)\n",
    "        indexes = queue.get()\n",
    "        \n",
    "    return"
   ]
  },
  {
   "cell_type": "markdown",
   "metadata": {},
   "source": [
    "## Example 1"
   ]
  },
  {
   "cell_type": "code",
   "execution_count": 64,
   "metadata": {},
   "outputs": [
    {
     "data": {
      "text/plain": [
       "[<matplotlib.lines.Line2D at 0x133abecd0>]"
      ]
     },
     "execution_count": 64,
     "metadata": {},
     "output_type": "execute_result"
    },
    {
     "data": {
      "image/png": "[encoded data removed]",
      "text/plain": [
       "<Figure size 432x288 with 1 Axes>"
      ]
     },
     "metadata": {
      "needs_background": "light"
     },
     "output_type": "display_data"
    }
   ],
   "source": [
    "n = 1000000\n",
    "mu = 2\n",
    "sigma = 0.5\n",
    "x = np.random.normal(mu, sigma, n)\n",
    "x[100000:200000] += 2\n",
    "x[400000:500000] += 3.5\n",
    "x[600000:700000] += 2.5\n",
    "x[800000:900000] += 2\n",
    "plt.plot(x)"
   ]
  },
  {
   "cell_type": "code",
   "execution_count": 65,
   "metadata": {},
   "outputs": [
    {
     "name": "stdout",
     "output_type": "stream",
     "text": [
      "breakpoint started\n",
      "subsampler started\n",
      "Breakpoint indexes 0 100046\n"
     ]
    },
    {
     "name": "stderr",
     "output_type": "stream",
     "text": [
      "/Users/brunobarbarioli/opt/anaconda3/lib/python3.7/site-packages/ipykernel_launcher.py:49: RuntimeWarning: invalid value encountered in sqrt\n"
     ]
    },
    {
     "name": "stdout",
     "output_type": "stream",
     "text": [
      "Relative sample size:  1.54 %\n",
      "Breakpoint indexes 100046 355465\n",
      "Relative sample size:  1.31 %\n",
      "Breakpoint indexes 355465 400000\n",
      "Relative sample size:  1.52 %\n",
      "Breakpoint indexes 400000 500000\n",
      "Relative sample size:  0.4 %\n",
      "Breakpoint indexes 500000 600009\n",
      "Relative sample size:  1.56 %\n",
      "Breakpoint indexes 600009 700000\n",
      "Relative sample size:  0.51 %\n",
      "Breakpoint indexes 700000 729888\n",
      "Relative sample size:  1.51 %\n",
      "Breakpoint indexes 729888 800005\n",
      "Relative sample size:  1.57 %\n",
      "Breakpoint indexes 800005 873778\n",
      "Relative sample size:  0.59 %\n",
      "Breakpoint indexes 873778 898835\n",
      "Relative sample size:  0.59 %\n",
      "Breakpoint indexes 898835 964022\n",
      "Relative sample size:  1.67 %\n"
     ]
    }
   ],
   "source": [
    "# Epsilon 0.01\n",
    "queue = mp.Queue()\n",
    "p1 = mp.Process(target = detection, args = (x, queue, 3.5, .02, False, False))\n",
    "p2 = mp.Process(target = us_subsampler, args = (0.01,0.01,7,5,x, queue))\n",
    "\n",
    "p1.start()\n",
    "p2.start()"
   ]
  },
  {
   "cell_type": "code",
   "execution_count": 66,
   "metadata": {},
   "outputs": [
    {
     "name": "stdout",
     "output_type": "stream",
     "text": [
      "breakpoint started\n",
      "subsampler started\n",
      "Breakpoint indexes 0 100046\n"
     ]
    },
    {
     "name": "stderr",
     "output_type": "stream",
     "text": [
      "/Users/brunobarbarioli/opt/anaconda3/lib/python3.7/site-packages/ipykernel_launcher.py:49: RuntimeWarning: invalid value encountered in sqrt\n"
     ]
    },
    {
     "name": "stdout",
     "output_type": "stream",
     "text": [
      "Relative sample size:  4.19 %\n",
      "Breakpoint indexes 100046 355465\n",
      "Relative sample size:  5.91 %\n",
      "Breakpoint indexes 355465 400000\n",
      "Relative sample size:  4.63 %\n",
      "Breakpoint indexes 400000 500000\n",
      "Relative sample size:  0.98 %\n",
      "Breakpoint indexes 500000 600009\n",
      "Relative sample size:  4.56 %\n",
      "Breakpoint indexes 600009 700000\n",
      "Relative sample size:  1.34 %\n",
      "Breakpoint indexes 700000 729888\n",
      "Relative sample size:  4.58 %\n",
      "Breakpoint indexes 729888 800005\n",
      "Relative sample size:  4.42 %\n",
      "Breakpoint indexes 800005 873778\n",
      "Relative sample size:  1.57 %\n",
      "Breakpoint indexes 873778 898835\n",
      "Relative sample size:  1.54 %\n",
      "Breakpoint indexes 898835 964022\n",
      "Relative sample size:  4.48 %\n"
     ]
    }
   ],
   "source": [
    "# Epsilon 0.005\n",
    "queue = mp.Queue()\n",
    "p1 = mp.Process(target = detection, args = (x, queue, 3.5, .02, False, False))\n",
    "p2 = mp.Process(target = us_subsampler, args = (0.005,0.01,7,5,x, queue))\n",
    "\n",
    "p1.start()\n",
    "p2.start()"
   ]
  },
  {
   "cell_type": "markdown",
   "metadata": {},
   "source": [
    "## Example 2"
   ]
  },
  {
   "cell_type": "code",
   "execution_count": 58,
   "metadata": {},
   "outputs": [
    {
     "data": {
      "text/plain": [
       "[<matplotlib.lines.Line2D at 0x11ca08650>]"
      ]
     },
     "execution_count": 58,
     "metadata": {},
     "output_type": "execute_result"
    },
    {
     "data": {
      "image/png": "[encoded data removed]",
      "text/plain": [
       "<Figure size 432x288 with 1 Axes>"
      ]
     },
     "metadata": {
      "needs_background": "light"
     },
     "output_type": "display_data"
    }
   ],
   "source": [
    "n = 1000000\n",
    "mu = 2\n",
    "sigma = 1\n",
    "x = np.random.normal(mu, sigma, n)\n",
    "x[100000:200000] += 2\n",
    "x[400000:500000] += 3.5\n",
    "x[600000:700000] += 2.5\n",
    "x[800000:900000] += 2\n",
    "plt.plot(x)"
   ]
  },
  {
   "cell_type": "code",
   "execution_count": null,
   "metadata": {},
   "outputs": [],
   "source": [
    "# Epsilon 0.01\n",
    "queue = mp.Queue()\n",
    "p1 = mp.Process(target = detection, args = (x, queue, 3, .02, False, False))\n",
    "p2 = mp.Process(target = us_subsampler, args = (0.01,0.01,7,5,x, queue))\n",
    "\n",
    "p1.start()\n",
    "p2.start()"
   ]
  },
  {
   "cell_type": "markdown",
   "metadata": {},
   "source": [
    "## Real data"
   ]
  },
  {
   "cell_type": "markdown",
   "metadata": {},
   "source": [
    "### Example 1 - UCI Household power consumption"
   ]
  },
  {
   "cell_type": "markdown",
   "metadata": {},
   "source": [
    "https://archive.ics.uci.edu/ml/datasets/Individual+household+electric+power+consumption"
   ]
  },
  {
   "cell_type": "code",
   "execution_count": 2,
   "metadata": {},
   "outputs": [],
   "source": [
    "import multiprocessing as mp\n",
    "import time\n",
    "import numpy as np\n",
    "import pandas as pd\n",
    "import matplotlib.pyplot as plt\n",
    "import math\n",
    "from random import randint\n",
    "from colorama import Fore\n",
    "import sys\n",
    "import warnings\n",
    "\n",
    "if not sys.warnoptions:\n",
    "    warnings.simplefilter(\"ignore\")"
   ]
  },
  {
   "cell_type": "code",
   "execution_count": 6,
   "metadata": {},
   "outputs": [
    {
     "name": "stderr",
     "output_type": "stream",
     "text": [
      "/Users/brunobarbarioli/opt/anaconda3/lib/python3.7/site-packages/IPython/core/interactiveshell.py:3063: DtypeWarning: Columns (2,3,4,5,6,7) have mixed types.Specify dtype option on import or set low_memory=False.\n",
      "  interactivity=interactivity, compiler=compiler, result=result)\n"
     ]
    }
   ],
   "source": [
    "path = '/Users/brunobarbarioli/Documents/Research/OTSS/datasets/household_power_consumption.txt'\n",
    "data = pd.read_csv(path, sep = ';')"
   ]
  },
  {
   "cell_type": "markdown",
   "metadata": {},
   "source": [
    "### Exploratory data analysis and data cleaning"
   ]
  },
  {
   "cell_type": "code",
   "execution_count": 7,
   "metadata": {},
   "outputs": [
    {
     "name": "stdout",
     "output_type": "stream",
     "text": [
      "         Date      Time Global_active_power Global_reactive_power  Voltage  \\\n",
      "0  16/12/2006  17:24:00               4.216                 0.418  234.840   \n",
      "1  16/12/2006  17:25:00               5.360                 0.436  233.630   \n",
      "2  16/12/2006  17:26:00               5.374                 0.498  233.290   \n",
      "3  16/12/2006  17:27:00               5.388                 0.502  233.740   \n",
      "4  16/12/2006  17:28:00               3.666                 0.528  235.680   \n",
      "\n",
      "  Global_intensity Sub_metering_1 Sub_metering_2  Sub_metering_3  \n",
      "0           18.400          0.000          1.000            17.0  \n",
      "1           23.000          0.000          1.000            16.0  \n",
      "2           23.000          0.000          2.000            17.0  \n",
      "3           23.000          0.000          1.000            17.0  \n",
      "4           15.800          0.000          1.000            17.0  \n"
     ]
    }
   ],
   "source": [
    "print(data.head(5))"
   ]
  },
  {
   "cell_type": "code",
   "execution_count": 8,
   "metadata": {},
   "outputs": [
    {
     "name": "stdout",
     "output_type": "stream",
     "text": [
      "<class 'pandas.core.frame.DataFrame'>\n",
      "RangeIndex: 2075259 entries, 0 to 2075258\n",
      "Data columns (total 9 columns):\n",
      " #   Column                 Dtype  \n",
      "---  ------                 -----  \n",
      " 0   Date                   object \n",
      " 1   Time                   object \n",
      " 2   Global_active_power    object \n",
      " 3   Global_reactive_power  object \n",
      " 4   Voltage                object \n",
      " 5   Global_intensity       object \n",
      " 6   Sub_metering_1         object \n",
      " 7   Sub_metering_2         object \n",
      " 8   Sub_metering_3         float64\n",
      "dtypes: float64(1), object(8)\n",
      "memory usage: 142.5+ MB\n"
     ]
    }
   ],
   "source": [
    "data.info()"
   ]
  },
  {
   "cell_type": "code",
   "execution_count": 9,
   "metadata": {},
   "outputs": [
    {
     "name": "stderr",
     "output_type": "stream",
     "text": [
      "/Users/brunobarbarioli/opt/anaconda3/lib/python3.7/site-packages/pandas/core/ops/array_ops.py:252: FutureWarning: elementwise comparison failed; returning scalar instead, but in the future will perform elementwise comparison\n",
      "  res_values = method(rvalues)\n"
     ]
    }
   ],
   "source": [
    "data = data[data.Sub_metering_1 != '?']\n",
    "data = data[data.Sub_metering_2 != '?']\n",
    "data = data[data.Sub_metering_3 != '?']"
   ]
  },
  {
   "cell_type": "code",
   "execution_count": 10,
   "metadata": {},
   "outputs": [],
   "source": [
    "data.index = pd.to_datetime(data['Date'] +' '+ data['Time'])\n",
    "data_clean = data.drop(columns = ['Date', 'Time'])"
   ]
  },
  {
   "cell_type": "code",
   "execution_count": 11,
   "metadata": {},
   "outputs": [
    {
     "name": "stdout",
     "output_type": "stream",
     "text": [
      "<class 'pandas.core.frame.DataFrame'>\n",
      "DatetimeIndex: 2049280 entries, 2006-12-16 17:24:00 to 2010-11-26 21:02:00\n",
      "Data columns (total 7 columns):\n",
      " #   Column                 Dtype  \n",
      "---  ------                 -----  \n",
      " 0   Global_active_power    object \n",
      " 1   Global_reactive_power  object \n",
      " 2   Voltage                object \n",
      " 3   Global_intensity       object \n",
      " 4   Sub_metering_1         object \n",
      " 5   Sub_metering_2         object \n",
      " 6   Sub_metering_3         float64\n",
      "dtypes: float64(1), object(6)\n",
      "memory usage: 125.1+ MB\n"
     ]
    }
   ],
   "source": [
    "data_clean.info()"
   ]
  },
  {
   "cell_type": "code",
   "execution_count": 12,
   "metadata": {},
   "outputs": [
    {
     "data": {
      "text/plain": [
       "2006-12-16 17:24:00    0.0\n",
       "2006-12-16 17:25:00    0.0\n",
       "2006-12-16 17:26:00    0.0\n",
       "2006-12-16 17:27:00    0.0\n",
       "2006-12-16 17:28:00    0.0\n",
       "                      ... \n",
       "2010-11-26 20:58:00    0.0\n",
       "2010-11-26 20:59:00    0.0\n",
       "2010-11-26 21:00:00    0.0\n",
       "2010-11-26 21:01:00    0.0\n",
       "2010-11-26 21:02:00    0.0\n",
       "Name: Sub_metering_1, Length: 2049280, dtype: float64"
      ]
     },
     "execution_count": 12,
     "metadata": {},
     "output_type": "execute_result"
    }
   ],
   "source": [
    "data_clean.Sub_metering_1.astype('float')"
   ]
  },
  {
   "cell_type": "code",
   "execution_count": 13,
   "metadata": {
    "scrolled": true
   },
   "outputs": [],
   "source": [
    "#data_clean['Metering'] = data_clean['Sub_metering_1'] + data_clean['Sub_metering_2'] + data_clean['Sub_metering_3']"
   ]
  },
  {
   "cell_type": "code",
   "execution_count": 14,
   "metadata": {},
   "outputs": [
    {
     "data": {
      "text/plain": [
       "<matplotlib.axes._subplots.AxesSubplot at 0x11fae53d0>"
      ]
     },
     "execution_count": 14,
     "metadata": {},
     "output_type": "execute_result"
    },
    {
     "data": {
      "image/png": "[encoded data removed]",
      "text/plain": [
       "<Figure size 432x288 with 1 Axes>"
      ]
     },
     "metadata": {
      "needs_background": "light"
     },
     "output_type": "display_data"
    }
   ],
   "source": [
    "data_clean.plot('Sub_metering_1')"
   ]
  },
  {
   "cell_type": "code",
   "execution_count": 15,
   "metadata": {},
   "outputs": [],
   "source": [
    "x = data_clean['Sub_metering_3']"
   ]
  },
  {
   "cell_type": "code",
   "execution_count": 16,
   "metadata": {},
   "outputs": [
    {
     "data": {
      "text/plain": [
       "<matplotlib.axes._subplots.AxesSubplot at 0x125afe450>"
      ]
     },
     "execution_count": 16,
     "metadata": {},
     "output_type": "execute_result"
    },
    {
     "data": {
      "image/png": "[encoded data removed]",
      "text/plain": [
       "<Figure size 432x288 with 1 Axes>"
      ]
     },
     "metadata": {
      "needs_background": "light"
     },
     "output_type": "display_data"
    }
   ],
   "source": [
    "x.plot()"
   ]
  },
  {
   "cell_type": "markdown",
   "metadata": {},
   "source": [
    "### Model"
   ]
  },
  {
   "cell_type": "code",
   "execution_count": 13,
   "metadata": {
    "scrolled": true
   },
   "outputs": [
    {
     "name": "stdout",
     "output_type": "stream",
     "text": [
      "breakpoint started\n",
      "subsampler started\n",
      "Breakpoint indexes:  0 292\n",
      "Interval size:  292\n"
     ]
    },
    {
     "name": "stderr",
     "output_type": "stream",
     "text": [
      "/Users/brunobarbarioli/opt/anaconda3/lib/python3.7/site-packages/ipykernel_launcher.py:51: RuntimeWarning: invalid value encountered in sqrt\n"
     ]
    },
    {
     "name": "stdout",
     "output_type": "stream",
     "text": [
      "Relative sample size:  75.34 %\n",
      "----*----\n",
      "Breakpoint indexes:  292 667\n",
      "Interval size:  375\n",
      "Relative sample size:  100%\n",
      "----*----\n",
      "Breakpoint indexes:  667 712\n",
      "Interval size:  45\n",
      "Relative sample size:  444.44 %\n",
      "----*----\n",
      "Breakpoint indexes:  712 999\n",
      "Interval size:  287\n",
      "Relative sample size:  100%\n",
      "----*----\n",
      "Breakpoint indexes:  999 1725\n",
      "Interval size:  726\n",
      "Relative sample size:  30.3 %\n",
      "----*----\n",
      "Breakpoint indexes:  1725 2093\n",
      "Interval size:  368\n",
      "Relative sample size:  100%\n",
      "----*----\n",
      "Breakpoint indexes:  2093 2134\n",
      "Interval size:  41\n",
      "Relative sample size:  487.8 %\n",
      "----*----\n",
      "Breakpoint indexes:  2134 2278\n",
      "Interval size:  144\n",
      "Relative sample size:  100%\n",
      "----*----\n",
      "Breakpoint indexes:  2278 2674\n",
      "Interval size:  396\n",
      "Relative sample size:  53.03 %\n",
      "----*----\n",
      "Block size greater than data interval\n",
      "----*----\n",
      "Breakpoint indexes:  2678 2975\n",
      "Interval size:  297\n",
      "Relative sample size:  72.39 %\n",
      "----*----\n",
      "Breakpoint indexes:  2975 3049\n",
      "Interval size:  74\n",
      "Relative sample size:  100%\n",
      "----*----\n",
      "Breakpoint indexes:  3049 3109\n",
      "Interval size:  60\n",
      "Relative sample size:  358.33 %\n",
      "----*----\n",
      "Breakpoint indexes:  3109 3309\n",
      "Interval size:  200\n",
      "Relative sample size:  100%\n",
      "----*----\n",
      "Breakpoint indexes:  3309 3339\n",
      "Interval size:  30\n",
      "Relative sample size:  683.33 %\n",
      "----*----\n",
      "Breakpoint indexes:  3339 3731\n",
      "Interval size:  392\n",
      "Relative sample size:  100%\n",
      "----*----\n",
      "Breakpoint indexes:  3731 3828\n",
      "Interval size:  97\n",
      "Relative sample size:  221.65 %\n",
      "----*----\n",
      "Breakpoint indexes:  3828 4229\n",
      "Interval size:  401\n",
      "Relative sample size:  100%\n",
      "----*----\n",
      "Breakpoint indexes:  4229 4456\n",
      "Interval size:  227\n",
      "Relative sample size:  92.51 %\n",
      "----*----\n",
      "Breakpoint indexes:  4456 4870\n",
      "Interval size:  414\n",
      "Relative sample size:  100%\n",
      "----*----\n",
      "Breakpoint indexes:  4870 4898\n",
      "Interval size:  28\n",
      "Relative sample size:  714.29 %\n",
      "----*----\n",
      "Breakpoint indexes:  4898 5180\n",
      "Interval size:  282\n",
      "Relative sample size:  100%\n",
      "----*----\n",
      "Breakpoint indexes:  5180 5611\n",
      "Interval size:  431\n",
      "Relative sample size:  46.4 %\n",
      "----*----\n",
      "Breakpoint indexes:  5611 5820\n",
      "Interval size:  209\n",
      "Relative sample size:  100%\n",
      "----*----\n",
      "Breakpoint indexes:  5820 6333\n",
      "Interval size:  513\n",
      "Relative sample size:  40.94 %\n",
      "----*----\n",
      "Breakpoint indexes:  6333 6679\n",
      "Interval size:  346\n",
      "Relative sample size:  100%\n",
      "----*----\n",
      "Breakpoint indexes:  6679 6807\n",
      "Interval size:  128\n",
      "Relative sample size:  164.06 %\n",
      "----*----\n",
      "Breakpoint indexes:  6807 6981\n",
      "Interval size:  174\n"
     ]
    },
    {
     "name": "stderr",
     "output_type": "stream",
     "text": [
      "Process Process-1:\n",
      "Traceback (most recent call last):\n",
      "  File \"/Users/brunobarbarioli/opt/anaconda3/lib/python3.7/multiprocessing/process.py\", line 300, in _bootstrap\n",
      "    util._exit_function()\n",
      "  File \"/Users/brunobarbarioli/opt/anaconda3/lib/python3.7/multiprocessing/util.py\", line 337, in _exit_function\n",
      "    _run_finalizers()\n",
      "  File \"/Users/brunobarbarioli/opt/anaconda3/lib/python3.7/multiprocessing/util.py\", line 277, in _run_finalizers\n",
      "    finalizer()\n",
      "  File \"/Users/brunobarbarioli/opt/anaconda3/lib/python3.7/multiprocessing/util.py\", line 201, in __call__\n",
      "    res = self._callback(*self._args, **self._kwargs)\n",
      "  File \"/Users/brunobarbarioli/opt/anaconda3/lib/python3.7/multiprocessing/queues.py\", line 192, in _finalize_join\n",
      "    thread.join()\n",
      "  File \"/Users/brunobarbarioli/opt/anaconda3/lib/python3.7/threading.py\", line 1044, in join\n",
      "    self._wait_for_tstate_lock()\n",
      "  File \"/Users/brunobarbarioli/opt/anaconda3/lib/python3.7/threading.py\", line 1060, in _wait_for_tstate_lock\n",
      "    elif lock.acquire(block, timeout):\n",
      "KeyboardInterrupt\n"
     ]
    },
    {
     "name": "stdout",
     "output_type": "stream",
     "text": [
      "Relative sample size:  100%\n",
      "----*----\n",
      "Breakpoint indexes:  6981 7022\n",
      "Interval size:  41\n",
      "Relative sample size:  487.8 %\n",
      "----*----\n",
      "Breakpoint indexes:  7022 7115\n",
      "Interval size:  93\n",
      "Relative sample size:  100%\n",
      "----*----\n",
      "Breakpoint indexes:  7115 7179\n",
      "Interval size:  64\n",
      "Relative sample size:  335.94 %\n",
      "----*----\n",
      "Breakpoint indexes:  7179 7197\n",
      "Interval size:  18\n",
      "Relative sample size:  100%\n",
      "----*----\n",
      "Breakpoint indexes:  7197 7336\n",
      "Interval size:  139\n",
      "Relative sample size:  151.08 %\n",
      "----*----\n",
      "Breakpoint indexes:  7336 7399\n",
      "Interval size:  63\n",
      "Relative sample size:  100%\n",
      "----*----\n",
      "Breakpoint indexes:  7399 7444\n",
      "Interval size:  45\n",
      "Relative sample size:  477.78 %\n",
      "----*----\n",
      "Breakpoint indexes:  7444 7896\n",
      "Interval size:  452\n",
      "Relative sample size:  100%\n",
      "----*----\n",
      "Breakpoint indexes:  7896 7926\n",
      "Interval size:  30\n",
      "Relative sample size:  716.67 %\n",
      "----*----\n",
      "Breakpoint indexes:  7926 8061\n",
      "Interval size:  135\n",
      "Relative sample size:  100%\n",
      "----*----\n",
      "Breakpoint indexes:  8061 8298\n",
      "Interval size:  237\n",
      "Relative sample size:  88.61 %\n",
      "----*----\n",
      "Breakpoint indexes:  8298 8474\n",
      "Interval size:  176\n",
      "Relative sample size:  100%\n",
      "----*----\n",
      "Breakpoint indexes:  8474 8650\n",
      "Interval size:  176\n",
      "Relative sample size:  116.48 %\n",
      "----*----\n",
      "Breakpoint indexes:  8650 8720\n",
      "Interval size:  70\n",
      "Relative sample size:  100%\n",
      "----*----\n",
      "Breakpoint indexes:  8720 8913\n",
      "Interval size:  193\n",
      "Relative sample size:  111.4 %\n",
      "----*----\n",
      "Breakpoint indexes:  8913 9327\n",
      "Interval size:  414\n",
      "Relative sample size:  100%\n",
      "----*----\n",
      "Breakpoint indexes:  9327 9358\n",
      "Interval size:  31\n",
      "Relative sample size:  693.55 %\n",
      "----*----\n",
      "Breakpoint indexes:  9358 9477\n",
      "Interval size:  119\n",
      "Relative sample size:  100%\n",
      "----*----\n",
      "Breakpoint indexes:  9477 9639\n",
      "Interval size:  162\n",
      "Relative sample size:  129.63 %\n",
      "----*----\n",
      "Breakpoint indexes:  9639 9669\n",
      "Interval size:  30\n",
      "Relative sample size:  100%\n",
      "----*----\n",
      "Breakpoint indexes:  9669 9732\n",
      "Interval size:  63\n",
      "Relative sample size:  333.33 %\n",
      "----*----\n",
      "Breakpoint indexes:  9732 9781\n",
      "Interval size:  49\n",
      "Relative sample size:  100%\n",
      "----*----\n",
      "Breakpoint indexes:  9781 10314\n",
      "Interval size:  533\n",
      "Relative sample size:  40.34 %\n",
      "----*----\n",
      "Breakpoint indexes:  10314 10421\n",
      "Interval size:  107\n",
      "Relative sample size:  100%\n",
      "----*----\n",
      "Breakpoint indexes:  10421 10607\n",
      "Interval size:  186\n",
      "Relative sample size:  115.59 %\n",
      "----*----\n",
      "Breakpoint indexes:  10607 11025\n",
      "Interval size:  418\n",
      "Relative sample size:  100%\n",
      "----*----\n",
      "Breakpoint indexes:  11025 11201\n",
      "Interval size:  176\n",
      "Relative sample size:  119.32 %\n",
      "----*----\n",
      "Breakpoint indexes:  11201 11295\n",
      "Interval size:  94\n",
      "Relative sample size:  100%\n",
      "----*----\n",
      "Breakpoint indexes:  11295 11348\n",
      "Interval size:  53\n",
      "Relative sample size:  386.79 %\n",
      "----*----\n",
      "Breakpoint indexes:  11348 11448\n",
      "Interval size:  100\n",
      "Relative sample size:  100%\n",
      "----*----\n",
      "Breakpoint indexes:  11448 11479\n",
      "Interval size:  31\n",
      "Relative sample size:  645.16 %\n",
      "----*----\n",
      "Breakpoint indexes:  11479 11964\n",
      "Interval size:  485\n",
      "Relative sample size:  100%\n",
      "----*----\n",
      "Breakpoint indexes:  11964 12012\n",
      "Interval size:  48\n",
      "Relative sample size:  437.5 %\n",
      "----*----\n",
      "Breakpoint indexes:  12012 12393\n",
      "Interval size:  381\n",
      "Relative sample size:  100%\n",
      "----*----\n",
      "Breakpoint indexes:  12393 12430\n",
      "Interval size:  37\n",
      "Relative sample size:  554.05 %\n",
      "----*----\n",
      "Breakpoint indexes:  12430 12594\n",
      "Interval size:  164\n",
      "Relative sample size:  100%\n",
      "----*----\n",
      "Breakpoint indexes:  12594 12650\n",
      "Interval size:  56\n",
      "Relative sample size:  375.0 %\n",
      "----*----\n",
      "Breakpoint indexes:  12650 12797\n",
      "Interval size:  147\n",
      "Relative sample size:  100%\n",
      "----*----\n",
      "Breakpoint indexes:  12797 12845\n",
      "Interval size:  48\n",
      "Relative sample size:  416.67 %\n",
      "----*----\n",
      "Breakpoint indexes:  12845 12979\n",
      "Interval size:  134\n",
      "Relative sample size:  100%\n",
      "----*----\n",
      "Breakpoint indexes:  12979 13016\n",
      "Interval size:  37\n",
      "Relative sample size:  567.57 %\n",
      "----*----\n",
      "Breakpoint indexes:  13016 13153\n",
      "Interval size:  137\n",
      "Relative sample size:  100%\n",
      "----*----\n",
      "Breakpoint indexes:  13153 13254\n",
      "Interval size:  101\n",
      "Relative sample size:  222.77 %\n",
      "----*----\n",
      "Breakpoint indexes:  13254 13606\n",
      "Interval size:  352\n",
      "Relative sample size:  100%\n",
      "----*----\n",
      "Breakpoint indexes:  13606 13635\n",
      "Interval size:  29\n",
      "Relative sample size:  689.66 %\n",
      "----*----\n",
      "Breakpoint indexes:  13635 13826\n",
      "Interval size:  191\n",
      "Relative sample size:  100%\n",
      "----*----\n",
      "Breakpoint indexes:  13826 13865\n",
      "Interval size:  39\n",
      "Relative sample size:  538.46 %\n",
      "----*----\n",
      "Breakpoint indexes:  13865 13882\n",
      "Interval size:  17\n",
      "Relative sample size:  100%\n",
      "----*----\n",
      "Breakpoint indexes:  13882 13931\n",
      "Interval size:  49\n",
      "Relative sample size:  428.57 %\n",
      "----*----\n",
      "Breakpoint indexes:  13931 13939\n",
      "Interval size:  8\n",
      "Relative sample size:  100%\n",
      "----*----\n",
      "Breakpoint indexes:  13939 14669\n",
      "Interval size:  730\n",
      "Relative sample size:  29.45 %\n",
      "----*----\n",
      "Breakpoint indexes:  14669 15110\n",
      "Interval size:  441\n",
      "Relative sample size:  100%\n",
      "----*----\n",
      "Breakpoint indexes:  15110 15142\n",
      "Interval size:  32\n",
      "Relative sample size:  625.0 %\n",
      "----*----\n",
      "Breakpoint indexes:  15142 15258\n",
      "Interval size:  116\n",
      "Relative sample size:  100%\n",
      "----*----\n",
      "Breakpoint indexes:  15258 15558\n",
      "Interval size:  300\n",
      "Relative sample size:  70.0 %\n",
      "----*----\n",
      "Breakpoint indexes:  15558 15996\n",
      "Interval size:  438\n",
      "Relative sample size:  100%\n",
      "----*----\n",
      "Breakpoint indexes:  15996 16056\n",
      "Interval size:  60\n",
      "Relative sample size:  325.0 %\n",
      "----*----\n",
      "Breakpoint indexes:  16056 16236\n",
      "Interval size:  180\n",
      "Relative sample size:  100%\n",
      "----*----\n",
      "Breakpoint indexes:  16236 16275\n",
      "Interval size:  39\n",
      "Relative sample size:  512.82 %\n",
      "----*----\n",
      "Breakpoint indexes:  16275 16707\n",
      "Interval size:  432\n",
      "Relative sample size:  100%\n",
      "----*----\n",
      "Breakpoint indexes:  16707 16802\n",
      "Interval size:  95\n",
      "Relative sample size:  215.79 %\n",
      "----*----\n",
      "Breakpoint indexes:  16802 17069\n",
      "Interval size:  267\n",
      "Relative sample size:  100%\n",
      "----*----\n",
      "Breakpoint indexes:  17069 17390\n",
      "Interval size:  321\n",
      "Relative sample size:  66.98 %\n",
      "----*----\n",
      "Breakpoint indexes:  17390 17487\n",
      "Interval size:  97\n",
      "Relative sample size:  100%\n",
      "----*----\n",
      "Breakpoint indexes:  17487 17547\n",
      "Interval size:  60\n",
      "Relative sample size:  375.0 %\n",
      "----*----\n",
      "Breakpoint indexes:  17547 17757\n",
      "Interval size:  210\n",
      "Relative sample size:  100%\n",
      "----*----\n",
      "Breakpoint indexes:  17757 17786\n",
      "Interval size:  29\n",
      "Relative sample size:  689.66 %\n",
      "----*----\n",
      "Breakpoint indexes:  17786 18113\n",
      "Interval size:  327\n",
      "Relative sample size:  100%\n",
      "----*----\n",
      "Breakpoint indexes:  18113 18166\n",
      "Interval size:  53\n",
      "Relative sample size:  405.66 %\n",
      "----*----\n",
      "Breakpoint indexes:  18166 18183\n",
      "Interval size:  17\n",
      "Relative sample size:  100%\n",
      "----*----\n",
      "Breakpoint indexes:  18183 18589\n",
      "Interval size:  406\n",
      "Relative sample size:  51.72 %\n",
      "----*----\n",
      "Breakpoint indexes:  18589 18856\n",
      "Interval size:  267\n",
      "Relative sample size:  100%\n",
      "----*----\n",
      "Breakpoint indexes:  18856 18908\n",
      "Interval size:  52\n",
      "Relative sample size:  423.08 %\n",
      "----*----\n",
      "Breakpoint indexes:  18908 18961\n",
      "Interval size:  53\n",
      "Relative sample size:  100%\n",
      "----*----\n",
      "Breakpoint indexes:  18961 19065\n",
      "Interval size:  104\n",
      "Relative sample size:  206.73 %\n",
      "----*----\n",
      "Breakpoint indexes:  19065 19499\n",
      "Interval size:  434\n",
      "Relative sample size:  100%\n",
      "----*----\n",
      "Breakpoint indexes:  19499 19530\n",
      "Interval size:  31\n",
      "Relative sample size:  645.16 %\n",
      "----*----\n",
      "Breakpoint indexes:  19530 19664\n",
      "Interval size:  134\n",
      "Relative sample size:  100%\n",
      "----*----\n",
      "Breakpoint indexes:  19664 20353\n",
      "Interval size:  689\n",
      "Relative sample size:  31.93 %\n",
      "----*----\n",
      "Breakpoint indexes:  20353 20824\n",
      "Interval size:  471\n",
      "Relative sample size:  100%\n",
      "----*----\n",
      "Breakpoint indexes:  20824 20869\n",
      "Interval size:  45\n",
      "Relative sample size:  444.44 %\n",
      "----*----\n",
      "Breakpoint indexes:  20869 21020\n",
      "Interval size:  151\n",
      "Relative sample size:  100%\n",
      "----*----\n",
      "Breakpoint indexes:  21020 21065\n",
      "Interval size:  45\n",
      "Relative sample size:  466.67 %\n",
      "----*----\n",
      "Breakpoint indexes:  21065 21184\n",
      "Interval size:  119\n",
      "Relative sample size:  100%\n",
      "----*----\n",
      "Breakpoint indexes:  21184 21425\n",
      "Interval size:  241\n",
      "Relative sample size:  87.14 %\n",
      "----*----\n",
      "Breakpoint indexes:  21425 21926\n",
      "Interval size:  501\n",
      "Relative sample size:  100%\n",
      "----*----\n",
      "Breakpoint indexes:  21926 21967\n",
      "Interval size:  41\n",
      "Relative sample size:  512.2 %\n",
      "----*----\n",
      "Breakpoint indexes:  21967 22551\n",
      "Interval size:  584\n",
      "Relative sample size:  100%\n",
      "----*----\n",
      "Breakpoint indexes:  22551 22601\n",
      "Interval size:  50\n",
      "Relative sample size:  420.0 %\n"
     ]
    },
    {
     "name": "stdout",
     "output_type": "stream",
     "text": [
      "----*----\n",
      "Breakpoint indexes:  22601 22861\n",
      "Interval size:  260\n",
      "Relative sample size:  100%\n",
      "----*----\n",
      "Breakpoint indexes:  22861 23148\n",
      "Interval size:  287\n",
      "Relative sample size:  73.17 %\n",
      "----*----\n",
      "Breakpoint indexes:  23148 23699\n",
      "Interval size:  551\n",
      "Relative sample size:  100%\n",
      "----*----\n",
      "Breakpoint indexes:  23699 23747\n",
      "Interval size:  48\n",
      "Relative sample size:  416.67 %\n",
      "----*----\n",
      "Breakpoint indexes:  23747 24336\n",
      "Interval size:  589\n",
      "Relative sample size:  100%\n",
      "----*----\n",
      "Breakpoint indexes:  24336 24389\n",
      "Interval size:  53\n",
      "Relative sample size:  377.36 %\n",
      "----*----\n",
      "Breakpoint indexes:  24389 24400\n",
      "Interval size:  11\n",
      "Relative sample size:  100%\n",
      "----*----\n",
      "Breakpoint indexes:  24400 24464\n",
      "Interval size:  64\n",
      "Relative sample size:  312.5 %\n",
      "----*----\n",
      "Breakpoint indexes:  24464 24495\n",
      "Interval size:  31\n",
      "Relative sample size:  100%\n",
      "----*----\n",
      "Breakpoint indexes:  24495 24701\n",
      "Interval size:  206\n",
      "Relative sample size:  101.94 %\n",
      "----*----\n",
      "Breakpoint indexes:  24701 25196\n",
      "Interval size:  495\n",
      "Relative sample size:  100%\n",
      "----*----\n",
      "Breakpoint indexes:  25196 25232\n",
      "Interval size:  36\n",
      "Relative sample size:  555.56 %\n",
      "----*----\n",
      "Breakpoint indexes:  25232 25564\n",
      "Interval size:  332\n",
      "Relative sample size:  100%\n",
      "----*----\n",
      "Breakpoint indexes:  25564 25754\n",
      "Interval size:  190\n",
      "Relative sample size:  102.63 %\n",
      "----*----\n",
      "Breakpoint indexes:  25754 26243\n",
      "Interval size:  489\n",
      "Relative sample size:  100%\n",
      "----*----\n",
      "Breakpoint indexes:  26243 26280\n",
      "Interval size:  37\n",
      "Relative sample size:  567.57 %\n",
      "----*----\n",
      "Breakpoint indexes:  26280 26855\n",
      "Interval size:  575\n",
      "Relative sample size:  100%\n",
      "----*----\n",
      "Breakpoint indexes:  26855 27215\n",
      "Interval size:  360\n",
      "Relative sample size:  58.33 %\n",
      "----*----\n",
      "Breakpoint indexes:  27215 27250\n",
      "Interval size:  35\n",
      "Relative sample size:  100%\n",
      "----*----\n",
      "Breakpoint indexes:  27250 27511\n",
      "Interval size:  261\n",
      "Relative sample size:  80.46 %\n",
      "----*----\n",
      "Breakpoint indexes:  27511 27776\n",
      "Interval size:  265\n",
      "Relative sample size:  100%\n",
      "----*----\n",
      "Breakpoint indexes:  27776 27806\n",
      "Interval size:  30\n",
      "Relative sample size:  650.0 %\n",
      "----*----\n",
      "Breakpoint indexes:  27806 28350\n",
      "Interval size:  544\n",
      "Relative sample size:  100%\n",
      "----*----\n",
      "Breakpoint indexes:  28350 28385\n",
      "Interval size:  35\n",
      "Relative sample size:  600.0 %\n",
      "----*----\n",
      "Breakpoint indexes:  28385 28751\n",
      "Interval size:  366\n",
      "Relative sample size:  100%\n",
      "----*----\n",
      "Breakpoint indexes:  28751 28912\n",
      "Interval size:  161\n",
      "Relative sample size:  133.54 %\n",
      "----*----\n",
      "Breakpoint indexes:  28912 28981\n",
      "Interval size:  69\n",
      "Relative sample size:  100%\n",
      "----*----\n",
      "Breakpoint indexes:  28981 29260\n",
      "Interval size:  279\n",
      "Relative sample size:  75.27 %\n",
      "----*----\n",
      "Breakpoint indexes:  29260 29854\n",
      "Interval size:  594\n",
      "Relative sample size:  100%\n",
      "----*----\n",
      "Breakpoint indexes:  29854 30107\n",
      "Interval size:  253\n",
      "Relative sample size:  90.91 %\n",
      "----*----\n",
      "Breakpoint indexes:  30107 30623\n",
      "Interval size:  516\n",
      "Relative sample size:  100%\n",
      "----*----\n",
      "Breakpoint indexes:  30623 30665\n",
      "Interval size:  42\n",
      "Relative sample size:  488.1 %\n",
      "----*----\n",
      "Breakpoint indexes:  30665 31257\n",
      "Interval size:  592\n",
      "Relative sample size:  100%\n",
      "----*----\n",
      "Breakpoint indexes:  31257 31305\n",
      "Interval size:  48\n",
      "Relative sample size:  437.5 %\n",
      "----*----\n",
      "Breakpoint indexes:  31305 31417\n",
      "Interval size:  112\n",
      "Relative sample size:  100%\n",
      "----*----\n",
      "Breakpoint indexes:  31417 32420\n",
      "Interval size:  1003\n",
      "Relative sample size:  21.93 %\n",
      "----*----\n",
      "Breakpoint indexes:  32420 32545\n",
      "Interval size:  125\n",
      "Relative sample size:  100%\n",
      "----*----\n",
      "Breakpoint indexes:  32545 32611\n",
      "Interval size:  66\n",
      "Relative sample size:  318.18 %\n",
      "----*----\n",
      "Breakpoint indexes:  32611 32629\n",
      "Interval size:  18\n",
      "Relative sample size:  100%\n",
      "----*----\n",
      "Breakpoint indexes:  32629 32777\n",
      "Interval size:  148\n",
      "Relative sample size:  141.89 %\n",
      "----*----\n",
      "Breakpoint indexes:  32777 32916\n",
      "Interval size:  139\n",
      "Relative sample size:  100%\n",
      "----*----\n",
      "Breakpoint indexes:  32916 33356\n",
      "Interval size:  440\n",
      "Relative sample size:  50.0 %\n",
      "----*----\n",
      "Breakpoint indexes:  33356 33745\n",
      "Interval size:  389\n",
      "Relative sample size:  100%\n",
      "----*----\n",
      "Breakpoint indexes:  33745 33773\n",
      "Interval size:  28\n",
      "Relative sample size:  714.29 %\n",
      "----*----\n",
      "Breakpoint indexes:  33773 33912\n",
      "Interval size:  139\n",
      "Relative sample size:  100%\n",
      "----*----\n",
      "Breakpoint indexes:  33912 34211\n",
      "Interval size:  299\n",
      "Relative sample size:  70.23 %\n",
      "----*----\n",
      "Breakpoint indexes:  34211 34467\n",
      "Interval size:  256\n",
      "Relative sample size:  100%\n",
      "----*----\n",
      "Breakpoint indexes:  34467 34662\n",
      "Interval size:  195\n",
      "Relative sample size:  110.26 %\n",
      "----*----\n",
      "Breakpoint indexes:  34662 34761\n",
      "Interval size:  99\n",
      "Relative sample size:  100%\n",
      "----*----\n",
      "Breakpoint indexes:  34761 34801\n",
      "Interval size:  40\n",
      "Relative sample size:  525.0 %\n",
      "----*----\n",
      "Breakpoint indexes:  34801 35002\n",
      "Interval size:  201\n",
      "Relative sample size:  100%\n",
      "----*----\n",
      "Breakpoint indexes:  35002 35033\n",
      "Interval size:  31\n",
      "Relative sample size:  629.03 %\n",
      "----*----\n",
      "Breakpoint indexes:  35033 35364\n",
      "Interval size:  331\n",
      "Relative sample size:  100%\n",
      "----*----\n",
      "Breakpoint indexes:  35364 35668\n",
      "Interval size:  304\n",
      "Relative sample size:  69.08 %\n",
      "----*----\n",
      "Breakpoint indexes:  35668 35682\n",
      "Interval size:  14\n",
      "Relative sample size:  100%\n",
      "----*----\n",
      "Breakpoint indexes:  35682 35734\n",
      "Interval size:  52\n",
      "Relative sample size:  394.23 %\n",
      "----*----\n",
      "Breakpoint indexes:  35734 35851\n",
      "Interval size:  117\n",
      "Relative sample size:  100%\n",
      "----*----\n",
      "Breakpoint indexes:  35851 35886\n",
      "Interval size:  35\n",
      "Relative sample size:  614.29 %\n",
      "----*----\n",
      "Breakpoint indexes:  35886 36026\n",
      "Interval size:  140\n",
      "Relative sample size:  100%\n",
      "----*----\n",
      "Breakpoint indexes:  36026 36236\n",
      "Interval size:  210\n",
      "Relative sample size:  102.38 %\n",
      "----*----\n",
      "Breakpoint indexes:  36236 36588\n",
      "Interval size:  352\n",
      "Relative sample size:  100%\n",
      "----*----\n",
      "Breakpoint indexes:  36588 36622\n",
      "Interval size:  34\n",
      "Relative sample size:  602.94 %\n",
      "----*----\n",
      "Breakpoint indexes:  36622 36802\n",
      "Interval size:  180\n",
      "Relative sample size:  100%\n",
      "----*----\n",
      "Breakpoint indexes:  36802 37101\n",
      "Interval size:  299\n",
      "Relative sample size:  70.23 %\n",
      "----*----\n",
      "Breakpoint indexes:  37101 37340\n",
      "Interval size:  239\n",
      "Relative sample size:  100%\n",
      "----*----\n",
      "Breakpoint indexes:  37340 37719\n",
      "Interval size:  379\n",
      "Relative sample size:  58.05 %\n",
      "----*----\n",
      "Breakpoint indexes:  37719 38163\n",
      "Interval size:  444\n",
      "Relative sample size:  100%\n",
      "----*----\n",
      "Breakpoint indexes:  38163 38199\n",
      "Interval size:  36\n",
      "Relative sample size:  583.33 %\n",
      "----*----\n",
      "Breakpoint indexes:  38199 38221\n",
      "Interval size:  22\n",
      "Relative sample size:  100%\n",
      "----*----\n",
      "Breakpoint indexes:  38221 38468\n",
      "Interval size:  247\n",
      "Relative sample size:  85.02 %\n",
      "----*----\n",
      "Breakpoint indexes:  38468 38912\n",
      "Interval size:  444\n",
      "Relative sample size:  100%\n",
      "----*----\n",
      "Breakpoint indexes:  38912 39102\n",
      "Interval size:  190\n",
      "Relative sample size:  113.16 %\n",
      "----*----\n",
      "Breakpoint indexes:  39102 39282\n",
      "Interval size:  180\n",
      "Relative sample size:  100%\n",
      "----*----\n",
      "Breakpoint indexes:  39282 39315\n",
      "Interval size:  33\n",
      "Relative sample size:  590.91 %\n",
      "----*----\n",
      "Breakpoint indexes:  39315 39706\n",
      "Interval size:  391\n",
      "Relative sample size:  100%\n",
      "----*----\n",
      "Breakpoint indexes:  39706 39743\n",
      "Interval size:  37\n",
      "Relative sample size:  554.05 %\n",
      "----*----\n",
      "Breakpoint indexes:  39743 39790\n",
      "Interval size:  47\n",
      "Relative sample size:  100%\n",
      "----*----\n",
      "Breakpoint indexes:  39790 39827\n",
      "Interval size:  37\n",
      "Relative sample size:  567.57 %\n",
      "----*----\n",
      "Breakpoint indexes:  39827 39928\n",
      "Interval size:  101\n",
      "Relative sample size:  100%\n",
      "----*----\n",
      "Breakpoint indexes:  39928 39995\n",
      "Interval size:  67\n",
      "Relative sample size:  328.36 %\n",
      "----*----\n",
      "Breakpoint indexes:  39995 40121\n",
      "Interval size:  126\n",
      "Relative sample size:  100%\n",
      "----*----\n",
      "Breakpoint indexes:  40121 40158\n",
      "Interval size:  37\n",
      "Relative sample size:  540.54 %\n",
      "----*----\n",
      "Breakpoint indexes:  40158 40184\n",
      "Interval size:  26\n",
      "Relative sample size:  100%\n",
      "----*----\n",
      "Breakpoint indexes:  40184 40339\n",
      "Interval size:  155\n",
      "Relative sample size:  135.48 %\n",
      "----*----\n",
      "Breakpoint indexes:  40339 40422\n",
      "Interval size:  83\n"
     ]
    },
    {
     "name": "stderr",
     "output_type": "stream",
     "text": [
      "Process Process-2:\n",
      "Traceback (most recent call last):\n",
      "  File \"/Users/brunobarbarioli/opt/anaconda3/lib/python3.7/multiprocessing/process.py\", line 297, in _bootstrap\n",
      "    self.run()\n",
      "  File \"/Users/brunobarbarioli/opt/anaconda3/lib/python3.7/multiprocessing/process.py\", line 99, in run\n",
      "    self._target(*self._args, **self._kwargs)\n",
      "  File \"<ipython-input-2-958390984e80>\", line 52, in us_subsampler\n",
      "    lower_bound = max(lower_bound, np.abs(np.mean(values))-ct)\n",
      "  File \"<__array_function__ internals>\", line 6, in mean\n",
      "  File \"/Users/brunobarbarioli/opt/anaconda3/lib/python3.7/site-packages/numpy/core/fromnumeric.py\", line 3335, in mean\n",
      "    out=out, **kwargs)\n",
      "  File \"/Users/brunobarbarioli/opt/anaconda3/lib/python3.7/site-packages/numpy/core/_methods.py\", line 135, in _mean\n",
      "    arr = asanyarray(a)\n",
      "  File \"/Users/brunobarbarioli/opt/anaconda3/lib/python3.7/site-packages/numpy/core/_asarray.py\", line 138, in asanyarray\n",
      "    return array(a, dtype, copy=False, order=order, subok=True)\n",
      "  File \"/Users/brunobarbarioli/opt/anaconda3/lib/python3.7/site-packages/pandas/core/base.py\", line 1050, in __iter__\n",
      "    elif is_extension_array_dtype(self._values):\n",
      "  File \"/Users/brunobarbarioli/opt/anaconda3/lib/python3.7/site-packages/pandas/core/series.py\", line 513, in _values\n",
      "    return self._data.internal_values()\n",
      "  File \"/Users/brunobarbarioli/opt/anaconda3/lib/python3.7/site-packages/pandas/core/internals/managers.py\", line 1566, in internal_values\n",
      "    return self._block.internal_values()\n",
      "KeyboardInterrupt\n"
     ]
    }
   ],
   "source": [
    "#breakpoint detection Threshold = 5, drift = 5\n",
    "queue = mp.Queue()\n",
    "p1 = mp.Process(target = detection, args = (x, queue, 5, 5, False, False))\n",
    "p2 = mp.Process(target = us_subsampler, args = (0.05,0.01,10,5,x, queue, 500))\n",
    "\n",
    "p1.start()\n",
    "p2.start()"
   ]
  },
  {
   "cell_type": "code",
   "execution_count": 15,
   "metadata": {},
   "outputs": [
    {
     "name": "stdout",
     "output_type": "stream",
     "text": [
      "breakpoint started\n",
      "subsampler started\n",
      "Breakpoint indexes:  0 667\n",
      "Interval size:  667\n"
     ]
    },
    {
     "name": "stderr",
     "output_type": "stream",
     "text": [
      "/Users/brunobarbarioli/opt/anaconda3/lib/python3.7/site-packages/ipykernel_launcher.py:51: RuntimeWarning: invalid value encountered in sqrt\n"
     ]
    },
    {
     "name": "stdout",
     "output_type": "stream",
     "text": [
      "Relative sample size:  336.58 %\n",
      "----*----\n",
      "Breakpoint indexes:  667 999\n",
      "Interval size:  332\n",
      "Relative sample size:  72.29 %\n",
      "----*----\n",
      "Breakpoint indexes:  999 2093\n",
      "Interval size:  1094\n",
      "Relative sample size:  145.8 %\n",
      "----*----\n",
      "Breakpoint indexes:  2093 2134\n",
      "Interval size:  41\n",
      "Relative sample size:  487.8 %\n",
      "----*----\n",
      "Breakpoint indexes:  2134 2674\n",
      "Interval size:  540\n",
      "Relative sample size:  304.63 %\n",
      "----*----\n",
      "Block size greater than data interval\n",
      "----*----\n",
      "Breakpoint indexes:  2678 2975\n",
      "Interval size:  297\n",
      "Relative sample size:  70.71 %\n",
      "----*----\n",
      "Breakpoint indexes:  2975 3049\n",
      "Interval size:  74\n",
      "Relative sample size:  100%\n",
      "----*----\n",
      "Breakpoint indexes:  3049 3109\n",
      "Interval size:  60\n",
      "Relative sample size:  358.33 %\n",
      "----*----\n",
      "Breakpoint indexes:  3109 4229\n",
      "Interval size:  1120\n",
      "Relative sample size:  100%\n",
      "----*----\n",
      "Breakpoint indexes:  4229 4870\n",
      "Interval size:  641\n",
      "Relative sample size:  198.91 %\n",
      "----*----\n",
      "Breakpoint indexes:  4870 5180\n",
      "Interval size:  310\n",
      "Relative sample size:  782.26 %\n",
      "----*----\n",
      "Breakpoint indexes:  5180 5611\n",
      "Interval size:  431\n",
      "Relative sample size:  47.56 %\n",
      "----*----\n",
      "Breakpoint indexes:  5611 5820\n",
      "Interval size:  209\n",
      "Relative sample size:  100%\n",
      "----*----\n",
      "Breakpoint indexes:  5820 6333\n",
      "Interval size:  513\n",
      "Relative sample size:  41.91 %\n",
      "----*----\n",
      "Breakpoint indexes:  6333 6807\n",
      "Interval size:  474\n",
      "Relative sample size:  100%\n",
      "----*----\n",
      "Breakpoint indexes:  6807 6981\n",
      "Interval size:  174\n",
      "Relative sample size:  100%\n",
      "----*----\n",
      "Breakpoint indexes:  6981 7115\n",
      "Interval size:  134\n",
      "Relative sample size:  100%\n",
      "----*----\n",
      "Breakpoint indexes:  7115 7179\n",
      "Interval size:  64\n",
      "Relative sample size:  328.12 %\n",
      "----*----\n",
      "Breakpoint indexes:  7179 7399\n",
      "Interval size:  220\n",
      "Relative sample size:  520.45 %\n",
      "----*----\n",
      "Breakpoint indexes:  7399 7444\n",
      "Interval size:  45\n",
      "Relative sample size:  466.67 %\n",
      "----*----\n",
      "Breakpoint indexes:  7444 7896\n",
      "Interval size:  452\n",
      "Relative sample size:  100%\n",
      "----*----\n",
      "Breakpoint indexes:  7896 8298\n",
      "Interval size:  402\n",
      "Relative sample size:  106.97 %\n",
      "----*----\n",
      "Breakpoint indexes:  8298 8474\n",
      "Interval size:  176\n",
      "Relative sample size:  100%\n",
      "----*----\n",
      "Breakpoint indexes:  8474 8650\n",
      "Interval size:  176\n",
      "Relative sample size:  116.48 %\n",
      "----*----\n",
      "Breakpoint indexes:  8650 8913\n",
      "Interval size:  263\n",
      "Relative sample size:  230.04 %\n",
      "----*----\n",
      "Breakpoint indexes:  8913 9327\n",
      "Interval size:  414\n",
      "Relative sample size:  100%\n",
      "----*----\n",
      "Breakpoint indexes:  9327 9358\n",
      "Interval size:  31\n",
      "Relative sample size:  709.68 %\n",
      "----*----\n",
      "Breakpoint indexes:  9358 9669\n",
      "Interval size:  311\n",
      "Relative sample size:  493.57 %\n",
      "----*----\n",
      "Breakpoint indexes:  9669 9781\n",
      "Interval size:  112\n",
      "Relative sample size:  508.93 %\n",
      "----*----\n",
      "Breakpoint indexes:  9781 10421\n",
      "Interval size:  640\n",
      "Relative sample size:  146.09 %\n",
      "----*----\n",
      "Breakpoint indexes:  10421 11025\n",
      "Interval size:  604\n",
      "Relative sample size:  100%\n",
      "----*----\n",
      "Breakpoint indexes:  11025 11201\n",
      "Interval size:  176\n",
      "Relative sample size:  122.16 %\n",
      "----*----\n",
      "Breakpoint indexes:  11201 11448\n",
      "Interval size:  247\n",
      "Relative sample size:  100%\n",
      "----*----\n",
      "Breakpoint indexes:  11448 12012\n",
      "Interval size:  564\n",
      "Relative sample size:  35.46 %\n",
      "----*----\n",
      "Breakpoint indexes:  12012 12393\n",
      "Interval size:  381\n",
      "Relative sample size:  100%\n",
      "----*----\n",
      "Breakpoint indexes:  12393 12430\n",
      "Interval size:  37\n",
      "Relative sample size:  554.05 %\n",
      "----*----\n",
      "Breakpoint indexes:  12430 12797\n",
      "Interval size:  367\n",
      "Relative sample size:  100%\n",
      "----*----\n",
      "Breakpoint indexes:  12797 12845\n",
      "Interval size:  48\n",
      "Relative sample size:  447.92 %\n",
      "----*----\n",
      "Breakpoint indexes:  12845 12979\n",
      "Interval size:  134\n",
      "Relative sample size:  100%\n",
      "----*----\n",
      "Breakpoint indexes:  12979 13016\n",
      "Interval size:  37\n",
      "Relative sample size:  567.57 %\n",
      "----*----\n",
      "Breakpoint indexes:  13016 13254\n",
      "Interval size:  238\n",
      "Relative sample size:  724.79 %\n",
      "----*----\n",
      "Breakpoint indexes:  13254 13826\n",
      "Interval size:  572\n",
      "Relative sample size:  100%\n",
      "----*----\n",
      "Breakpoint indexes:  13826 13865\n",
      "Interval size:  39\n",
      "Relative sample size:  538.46 %\n",
      "----*----\n",
      "Breakpoint indexes:  13865 13931\n",
      "Interval size:  66\n",
      "Relative sample size:  1075.76 %\n",
      "----*----\n",
      "Breakpoint indexes:  13931 13939\n",
      "Interval size:  8\n",
      "Relative sample size:  100%\n",
      "----*----\n",
      "Breakpoint indexes:  13939 15110\n",
      "Interval size:  1171\n",
      "Relative sample size:  111.02 %\n",
      "----*----\n",
      "Breakpoint indexes:  15110 15142\n",
      "Interval size:  32\n",
      "Relative sample size:  671.88 %\n",
      "----*----\n",
      "Breakpoint indexes:  15142 15258\n",
      "Interval size:  116\n",
      "Relative sample size:  100%\n",
      "----*----\n",
      "Breakpoint indexes:  15258 16056\n",
      "Interval size:  798\n",
      "Relative sample size:  218.05 %\n",
      "----*----\n",
      "Breakpoint indexes:  16056 16707\n",
      "Interval size:  651\n",
      "Relative sample size:  100%\n",
      "----*----\n",
      "Breakpoint indexes:  16707 17069\n",
      "Interval size:  362\n",
      "Relative sample size:  668.51 %\n",
      "----*----\n",
      "Breakpoint indexes:  17069 17487\n",
      "Interval size:  418\n",
      "Relative sample size:  107.66 %\n",
      "----*----\n",
      "Breakpoint indexes:  17487 17547\n",
      "Interval size:  60\n",
      "Relative sample size:  366.67 %\n",
      "----*----\n",
      "Breakpoint indexes:  17547 17757\n",
      "Interval size:  210\n",
      "Relative sample size:  100%\n",
      "----*----\n",
      "Breakpoint indexes:  17757 17786\n",
      "Interval size:  29\n",
      "Relative sample size:  689.66 %\n",
      "----*----\n",
      "Breakpoint indexes:  17786 18113\n",
      "Interval size:  327\n",
      "Relative sample size:  100%\n",
      "----*----\n",
      "Breakpoint indexes:  18113 18166\n",
      "Interval size:  53\n",
      "Relative sample size:  396.23 %\n",
      "----*----\n",
      "Breakpoint indexes:  18166 18183\n",
      "Interval size:  17\n",
      "Relative sample size:  100%\n",
      "----*----\n",
      "Breakpoint indexes:  18183 18589\n",
      "Interval size:  406\n",
      "Relative sample size:  50.49 %\n",
      "----*----\n",
      "Breakpoint indexes:  18589 18961\n",
      "Interval size:  372\n",
      "Relative sample size:  115.59 %\n",
      "----*----\n",
      "Breakpoint indexes:  18961 19065\n",
      "Interval size:  104\n",
      "Relative sample size:  211.54 %\n",
      "----*----\n",
      "Breakpoint indexes:  19065 19499\n",
      "Interval size:  434\n",
      "Relative sample size:  100%\n",
      "----*----\n",
      "Breakpoint indexes:  19499 19530\n",
      "Interval size:  31\n",
      "Relative sample size:  645.16 %\n",
      "----*----\n",
      "Breakpoint indexes:  19530 19664\n",
      "Interval size:  134\n",
      "Relative sample size:  100%\n",
      "----*----\n",
      "Breakpoint indexes:  19664 20353\n",
      "Interval size:  689\n",
      "Relative sample size:  31.93 %\n",
      "----*----\n",
      "Breakpoint indexes:  20353 20824\n",
      "Interval size:  471\n",
      "Relative sample size:  100%\n",
      "----*----\n",
      "Breakpoint indexes:  20824 21020\n",
      "Interval size:  196\n",
      "Relative sample size:  100%\n",
      "----*----\n",
      "Breakpoint indexes:  21020 21065\n",
      "Interval size:  45\n",
      "Relative sample size:  466.67 %\n",
      "----*----\n",
      "Breakpoint indexes:  21065 21184\n",
      "Interval size:  119\n",
      "Relative sample size:  100%\n",
      "----*----\n",
      "Breakpoint indexes:  21184 21425\n",
      "Interval size:  241\n",
      "Relative sample size:  87.14 %\n",
      "----*----\n",
      "Breakpoint indexes:  21425 21967\n",
      "Interval size:  542\n",
      "Relative sample size:  100%\n",
      "----*----\n",
      "Breakpoint indexes:  21967 22551\n",
      "Interval size:  584\n",
      "Relative sample size:  100%\n",
      "----*----\n",
      "Breakpoint indexes:  22551 23148\n",
      "Interval size:  597\n",
      "Relative sample size:  383.58 %\n",
      "----*----\n",
      "Breakpoint indexes:  23148 23699\n",
      "Interval size:  551\n",
      "Relative sample size:  100%\n",
      "----*----\n",
      "Breakpoint indexes:  23699 23747\n",
      "Interval size:  48\n",
      "Relative sample size:  416.67 %\n",
      "----*----\n",
      "Breakpoint indexes:  23747 24336\n",
      "Interval size:  589\n",
      "Relative sample size:  100%\n",
      "----*----\n",
      "Breakpoint indexes:  24336 24389\n",
      "Interval size:  53\n",
      "Relative sample size:  367.92 %\n",
      "----*----\n",
      "Breakpoint indexes:  24389 24400\n",
      "Interval size:  11\n"
     ]
    },
    {
     "name": "stderr",
     "output_type": "stream",
     "text": [
      "Process Process-6:\n",
      "Process Process-5:\n",
      "Traceback (most recent call last):\n",
      "  File \"/Users/brunobarbarioli/opt/anaconda3/lib/python3.7/multiprocessing/process.py\", line 300, in _bootstrap\n",
      "    util._exit_function()\n",
      "  File \"/Users/brunobarbarioli/opt/anaconda3/lib/python3.7/multiprocessing/util.py\", line 337, in _exit_function\n",
      "    _run_finalizers()\n",
      "Traceback (most recent call last):\n",
      "  File \"/Users/brunobarbarioli/opt/anaconda3/lib/python3.7/multiprocessing/process.py\", line 297, in _bootstrap\n",
      "    self.run()\n",
      "  File \"/Users/brunobarbarioli/opt/anaconda3/lib/python3.7/multiprocessing/util.py\", line 277, in _run_finalizers\n",
      "    finalizer()\n",
      "  File \"/Users/brunobarbarioli/opt/anaconda3/lib/python3.7/multiprocessing/util.py\", line 201, in __call__\n",
      "    res = self._callback(*self._args, **self._kwargs)\n",
      "  File \"/Users/brunobarbarioli/opt/anaconda3/lib/python3.7/multiprocessing/process.py\", line 99, in run\n",
      "    self._target(*self._args, **self._kwargs)\n",
      "  File \"<ipython-input-2-958390984e80>\", line 51, in us_subsampler\n",
      "    ct = np.std(values) * np.sqrt(2 * x / t) + 3 * variable_range * x / t\n",
      "  File \"/Users/brunobarbarioli/opt/anaconda3/lib/python3.7/multiprocessing/queues.py\", line 192, in _finalize_join\n",
      "    thread.join()\n",
      "  File \"<__array_function__ internals>\", line 6, in std\n",
      "  File \"/Users/brunobarbarioli/opt/anaconda3/lib/python3.7/threading.py\", line 1044, in join\n",
      "    self._wait_for_tstate_lock()\n",
      "  File \"/Users/brunobarbarioli/opt/anaconda3/lib/python3.7/site-packages/numpy/core/fromnumeric.py\", line 3459, in std\n",
      "    **kwargs)\n",
      "  File \"/Users/brunobarbarioli/opt/anaconda3/lib/python3.7/threading.py\", line 1060, in _wait_for_tstate_lock\n",
      "    elif lock.acquire(block, timeout):\n",
      "  File \"/Users/brunobarbarioli/opt/anaconda3/lib/python3.7/site-packages/numpy/core/_methods.py\", line 217, in _std\n",
      "    keepdims=keepdims)\n",
      "KeyboardInterrupt\n",
      "  File \"/Users/brunobarbarioli/opt/anaconda3/lib/python3.7/site-packages/numpy/core/_methods.py\", line 168, in _var\n",
      "    arr = asanyarray(a)\n",
      "  File \"/Users/brunobarbarioli/opt/anaconda3/lib/python3.7/site-packages/numpy/core/_asarray.py\", line 138, in asanyarray\n",
      "    return array(a, dtype, copy=False, order=order, subok=True)\n",
      "  File \"/Users/brunobarbarioli/opt/anaconda3/lib/python3.7/site-packages/pandas/core/base.py\", line 1050, in __iter__\n",
      "    elif is_extension_array_dtype(self._values):\n",
      "  File \"/Users/brunobarbarioli/opt/anaconda3/lib/python3.7/site-packages/pandas/core/dtypes/common.py\", line 1610, in is_extension_array_dtype\n",
      "    dtype = getattr(arr_or_dtype, \"dtype\", arr_or_dtype)\n",
      "KeyboardInterrupt\n"
     ]
    }
   ],
   "source": [
    "#breakpoint detection Threshold = 5, drift = 7.5\n",
    "queue = mp.Queue()\n",
    "p1 = mp.Process(target = detection, args = (x, queue, 5, 7.5, False, False))\n",
    "p2 = mp.Process(target = us_subsampler, args = (0.05,0.01,10,5,x, queue, 500))\n",
    "\n",
    "p1.start()\n",
    "p2.start()"
   ]
  },
  {
   "cell_type": "code",
   "execution_count": 14,
   "metadata": {},
   "outputs": [
    {
     "name": "stdout",
     "output_type": "stream",
     "text": [
      "breakpoint started\n",
      "subsampler started\n",
      "Breakpoint indexes:  0 999\n",
      "Interval size:  999\n"
     ]
    },
    {
     "name": "stderr",
     "output_type": "stream",
     "text": [
      "/Users/brunobarbarioli/opt/anaconda3/lib/python3.7/site-packages/ipykernel_launcher.py:51: RuntimeWarning: invalid value encountered in sqrt\n"
     ]
    },
    {
     "name": "stdout",
     "output_type": "stream",
     "text": [
      "Relative sample size:  248.25 %\n",
      "----*----\n",
      "Breakpoint indexes:  999 2093\n",
      "Interval size:  1094\n",
      "Relative sample size:  71.3 %\n",
      "----*----\n",
      "Breakpoint indexes:  2093 2134\n",
      "Interval size:  41\n",
      "Relative sample size:  487.8 %\n",
      "----*----\n",
      "Breakpoint indexes:  2134 2678\n",
      "Interval size:  544\n",
      "Relative sample size:  56.07 %\n",
      "----*----\n",
      "Breakpoint indexes:  2678 4229\n",
      "Interval size:  1551\n",
      "Relative sample size:  99.61 %\n",
      "----*----\n",
      "Breakpoint indexes:  4229 6981\n",
      "Interval size:  2752\n",
      "Relative sample size:  72.49 %\n",
      "----*----\n",
      "Breakpoint indexes:  6981 7179\n",
      "Interval size:  198\n",
      "Relative sample size:  204.55 %\n",
      "----*----\n",
      "Breakpoint indexes:  7179 7399\n",
      "Interval size:  220\n",
      "Relative sample size:  331.82 %\n",
      "----*----\n",
      "Breakpoint indexes:  7399 8298\n",
      "Interval size:  899\n",
      "Relative sample size:  124.58 %\n",
      "----*----\n",
      "Breakpoint indexes:  8298 9669\n",
      "Interval size:  1371\n",
      "Relative sample size:  100%\n",
      "----*----\n",
      "Breakpoint indexes:  9669 9781\n",
      "Interval size:  112\n",
      "Relative sample size:  1187.5 %\n",
      "----*----\n",
      "Breakpoint indexes:  9781 11025\n",
      "Interval size:  1244\n",
      "Relative sample size:  200.56 %\n",
      "----*----\n",
      "Breakpoint indexes:  11025 11448\n",
      "Interval size:  423\n",
      "Relative sample size:  139.48 %\n",
      "----*----\n",
      "Breakpoint indexes:  11448 12012\n",
      "Interval size:  564\n",
      "Relative sample size:  100%\n",
      "----*----\n",
      "Breakpoint indexes:  12012 12393\n",
      "Interval size:  381\n",
      "Relative sample size:  100%\n",
      "----*----\n",
      "Breakpoint indexes:  12393 12845\n",
      "Interval size:  452\n",
      "Relative sample size:  100%\n",
      "----*----\n",
      "Breakpoint indexes:  12845 12979\n",
      "Interval size:  134\n",
      "Relative sample size:  100%\n",
      "----*----\n",
      "Breakpoint indexes:  12979 13254\n",
      "Interval size:  275\n",
      "Relative sample size:  856.36 %\n",
      "----*----\n",
      "Breakpoint indexes:  13254 13931\n",
      "Interval size:  677\n",
      "Relative sample size:  100%\n",
      "----*----\n",
      "Breakpoint indexes:  13931 13939\n",
      "Interval size:  8\n",
      "Relative sample size:  100%\n",
      "----*----\n",
      "Breakpoint indexes:  13939 17786\n",
      "Interval size:  3847\n",
      "Relative sample size:  4.42 %\n",
      "----*----\n",
      "Breakpoint indexes:  17786 18589\n",
      "Interval size:  803\n",
      "Relative sample size:  100.25 %\n",
      "----*----\n",
      "Breakpoint indexes:  18589 19530\n",
      "Interval size:  941\n",
      "Relative sample size:  100%\n",
      "----*----\n",
      "Breakpoint indexes:  19530 19664\n",
      "Interval size:  134\n",
      "Relative sample size:  100%\n",
      "----*----\n",
      "Breakpoint indexes:  19664 21425\n",
      "Interval size:  1761\n",
      "Relative sample size:  5.96 %\n",
      "----*----\n",
      "Breakpoint indexes:  21425 22551\n",
      "Interval size:  1126\n"
     ]
    },
    {
     "name": "stderr",
     "output_type": "stream",
     "text": [
      "Process Process-3:\n",
      "Traceback (most recent call last):\n",
      "  File \"/Users/brunobarbarioli/opt/anaconda3/lib/python3.7/multiprocessing/process.py\", line 300, in _bootstrap\n",
      "    util._exit_function()\n",
      "  File \"/Users/brunobarbarioli/opt/anaconda3/lib/python3.7/multiprocessing/util.py\", line 337, in _exit_function\n",
      "    _run_finalizers()\n",
      "  File \"/Users/brunobarbarioli/opt/anaconda3/lib/python3.7/multiprocessing/util.py\", line 277, in _run_finalizers\n",
      "    finalizer()\n",
      "  File \"/Users/brunobarbarioli/opt/anaconda3/lib/python3.7/multiprocessing/util.py\", line 201, in __call__\n",
      "    res = self._callback(*self._args, **self._kwargs)\n",
      "  File \"/Users/brunobarbarioli/opt/anaconda3/lib/python3.7/multiprocessing/queues.py\", line 192, in _finalize_join\n",
      "    thread.join()\n",
      "  File \"/Users/brunobarbarioli/opt/anaconda3/lib/python3.7/threading.py\", line 1044, in join\n",
      "    self._wait_for_tstate_lock()\n",
      "  File \"/Users/brunobarbarioli/opt/anaconda3/lib/python3.7/threading.py\", line 1060, in _wait_for_tstate_lock\n",
      "    elif lock.acquire(block, timeout):\n",
      "KeyboardInterrupt\n"
     ]
    },
    {
     "name": "stdout",
     "output_type": "stream",
     "text": [
      "Relative sample size:  100%\n",
      "----*----\n",
      "Breakpoint indexes:  22551 23699\n",
      "Interval size:  1148\n",
      "Relative sample size:  100%\n",
      "----*----\n",
      "Breakpoint indexes:  23699 23747\n",
      "Interval size:  48\n",
      "Relative sample size:  416.67 %\n",
      "----*----\n",
      "Breakpoint indexes:  23747 24336\n",
      "Interval size:  589\n",
      "Relative sample size:  100%\n",
      "----*----\n",
      "Breakpoint indexes:  24336 25232\n",
      "Interval size:  896\n",
      "Relative sample size:  100%\n",
      "----*----\n",
      "Breakpoint indexes:  25232 25564\n",
      "Interval size:  332\n",
      "Relative sample size:  100%\n",
      "----*----\n",
      "Breakpoint indexes:  25564 27250\n",
      "Interval size:  1686\n",
      "Relative sample size:  30.84 %\n",
      "----*----\n",
      "Breakpoint indexes:  27250 27511\n",
      "Interval size:  261\n",
      "Relative sample size:  82.38 %\n",
      "----*----\n",
      "Breakpoint indexes:  27511 30623\n",
      "Interval size:  3112\n",
      "Relative sample size:  64.91 %\n",
      "----*----\n",
      "Breakpoint indexes:  30623 30665\n",
      "Interval size:  42\n",
      "Relative sample size:  488.1 %\n",
      "----*----\n",
      "Breakpoint indexes:  30665 32916\n",
      "Interval size:  2251\n",
      "Relative sample size:  89.96 %\n",
      "----*----\n",
      "Breakpoint indexes:  32916 33356\n",
      "Interval size:  440\n",
      "Relative sample size:  48.86 %\n",
      "----*----\n",
      "Breakpoint indexes:  33356 33745\n",
      "Interval size:  389\n",
      "Relative sample size:  100%\n",
      "----*----\n",
      "Breakpoint indexes:  33745 33773\n",
      "Interval size:  28\n",
      "Relative sample size:  714.29 %\n",
      "----*----\n",
      "Breakpoint indexes:  33773 35002\n",
      "Interval size:  1229\n",
      "Relative sample size:  100%\n",
      "----*----\n",
      "Breakpoint indexes:  35002 35033\n",
      "Interval size:  31\n",
      "Relative sample size:  645.16 %\n",
      "----*----\n",
      "Breakpoint indexes:  35033 35364\n",
      "Interval size:  331\n",
      "Relative sample size:  100%\n",
      "----*----\n",
      "Breakpoint indexes:  35364 35682\n",
      "Interval size:  318\n",
      "Relative sample size:  154.09 %\n",
      "----*----\n",
      "Breakpoint indexes:  35682 35886\n",
      "Interval size:  204\n",
      "Relative sample size:  100%\n",
      "----*----\n",
      "Breakpoint indexes:  35886 36588\n",
      "Interval size:  702\n",
      "Relative sample size:  351.85 %\n",
      "----*----\n",
      "Breakpoint indexes:  36588 36622\n",
      "Interval size:  34\n",
      "Relative sample size:  602.94 %\n",
      "----*----\n",
      "Breakpoint indexes:  36622 36802\n",
      "Interval size:  180\n",
      "Relative sample size:  100%\n",
      "----*----\n",
      "Breakpoint indexes:  36802 37101\n",
      "Interval size:  299\n",
      "Relative sample size:  68.56 %\n",
      "----*----\n",
      "Breakpoint indexes:  37101 38221\n",
      "Interval size:  1120\n",
      "Relative sample size:  81.7 %\n",
      "----*----\n",
      "Breakpoint indexes:  38221 38468\n",
      "Interval size:  247\n",
      "Relative sample size:  85.02 %\n",
      "----*----\n",
      "Breakpoint indexes:  38468 39928\n",
      "Interval size:  1460\n",
      "Relative sample size:  100%\n",
      "----*----\n",
      "Breakpoint indexes:  39928 39995\n",
      "Interval size:  67\n",
      "Relative sample size:  328.36 %\n",
      "----*----\n",
      "Breakpoint indexes:  39995 43008\n",
      "Interval size:  3013\n",
      "Relative sample size:  72.69 %\n",
      "----*----\n",
      "Breakpoint indexes:  43008 44009\n",
      "Interval size:  1001\n",
      "Relative sample size:  100%\n",
      "----*----\n",
      "Breakpoint indexes:  44009 44560\n",
      "Interval size:  551\n",
      "Relative sample size:  100%\n",
      "----*----\n",
      "Breakpoint indexes:  44560 45171\n",
      "Interval size:  611\n",
      "Relative sample size:  100%\n",
      "----*----\n",
      "Breakpoint indexes:  45171 45444\n",
      "Interval size:  273\n",
      "Relative sample size:  100%\n",
      "----*----\n",
      "Breakpoint indexes:  45444 48561\n",
      "Interval size:  3117\n",
      "Relative sample size:  58.39 %\n",
      "----*----\n",
      "Breakpoint indexes:  48561 49317\n",
      "Interval size:  756\n",
      "Relative sample size:  100%\n",
      "----*----\n",
      "Breakpoint indexes:  49317 50641\n",
      "Interval size:  1324\n",
      "Relative sample size:  127.27 %\n",
      "----*----\n",
      "Breakpoint indexes:  50641 50891\n",
      "Interval size:  250\n",
      "Relative sample size:  100%\n",
      "----*----\n",
      "Breakpoint indexes:  50891 52708\n",
      "Interval size:  1817\n",
      "Relative sample size:  31.92 %\n",
      "----*----\n",
      "Breakpoint indexes:  52708 53686\n",
      "Interval size:  978\n",
      "Relative sample size:  188.65 %\n",
      "----*----\n",
      "Breakpoint indexes:  53686 54127\n",
      "Interval size:  441\n",
      "Relative sample size:  100%\n",
      "----*----\n",
      "Breakpoint indexes:  54127 54702\n",
      "Interval size:  575\n",
      "Relative sample size:  100%\n",
      "----*----\n",
      "Breakpoint indexes:  54702 54902\n",
      "Interval size:  200\n",
      "Relative sample size:  100%\n",
      "----*----\n",
      "Breakpoint indexes:  54902 55181\n",
      "Interval size:  279\n",
      "Relative sample size:  100%\n",
      "----*----\n",
      "Breakpoint indexes:  55181 55831\n",
      "Interval size:  650\n",
      "Relative sample size:  100%\n",
      "----*----\n",
      "Breakpoint indexes:  55831 56528\n",
      "Interval size:  697\n",
      "Relative sample size:  39.45 %\n",
      "----*----\n",
      "Breakpoint indexes:  56528 57935\n",
      "Interval size:  1407\n",
      "Relative sample size:  8.53 %\n",
      "----*----\n",
      "Breakpoint indexes:  57935 58383\n",
      "Interval size:  448\n",
      "Relative sample size:  100%\n",
      "----*----\n",
      "Breakpoint indexes:  58383 58647\n",
      "Interval size:  264\n",
      "Relative sample size:  303.03 %\n",
      "----*----\n",
      "Breakpoint indexes:  58647 59309\n",
      "Interval size:  662\n",
      "Relative sample size:  100%\n",
      "----*----\n",
      "Breakpoint indexes:  59309 59350\n",
      "Interval size:  41\n",
      "Relative sample size:  100%\n",
      "----*----\n",
      "Breakpoint indexes:  59350 59838\n",
      "Interval size:  488\n",
      "Relative sample size:  100%\n",
      "----*----\n",
      "Breakpoint indexes:  59838 60863\n",
      "Interval size:  1025\n",
      "Relative sample size:  171.71 %\n",
      "----*----\n",
      "Breakpoint indexes:  60863 61383\n",
      "Interval size:  520\n",
      "Relative sample size:  100%\n",
      "----*----\n",
      "Breakpoint indexes:  61383 61544\n",
      "Interval size:  161\n",
      "Relative sample size:  136.65 %\n",
      "----*----\n",
      "Breakpoint indexes:  61544 61816\n",
      "Interval size:  272\n",
      "Relative sample size:  238.97 %\n",
      "----*----\n",
      "Breakpoint indexes:  61816 63572\n",
      "Interval size:  1756\n",
      "Relative sample size:  42.71 %\n",
      "----*----\n",
      "Breakpoint indexes:  63572 63714\n",
      "Interval size:  142\n",
      "Relative sample size:  100%\n",
      "----*----\n",
      "Breakpoint indexes:  63714 65642\n",
      "Interval size:  1928\n",
      "Relative sample size:  100%\n",
      "----*----\n",
      "Breakpoint indexes:  65642 66478\n",
      "Interval size:  836\n",
      "Relative sample size:  58.61 %\n",
      "----*----\n",
      "Breakpoint indexes:  66478 67711\n",
      "Interval size:  1233\n",
      "Relative sample size:  100%\n",
      "----*----\n",
      "Breakpoint indexes:  67711 68096\n",
      "Interval size:  385\n",
      "Relative sample size:  55.84 %\n",
      "----*----\n",
      "Breakpoint indexes:  68096 68710\n",
      "Interval size:  614\n",
      "Relative sample size:  100%\n",
      "----*----\n",
      "Breakpoint indexes:  68710 69152\n",
      "Interval size:  442\n",
      "Relative sample size:  100%\n",
      "----*----\n",
      "Breakpoint indexes:  69152 69417\n",
      "Interval size:  265\n",
      "Relative sample size:  854.72 %\n",
      "----*----\n",
      "Breakpoint indexes:  69417 70349\n",
      "Interval size:  932\n",
      "Relative sample size:  42.38 %\n",
      "----*----\n",
      "Breakpoint indexes:  70349 71527\n",
      "Interval size:  1178\n",
      "Relative sample size:  24.62 %\n",
      "----*----\n",
      "Breakpoint indexes:  71527 73605\n",
      "Interval size:  2078\n",
      "Relative sample size:  108.04 %\n",
      "----*----\n",
      "Breakpoint indexes:  73605 73885\n",
      "Interval size:  280\n",
      "Relative sample size:  100%\n",
      "----*----\n",
      "Breakpoint indexes:  73885 74295\n",
      "Interval size:  410\n",
      "Relative sample size:  100%\n",
      "----*----\n",
      "Breakpoint indexes:  74295 74708\n",
      "Interval size:  413\n",
      "Relative sample size:  100%\n",
      "----*----\n",
      "Breakpoint indexes:  74708 75628\n",
      "Interval size:  920\n",
      "Relative sample size:  175.54 %\n",
      "----*----\n",
      "Breakpoint indexes:  75628 76192\n",
      "Interval size:  564\n",
      "Relative sample size:  37.23 %\n",
      "----*----\n",
      "Breakpoint indexes:  76192 76644\n",
      "Interval size:  452\n",
      "Relative sample size:  216.81 %\n",
      "----*----\n",
      "Breakpoint indexes:  76644 78114\n",
      "Interval size:  1470\n",
      "Relative sample size:  100%\n",
      "----*----\n",
      "Breakpoint indexes:  78114 78909\n",
      "Interval size:  795\n",
      "Relative sample size:  84.28 %\n",
      "----*----\n",
      "Breakpoint indexes:  78909 79071\n",
      "Interval size:  162\n",
      "Relative sample size:  783.95 %\n",
      "----*----\n",
      "Breakpoint indexes:  79071 81593\n",
      "Interval size:  2522\n"
     ]
    },
    {
     "name": "stderr",
     "output_type": "stream",
     "text": [
      "Process Process-4:\n",
      "Traceback (most recent call last):\n",
      "  File \"/Users/brunobarbarioli/opt/anaconda3/lib/python3.7/multiprocessing/process.py\", line 297, in _bootstrap\n",
      "    self.run()\n",
      "  File \"/Users/brunobarbarioli/opt/anaconda3/lib/python3.7/multiprocessing/process.py\", line 99, in run\n",
      "    self._target(*self._args, **self._kwargs)\n",
      "  File \"<ipython-input-2-958390984e80>\", line 51, in us_subsampler\n",
      "    ct = np.std(values) * np.sqrt(2 * x / t) + 3 * variable_range * x / t\n",
      "  File \"<__array_function__ internals>\", line 6, in std\n",
      "  File \"/Users/brunobarbarioli/opt/anaconda3/lib/python3.7/site-packages/numpy/core/fromnumeric.py\", line 3459, in std\n",
      "    **kwargs)\n",
      "  File \"/Users/brunobarbarioli/opt/anaconda3/lib/python3.7/site-packages/numpy/core/_methods.py\", line 217, in _std\n",
      "    keepdims=keepdims)\n",
      "  File \"/Users/brunobarbarioli/opt/anaconda3/lib/python3.7/site-packages/numpy/core/_methods.py\", line 168, in _var\n",
      "    arr = asanyarray(a)\n",
      "  File \"/Users/brunobarbarioli/opt/anaconda3/lib/python3.7/site-packages/numpy/core/_asarray.py\", line 138, in asanyarray\n",
      "    return array(a, dtype, copy=False, order=order, subok=True)\n",
      "  File \"/Users/brunobarbarioli/opt/anaconda3/lib/python3.7/site-packages/pandas/core/base.py\", line 1050, in __iter__\n",
      "    elif is_extension_array_dtype(self._values):\n",
      "  File \"/Users/brunobarbarioli/opt/anaconda3/lib/python3.7/site-packages/pandas/core/series.py\", line 513, in _values\n",
      "    return self._data.internal_values()\n",
      "KeyboardInterrupt\n"
     ]
    }
   ],
   "source": [
    "#breakpoint detection Threshold = 5, drift = 10\n",
    "queue = mp.Queue()\n",
    "p1 = mp.Process(target = detection, args = (x, queue, 5, 10, False, False))\n",
    "p2 = mp.Process(target = us_subsampler, args = (0.05,0.01,10,5,x, queue, 500))\n",
    "\n",
    "p1.start()\n",
    "p2.start()"
   ]
  },
  {
   "cell_type": "code",
   "execution_count": 17,
   "metadata": {},
   "outputs": [
    {
     "name": "stdout",
     "output_type": "stream",
     "text": [
      "breakpoint started\n",
      "subsampler started\n",
      "Breakpoint indexes:  0 999\n",
      "Interval size:  999\n"
     ]
    },
    {
     "name": "stderr",
     "output_type": "stream",
     "text": [
      "/Users/brunobarbarioli/opt/anaconda3/lib/python3.7/site-packages/ipykernel_launcher.py:51: RuntimeWarning: invalid value encountered in sqrt\n"
     ]
    },
    {
     "name": "stdout",
     "output_type": "stream",
     "text": [
      "Relative sample size:  98.6 %\n",
      "----*----\n",
      "Breakpoint indexes:  999 2134\n",
      "Interval size:  1135\n",
      "Relative sample size:  63.0 %\n",
      "----*----\n",
      "Breakpoint indexes:  2134 7399\n",
      "Interval size:  5265\n",
      "Relative sample size:  100%\n",
      "----*----\n",
      "Breakpoint indexes:  7399 12393\n",
      "Interval size:  4994\n",
      "Relative sample size:  100%\n",
      "----*----\n",
      "Breakpoint indexes:  12393 12979\n",
      "Interval size:  586\n",
      "Relative sample size:  100%\n",
      "----*----\n",
      "Breakpoint indexes:  12979 17786\n",
      "Interval size:  4807\n",
      "Relative sample size:  100%\n",
      "----*----\n",
      "Breakpoint indexes:  17786 19530\n",
      "Interval size:  1744\n",
      "Relative sample size:  29.24 %\n",
      "----*----\n",
      "Breakpoint indexes:  19530 21425\n",
      "Interval size:  1895\n",
      "Relative sample size:  27.97 %\n",
      "----*----\n",
      "Breakpoint indexes:  21425 23699\n",
      "Interval size:  2274\n",
      "Relative sample size:  100%\n",
      "----*----\n",
      "Breakpoint indexes:  23699 25232\n",
      "Interval size:  1533\n",
      "Relative sample size:  80.89 %\n",
      "----*----\n",
      "Breakpoint indexes:  25232 25564\n",
      "Interval size:  332\n",
      "Relative sample size:  100%\n",
      "----*----\n",
      "Breakpoint indexes:  25564 33745\n",
      "Interval size:  8181\n",
      "Relative sample size:  100%\n",
      "----*----\n",
      "Breakpoint indexes:  33745 33773\n",
      "Interval size:  28\n",
      "Relative sample size:  100%\n",
      "----*----\n",
      "Breakpoint indexes:  33773 35364\n",
      "Interval size:  1591\n",
      "Relative sample size:  100%\n",
      "----*----\n",
      "Breakpoint indexes:  35364 38221\n",
      "Interval size:  2857\n",
      "Relative sample size:  100%\n",
      "----*----\n",
      "Breakpoint indexes:  38221 44009\n",
      "Interval size:  5788\n",
      "Relative sample size:  6.65 %\n",
      "----*----\n",
      "Breakpoint indexes:  44009 44560\n",
      "Interval size:  551\n",
      "Relative sample size:  135.21 %\n",
      "----*----\n",
      "Breakpoint indexes:  44560 50891\n",
      "Interval size:  6331\n",
      "Relative sample size:  28.12 %\n",
      "----*----\n",
      "Breakpoint indexes:  50891 52708\n",
      "Interval size:  1817\n",
      "Relative sample size:  29.99 %\n",
      "----*----\n",
      "Breakpoint indexes:  52708 53686\n",
      "Interval size:  978\n",
      "Relative sample size:  132.92 %\n",
      "----*----\n",
      "Breakpoint indexes:  53686 54702\n",
      "Interval size:  1016\n",
      "Relative sample size:  197.34 %\n",
      "----*----\n",
      "Breakpoint indexes:  54702 55181\n",
      "Interval size:  479\n",
      "Relative sample size:  100%\n",
      "----*----\n",
      "Breakpoint indexes:  55181 57935\n",
      "Interval size:  2754\n",
      "Relative sample size:  51.92 %\n",
      "----*----\n",
      "Breakpoint indexes:  57935 58383\n",
      "Interval size:  448\n",
      "Relative sample size:  100%\n",
      "----*----\n",
      "Breakpoint indexes:  58383 59309\n",
      "Interval size:  926\n",
      "Relative sample size:  94.49 %\n",
      "----*----\n",
      "Breakpoint indexes:  59309 60863\n",
      "Interval size:  1554\n",
      "Relative sample size:  100%\n",
      "----*----\n",
      "Breakpoint indexes:  60863 61383\n",
      "Interval size:  520\n",
      "Relative sample size:  100%\n",
      "----*----\n",
      "Breakpoint indexes:  61383 61816\n",
      "Interval size:  433\n",
      "Relative sample size:  360.28 %\n",
      "----*----\n",
      "Breakpoint indexes:  61816 63714\n",
      "Interval size:  1898\n",
      "Relative sample size:  41.1 %\n",
      "----*----\n",
      "Breakpoint indexes:  63714 66478\n",
      "Interval size:  2764\n",
      "Relative sample size:  46.13 %\n",
      "----*----\n",
      "Breakpoint indexes:  66478 73605\n",
      "Interval size:  7127\n",
      "Relative sample size:  20.7 %\n",
      "----*----\n",
      "Breakpoint indexes:  73605 73885\n",
      "Interval size:  280\n",
      "Relative sample size:  100%\n",
      "----*----\n",
      "Breakpoint indexes:  73885 74295\n",
      "Interval size:  410\n",
      "Relative sample size:  100%\n",
      "----*----\n",
      "Breakpoint indexes:  74295 74708\n",
      "Interval size:  413\n",
      "Relative sample size:  100%\n",
      "----*----\n",
      "Breakpoint indexes:  74708 76192\n",
      "Interval size:  1484\n",
      "Relative sample size:  29.99 %\n",
      "----*----\n",
      "Breakpoint indexes:  76192 87136\n",
      "Interval size:  10944\n",
      "Relative sample size:  15.12 %\n",
      "----*----\n",
      "Breakpoint indexes:  87136 102086\n",
      "Interval size:  14950\n",
      "Relative sample size:  4.55 %\n",
      "----*----\n",
      "Breakpoint indexes:  102086 105924\n",
      "Interval size:  3838\n",
      "Relative sample size:  100%\n",
      "----*----\n",
      "Breakpoint indexes:  105924 108594\n",
      "Interval size:  2670\n",
      "Relative sample size:  100%\n",
      "----*----\n",
      "Breakpoint indexes:  108594 109251\n",
      "Interval size:  657\n",
      "Relative sample size:  100%\n",
      "----*----\n",
      "Breakpoint indexes:  109251 109916\n",
      "Interval size:  665\n"
     ]
    },
    {
     "name": "stderr",
     "output_type": "stream",
     "text": [
      "Process Process-1:\n",
      "Traceback (most recent call last):\n",
      "  File \"/Users/brunobarbarioli/opt/anaconda3/lib/python3.7/multiprocessing/process.py\", line 300, in _bootstrap\n",
      "    util._exit_function()\n",
      "  File \"/Users/brunobarbarioli/opt/anaconda3/lib/python3.7/multiprocessing/util.py\", line 337, in _exit_function\n",
      "    _run_finalizers()\n",
      "  File \"/Users/brunobarbarioli/opt/anaconda3/lib/python3.7/multiprocessing/util.py\", line 277, in _run_finalizers\n",
      "    finalizer()\n",
      "  File \"/Users/brunobarbarioli/opt/anaconda3/lib/python3.7/multiprocessing/util.py\", line 201, in __call__\n",
      "    res = self._callback(*self._args, **self._kwargs)\n",
      "  File \"/Users/brunobarbarioli/opt/anaconda3/lib/python3.7/multiprocessing/queues.py\", line 192, in _finalize_join\n",
      "    thread.join()\n",
      "  File \"/Users/brunobarbarioli/opt/anaconda3/lib/python3.7/threading.py\", line 1044, in join\n",
      "    self._wait_for_tstate_lock()\n",
      "  File \"/Users/brunobarbarioli/opt/anaconda3/lib/python3.7/threading.py\", line 1060, in _wait_for_tstate_lock\n",
      "    elif lock.acquire(block, timeout):\n",
      "KeyboardInterrupt\n"
     ]
    },
    {
     "name": "stdout",
     "output_type": "stream",
     "text": [
      "Relative sample size:  100%\n",
      "----*----\n",
      "Breakpoint indexes:  109916 113082\n",
      "Interval size:  3166\n",
      "Relative sample size:  51.48 %\n",
      "----*----\n",
      "Breakpoint indexes:  113082 113519\n",
      "Interval size:  437\n",
      "Relative sample size:  235.7 %\n",
      "----*----\n",
      "Breakpoint indexes:  113519 119339\n",
      "Interval size:  5820\n",
      "Relative sample size:  100%\n",
      "----*----\n",
      "Breakpoint indexes:  119339 123765\n",
      "Interval size:  4426\n",
      "Relative sample size:  100%\n",
      "----*----\n",
      "Breakpoint indexes:  123765 125305\n",
      "Interval size:  1540\n",
      "Relative sample size:  100%\n",
      "----*----\n",
      "Breakpoint indexes:  125305 135548\n",
      "Interval size:  10243\n",
      "Relative sample size:  100%\n",
      "----*----\n",
      "Breakpoint indexes:  135548 140161\n",
      "Interval size:  4613\n",
      "Relative sample size:  100%\n",
      "----*----\n",
      "Breakpoint indexes:  140161 142034\n",
      "Interval size:  1873\n",
      "Relative sample size:  127.34 %\n",
      "----*----\n",
      "Breakpoint indexes:  142034 142301\n",
      "Interval size:  267\n",
      "Relative sample size:  100%\n",
      "----*----\n",
      "Breakpoint indexes:  142301 142633\n",
      "Interval size:  332\n",
      "Relative sample size:  393.07 %\n",
      "----*----\n",
      "Breakpoint indexes:  142633 149469\n",
      "Interval size:  6836\n",
      "Relative sample size:  100%\n",
      "----*----\n",
      "Breakpoint indexes:  149469 150285\n",
      "Interval size:  816\n",
      "Relative sample size:  91.3 %\n",
      "----*----\n",
      "Breakpoint indexes:  150285 160533\n",
      "Interval size:  10248\n",
      "Relative sample size:  15.17 %\n",
      "----*----\n",
      "Breakpoint indexes:  160533 170175\n",
      "Interval size:  9642\n",
      "Relative sample size:  10.42 %\n",
      "----*----\n",
      "Breakpoint indexes:  170175 176529\n",
      "Interval size:  6354\n",
      "Relative sample size:  100%\n",
      "----*----\n",
      "Breakpoint indexes:  176529 182829\n",
      "Interval size:  6300\n",
      "Relative sample size:  100%\n",
      "----*----\n",
      "Breakpoint indexes:  182829 191971\n",
      "Interval size:  9142\n",
      "Relative sample size:  4.54 %\n",
      "----*----\n",
      "Breakpoint indexes:  191971 195105\n",
      "Interval size:  3134\n",
      "Relative sample size:  100%\n",
      "----*----\n",
      "Breakpoint indexes:  195105 200171\n",
      "Interval size:  5066\n",
      "Relative sample size:  100%\n",
      "----*----\n",
      "Breakpoint indexes:  200171 205922\n",
      "Interval size:  5751\n",
      "Relative sample size:  4.43 %\n",
      "----*----\n",
      "Breakpoint indexes:  205922 206873\n",
      "Interval size:  951\n",
      "Relative sample size:  100%\n",
      "----*----\n",
      "Breakpoint indexes:  206873 225469\n",
      "Interval size:  18596\n",
      "Relative sample size:  11.1 %\n",
      "----*----\n",
      "Breakpoint indexes:  225469 231018\n",
      "Interval size:  5549\n",
      "Relative sample size:  10.27 %\n",
      "----*----\n",
      "Breakpoint indexes:  231018 236080\n",
      "Interval size:  5062\n",
      "Relative sample size:  100%\n",
      "----*----\n",
      "Breakpoint indexes:  236080 248296\n",
      "Interval size:  12216\n"
     ]
    },
    {
     "name": "stderr",
     "output_type": "stream",
     "text": [
      "Process Process-2:\n",
      "Traceback (most recent call last):\n",
      "  File \"/Users/brunobarbarioli/opt/anaconda3/lib/python3.7/multiprocessing/process.py\", line 297, in _bootstrap\n",
      "    self.run()\n",
      "  File \"/Users/brunobarbarioli/opt/anaconda3/lib/python3.7/multiprocessing/process.py\", line 99, in run\n",
      "    self._target(*self._args, **self._kwargs)\n",
      "  File \"<ipython-input-3-00e089fec547>\", line 39, in us_subsampler\n",
      "    values.append(sample[initial_value:initial_value+block_size])\n",
      "  File \"/Users/brunobarbarioli/opt/anaconda3/lib/python3.7/site-packages/pandas/core/series.py\", line 910, in __getitem__\n",
      "    return self._get_with(key)\n",
      "  File \"/Users/brunobarbarioli/opt/anaconda3/lib/python3.7/site-packages/pandas/core/series.py\", line 915, in _get_with\n",
      "    return self._slice(key)\n",
      "  File \"/Users/brunobarbarioli/opt/anaconda3/lib/python3.7/site-packages/pandas/core/series.py\", line 866, in _slice\n",
      "    return self._get_values(slobj)\n",
      "  File \"/Users/brunobarbarioli/opt/anaconda3/lib/python3.7/site-packages/pandas/core/series.py\", line 985, in _get_values\n",
      "    self._data.get_slice(indexer), fastpath=True\n",
      "  File \"/Users/brunobarbarioli/opt/anaconda3/lib/python3.7/site-packages/pandas/core/internals/managers.py\", line 1542, in get_slice\n",
      "    return type(self)(self._block._slice(slobj), self.index[slobj], fastpath=True,)\n",
      "  File \"/Users/brunobarbarioli/opt/anaconda3/lib/python3.7/site-packages/pandas/core/indexes/extension.py\", line 211, in __getitem__\n",
      "    return type(self)(result, name=self.name)\n",
      "  File \"/Users/brunobarbarioli/opt/anaconda3/lib/python3.7/site-packages/pandas/core/indexes/datetimes.py\", line 253, in __new__\n",
      "    ambiguous=ambiguous,\n",
      "  File \"/Users/brunobarbarioli/opt/anaconda3/lib/python3.7/site-packages/pandas/core/arrays/datetimes.py\", line 320, in _from_sequence\n",
      "    ambiguous=ambiguous,\n",
      "  File \"/Users/brunobarbarioli/opt/anaconda3/lib/python3.7/site-packages/pandas/core/arrays/datetimes.py\", line 1741, in sequence_to_dt64ns\n",
      "    data, copy = maybe_convert_dtype(data, copy)\n",
      "  File \"/Users/brunobarbarioli/opt/anaconda3/lib/python3.7/site-packages/pandas/core/arrays/datetimes.py\", line 1917, in maybe_convert_dtype\n",
      "    elif is_period_dtype(data):\n",
      "  File \"/Users/brunobarbarioli/opt/anaconda3/lib/python3.7/site-packages/pandas/core/dtypes/common.py\", line 503, in is_period_dtype\n",
      "    return PeriodDtype.is_dtype(arr_or_dtype)\n",
      "  File \"/Users/brunobarbarioli/opt/anaconda3/lib/python3.7/site-packages/pandas/core/dtypes/dtypes.py\", line 937, in is_dtype\n",
      "    return super().is_dtype(dtype)\n",
      "  File \"/Users/brunobarbarioli/opt/anaconda3/lib/python3.7/site-packages/pandas/core/dtypes/base.py\", line 273, in is_dtype\n",
      "    if isinstance(dtype, (ABCSeries, ABCIndexClass, ABCDataFrame, np.dtype)):\n",
      "  File \"/Users/brunobarbarioli/opt/anaconda3/lib/python3.7/site-packages/pandas/core/dtypes/generic.py\", line 12, in _check\n",
      "    return getattr(inst, attr, \"_typ\") in comp\n",
      "KeyboardInterrupt\n"
     ]
    }
   ],
   "source": [
    "#breakpoint detection Threshold = 5, drift = 12.5\n",
    "queue = mp.Queue()\n",
    "p1 = mp.Process(target = detection, args = (x, queue, 5, 12.5, False, False))\n",
    "p2 = mp.Process(target = us_subsampler, args = (0.05,0.01,10,5,x, queue, 500))\n",
    "\n",
    "p1.start()\n",
    "p2.start()"
   ]
  },
  {
   "cell_type": "code",
   "execution_count": 20,
   "metadata": {
    "scrolled": true
   },
   "outputs": [
    {
     "name": "stdout",
     "output_type": "stream",
     "text": [
      "2049280\n",
      "breakpoint started\n",
      "subsampler started\n",
      "Breakpoint indexes:  0 779524\n",
      "Interval size:  779524\n"
     ]
    },
    {
     "name": "stderr",
     "output_type": "stream",
     "text": [
      "/Users/brunobarbarioli/opt/anaconda3/lib/python3.7/site-packages/ipykernel_launcher.py:51: RuntimeWarning: invalid value encountered in sqrt\n"
     ]
    },
    {
     "name": "stdout",
     "output_type": "stream",
     "text": [
      "Relative sample size:  0.09 %\n",
      "----*----\n",
      "Breakpoint indexes:  779524 790980\n",
      "Interval size:  11456\n",
      "Relative sample size:  25.01 %\n",
      "----*----\n",
      "Breakpoint indexes:  790980 805692\n",
      "Interval size:  14712\n",
      "Relative sample size:  100%\n",
      "----*----\n",
      "Breakpoint indexes:  805692 811460\n",
      "Interval size:  5768\n",
      "Relative sample size:  9.36 %\n",
      "----*----\n",
      "Breakpoint indexes:  811460 812293\n",
      "Interval size:  833\n",
      "Relative sample size:  100%\n",
      "----*----\n",
      "Breakpoint indexes:  812293 940403\n",
      "Interval size:  128110\n",
      "Relative sample size:  100%\n",
      "----*----\n",
      "Breakpoint indexes:  940403 961646\n",
      "Interval size:  21243\n",
      "Relative sample size:  12.38 %\n",
      "----*----\n",
      "Breakpoint indexes:  961646 1264713\n",
      "Interval size:  303067\n",
      "Relative sample size:  0.27 %\n",
      "----*----\n",
      "Breakpoint indexes:  1264713 1273186\n",
      "Interval size:  8473\n",
      "Relative sample size:  100%\n",
      "----*----\n",
      "Breakpoint indexes:  1273186 1305243\n",
      "Interval size:  32057\n",
      "Relative sample size:  5.19 %\n",
      "----*----\n",
      "Breakpoint indexes:  1305243 1317653\n",
      "Interval size:  12410\n",
      "Relative sample size:  16.28 %\n",
      "----*----\n",
      "Breakpoint indexes:  1317653 1330319\n",
      "Interval size:  12666\n",
      "Relative sample size:  100%\n",
      "----*----\n",
      "Breakpoint indexes:  1330319 1385825\n",
      "Interval size:  55506\n",
      "Relative sample size:  0.98 %\n",
      "----*----\n",
      "Breakpoint indexes:  1385825 1422337\n",
      "Interval size:  36512\n"
     ]
    },
    {
     "name": "stderr",
     "output_type": "stream",
     "text": [
      "/Users/brunobarbarioli/opt/anaconda3/lib/python3.7/site-packages/ipykernel_launcher.py:54: RuntimeWarning: invalid value encountered in less\n",
      "Process Process-8:\n",
      "Traceback (most recent call last):\n",
      "  File \"/Users/brunobarbarioli/opt/anaconda3/lib/python3.7/multiprocessing/process.py\", line 297, in _bootstrap\n",
      "    self.run()\n",
      "  File \"/Users/brunobarbarioli/opt/anaconda3/lib/python3.7/multiprocessing/process.py\", line 99, in run\n",
      "    self._target(*self._args, **self._kwargs)\n",
      "  File \"<ipython-input-3-00e089fec547>\", line 54, in us_subsampler\n",
      "    upper_bound = min(upper_bound, np.abs(np.mean(values))+ct)\n",
      "ValueError: The truth value of an array with more than one element is ambiguous. Use a.any() or a.all()\n"
     ]
    }
   ],
   "source": [
    "#breakpoint detection Threshold = 5, drift = 15\n",
    "print('Data points: ', len(x))\n",
    "print('--------------------')\n",
    "\n",
    "queue = mp.Queue()\n",
    "p1 = mp.Process(target = detection, args = (x, queue, 5, 15, False, False))\n",
    "p2 = mp.Process(target = us_subsampler, args = (0.05,0.01,10,5,x, queue, 1000))\n",
    "\n",
    "p1.start()\n",
    "p2.start()"
   ]
  },
  {
   "cell_type": "code",
   "execution_count": 26,
   "metadata": {},
   "outputs": [
    {
     "name": "stdout",
     "output_type": "stream",
     "text": [
      "Data points:  2049280\n",
      "--------------------\n",
      "breakpoint started\n",
      "subsampler started\n",
      "Breakpoint indices:  0 779524\n",
      "Interval size:  779524\n",
      "Relative sample size:  0.4 %\n",
      "----*----\n",
      "Breakpoint indices:  779524 812293\n",
      "Interval size:  32769\n",
      "Relative sample size:  13.47 %\n",
      "----*----\n",
      "Breakpoint indices:  812293 940403\n",
      "Interval size:  128110\n",
      "Relative sample size:  1.53 %\n",
      "----*----\n",
      "Breakpoint indices:  940403 1273186\n",
      "Interval size:  332783\n",
      "Relative sample size:  0.44 %\n",
      "----*----\n",
      "Breakpoint indices:  1273186 1305243\n",
      "Interval size:  32057\n",
      "Relative sample size:  5.76 %\n",
      "----*----\n",
      "Breakpoint indices:  1305243 1317653\n",
      "Interval size:  12410\n",
      "Relative sample size:  11.0 %\n",
      "----*----\n",
      "Breakpoint indices:  1317653 1330319\n",
      "Interval size:  12666\n",
      "Relative sample size:  100%\n",
      "----*----\n",
      "Breakpoint indices:  1330319 1385825\n",
      "Interval size:  55506\n",
      "Relative sample size:  1.94 %\n",
      "----*----\n",
      "Breakpoint indices:  1385825 1422337\n",
      "Interval size:  36512\n",
      "Relative sample size:  1.07 %\n",
      "----*----\n",
      "Breakpoint indices:  1422337 1424621\n",
      "Interval size:  2284\n",
      "Relative sample size:  154.12 %\n",
      "----*----\n",
      "Breakpoint indices:  1424621 1438596\n",
      "Interval size:  13975\n",
      "Relative sample size:  2.5 %\n",
      "----*----\n",
      "Breakpoint indices:  1438596 1444107\n",
      "Interval size:  5511\n",
      "Relative sample size:  68.5 %\n",
      "----*----\n",
      "Breakpoint indices:  1444107 1493521\n",
      "Interval size:  49414\n",
      "Relative sample size:  7.63 %\n",
      "----*----\n",
      "Breakpoint indices:  1493521 1511994\n",
      "Interval size:  18473\n",
      "Relative sample size:  6.33 %\n",
      "----*----\n",
      "Breakpoint indices:  1511994 1553770\n",
      "Interval size:  41776\n",
      "Relative sample size:  7.37 %\n",
      "----*----\n",
      "Breakpoint indices:  1553770 1555777\n",
      "Interval size:  2007\n",
      "Relative sample size:  37.12 %\n",
      "----*----\n",
      "Breakpoint indices:  1555777 1795414\n",
      "Interval size:  239637\n",
      "Relative sample size:  1.15 %\n",
      "----*----\n",
      "Breakpoint indices:  1795414 1843912\n",
      "Interval size:  48498\n",
      "Relative sample size:  3.26 %\n",
      "----*----\n",
      "Breakpoint indices:  1843912 1864534\n",
      "Interval size:  20622\n",
      "Relative sample size:  100%\n",
      "----*----\n",
      "Breakpoint indices:  1864534 1883353\n",
      "Interval size:  18819\n",
      "Relative sample size:  25.43 %\n",
      "----*----\n",
      "Breakpoint indices:  1883353 1936443\n",
      "Interval size:  53090\n",
      "Relative sample size:  1.73 %\n",
      "----*----\n",
      "Breakpoint indices:  1936443 1942503\n",
      "Interval size:  6060\n",
      "Relative sample size:  4.62 %\n",
      "----*----\n"
     ]
    }
   ],
   "source": [
    "#breakpoint detection Threshold = 5, drift = 17.5\n",
    "print('Data points: ', len(x))\n",
    "print('--------------------')\n",
    "\n",
    "queue = mp.Queue()\n",
    "p1 = mp.Process(target = detection, args = (x, queue, 5, 17.5, False, False))\n",
    "p2 = mp.Process(target = us_subsampler, args = (0.05,0.01,10,5,x, queue, 1000))\n",
    "\n",
    "p1.start()\n",
    "p2.start()"
   ]
  },
  {
   "cell_type": "code",
   "execution_count": null,
   "metadata": {},
   "outputs": [],
   "source": []
  },
  {
   "cell_type": "markdown",
   "metadata": {},
   "source": [
    "## Comparison"
   ]
  },
  {
   "cell_type": "code",
   "execution_count": 1,
   "metadata": {},
   "outputs": [],
   "source": [
    "import multiprocessing as mp\n",
    "import time\n",
    "import numpy as np\n",
    "import pandas as pd\n",
    "import matplotlib.pyplot as plt\n",
    "import math\n",
    "from random import randint\n",
    "from colorama import Fore\n",
    "import sys\n",
    "import warnings\n",
    "from statistics import mean\n",
    "\n",
    "if not sys.warnoptions:\n",
    "    warnings.simplefilter(\"ignore\")"
   ]
  },
  {
   "cell_type": "code",
   "execution_count": 4,
   "metadata": {},
   "outputs": [
    {
     "data": {
      "text/plain": [
       "[<matplotlib.lines.Line2D at 0x11b60bbd0>]"
      ]
     },
     "execution_count": 4,
     "metadata": {},
     "output_type": "execute_result"
    },
    {
     "data": {
      "image/png": "[encoded data removed]",
      "text/plain": [
       "<Figure size 432x288 with 1 Axes>"
      ]
     },
     "metadata": {
      "needs_background": "light"
     },
     "output_type": "display_data"
    }
   ],
   "source": [
    "n = 1000000\n",
    "mu = 2\n",
    "sigma = 0.5\n",
    "x = np.random.normal(mu, sigma, n)\n",
    "x[100000:200000] += 3\n",
    "x[400000:500000] += 4.5\n",
    "x[600000:700000] += 0\n",
    "x[800000:900000] += 3\n",
    "plt.plot(x)"
   ]
  },
  {
   "cell_type": "code",
   "execution_count": 5,
   "metadata": {},
   "outputs": [],
   "source": [
    "real_average = np.random.normal(mu, 0, n)\n",
    "real_average[100000:200000] += 3\n",
    "real_average[400000:500000] += 4.5\n",
    "real_average[600000:700000] += 0\n",
    "real_average[800000:900000] += 3"
   ]
  },
  {
   "cell_type": "code",
   "execution_count": 7,
   "metadata": {},
   "outputs": [],
   "source": [
    "def uniform_sampler(data, rate = 2):\n",
    "    \n",
    "    subsample = []\n",
    "    for i in range(0,len(data)):\n",
    "        if i % rate == 0:\n",
    "            subsample.append(data)\n",
    "    \n",
    "    return subsample\n",
    "    "
   ]
  },
  {
   "cell_type": "code",
   "execution_count": 8,
   "metadata": {},
   "outputs": [],
   "source": [
    "subsample_uniform = uniform_sampler(x, 10)"
   ]
  },
  {
   "cell_type": "code",
   "execution_count": null,
   "metadata": {
    "scrolled": true
   },
   "outputs": [],
   "source": [
    "subsample_uniform_mean = mean(subsample_uniform)"
   ]
  },
  {
   "cell_type": "code",
   "execution_count": 7,
   "metadata": {},
   "outputs": [],
   "source": [
    "def empirical_bernstein(epsilon, delta, variable_range, sample, block_size = 1):\n",
    "\n",
    "    epsilon = epsilon\n",
    "    delta = delta\n",
    "    t = 1\n",
    "    k = 0\n",
    "    upper_bound = 10000000000000\n",
    "    lower_bound = -1000000000000\n",
    "    beta = 1.5\n",
    "    p = 1.1\n",
    "    c = delta * (p-1)/p\n",
    "    last = None\n",
    "    values = []\n",
    "\n",
    "\n",
    "    #Checking for stopping condition\n",
    "    while ((epsilon + 1) * lower_bound < (1 - epsilon) * upper_bound):\n",
    "\n",
    "        initial_value = randint(0,len(sample)-(block_size+1))\n",
    "        values.append(sample[initial_value:initial_value+block_size])\n",
    "        t += block_size\n",
    "\n",
    "        #Adding new value\n",
    "\n",
    "        if t > np.floor(beta ** k):\n",
    "            k += 1\n",
    "            alpha = np.floor(beta ** k) / np.floor(beta ** (k - 1))\n",
    "            dk = c / (0.00000000000001 + (math.log(k, p) ** p))\n",
    "            x = -alpha * np.log(dk)/3\n",
    "\n",
    "        ct = np.std(values) * np.sqrt(2 * x / t) + 3 * variable_range * x / t\n",
    "        lower_bound = max(lower_bound, np.abs(np.mean(values))-ct)\n",
    "        #print('lower bound: ', lower_bound)\n",
    "        upper_bound = min(upper_bound, np.abs(np.mean(values))+ct)\n",
    "        #print('upper bound: ', upper_bound)\n",
    "\n",
    "\n",
    "    return values"
   ]
  },
  {
   "cell_type": "code",
   "execution_count": 14,
   "metadata": {},
   "outputs": [],
   "source": [
    "subsample_eb = empirical_bernstein(0.05,0.01,2.5,x)"
   ]
  },
  {
   "cell_type": "code",
   "execution_count": 15,
   "metadata": {},
   "outputs": [],
   "source": [
    "len(subsample_eb)\n",
    "subsample_eb_mean = np.full(1000000,np.mean(subsample_eb))"
   ]
  },
  {
   "cell_type": "code",
   "execution_count": 8,
   "metadata": {
    "scrolled": true
   },
   "outputs": [
    {
     "name": "stdout",
     "output_type": "stream",
     "text": [
      "breakpoint started\n",
      "subsampler started\n",
      "Interval size:  64557\n",
      "Relative sample size:  1.38 %\n",
      "----*----\n",
      "Interval size:  16482\n",
      "Relative sample size:  5.28 %\n",
      "----*----\n",
      "Interval size:  18961\n",
      "Relative sample size:  4.69 %\n",
      "----*----\n",
      "Interval size:  6241\n",
      "Relative sample size:  4.65 %\n",
      "----*----\n",
      "Interval size:  36089\n",
      "Relative sample size:  0.8 %\n",
      "----*----\n",
      "Interval size:  13937\n",
      "Relative sample size:  2.15 %\n",
      "----*----\n",
      "Interval size:  11003\n",
      "Relative sample size:  2.64 %\n",
      "----*----\n",
      "Interval size:  24836\n",
      "Relative sample size:  1.17 %\n",
      "----*----\n",
      "Interval size:  4708\n",
      "Relative sample size:  6.37 %\n",
      "----*----\n",
      "Interval size:  3186\n",
      "Relative sample size:  9.1 %\n",
      "----*----\n",
      "Interval size:  4577\n",
      "Relative sample size:  19.88 %\n",
      "----*----\n",
      "Interval size:  11458\n",
      "Relative sample size:  7.68 %\n",
      "----*----\n",
      "Interval size:  20256\n",
      "Relative sample size:  4.25 %\n",
      "----*----\n",
      "Interval size:  48476\n",
      "Relative sample size:  1.79 %\n",
      "----*----\n",
      "Interval size:  22881\n",
      "Relative sample size:  3.93 %\n",
      "----*----\n",
      "Interval size:  10085\n",
      "Relative sample size:  8.33 %\n",
      "----*----\n",
      "Interval size:  22640\n",
      "Relative sample size:  4.02 %\n",
      "----*----\n",
      "Interval size:  23885\n",
      "Relative sample size:  3.6 %\n",
      "----*----\n",
      "Interval size:  7896\n",
      "Relative sample size:  11.27 %\n",
      "----*----\n",
      "Interval size:  24007\n",
      "Relative sample size:  3.75 %\n",
      "----*----\n",
      "Interval size:  3839\n",
      "Relative sample size:  23.7 %\n",
      "----*----\n",
      "Interval size:  48409\n",
      "Relative sample size:  0.45 %\n",
      "----*----\n",
      "Interval size:  37237\n",
      "Relative sample size:  0.62 %\n",
      "----*----\n",
      "Interval size:  7842\n",
      "Relative sample size:  2.93 %\n",
      "----*----\n",
      "Interval size:  6512\n",
      "Relative sample size:  3.38 %\n",
      "----*----\n",
      "Interval size:  16023\n",
      "Relative sample size:  5.8 %\n",
      "----*----\n",
      "Interval size:  42248\n",
      "Relative sample size:  2.08 %\n",
      "----*----\n",
      "Interval size:  60733\n",
      "Relative sample size:  1.42 %\n",
      "----*----\n",
      "Interval size:  10833\n",
      "Relative sample size:  8.22 %\n",
      "----*----\n",
      "Interval size:  4040\n",
      "Relative sample size:  21.78 %\n",
      "----*----\n",
      "Interval size:  66111\n",
      "Relative sample size:  1.38 %\n",
      "----*----\n",
      "Interval size:  4417\n",
      "Relative sample size:  19.7 %\n",
      "----*----\n",
      "Interval size:  15117\n",
      "Relative sample size:  5.76 %\n",
      "----*----\n",
      "Interval size:  80479\n",
      "Relative sample size:  1.07 %\n",
      "----*----\n",
      "Interval size:  13094\n",
      "Relative sample size:  2.21 %\n",
      "----*----\n",
      "Interval size:  43894\n",
      "Relative sample size:  0.68 %\n",
      "----*----\n",
      "Interval size:  43012\n",
      "Relative sample size:  0.7 %\n",
      "----*----\n",
      "Interval size:  36773\n",
      "Relative sample size:  2.45 %\n",
      "----*----\n",
      "Interval size:  8722\n",
      "Relative sample size:  10.2 %\n",
      "----*----\n",
      "Interval size:  5077\n",
      "Relative sample size:  17.53 %\n",
      "----*----\n",
      "Interval size:  35018\n",
      "Relative sample size:  2.51 %\n",
      "----*----\n"
     ]
    }
   ],
   "source": [
    "#breakpoint detection Threshold = 2.5, drift = 10\n",
    "queue = mp.Queue()\n",
    "return_queue = mp.Queue()\n",
    "index_queue = mp.Queue()\n",
    "p1 = mp.Process(target = detection, args = (x, queue, 2.75, .25, False, False))\n",
    "p2 = mp.Process(target = us_subsampler, args = (0.05,0.01,2.5,10,x, queue, return_queue,index_queue, 1000))\n",
    "\n",
    "p1.start()\n",
    "p2.start()"
   ]
  },
  {
   "cell_type": "code",
   "execution_count": 53,
   "metadata": {
    "scrolled": false
   },
   "outputs": [
    {
     "data": {
      "image/png": "[encoded data removed]",
      "text/plain": [
       "<Figure size 576x432 with 2 Axes>"
      ]
     },
     "metadata": {
      "needs_background": "light"
     },
     "output_type": "display_data"
    }
   ],
   "source": [
    "ta, tai, taf, amp = detection(x, 2.75, .25, False, True)"
   ]
  },
  {
   "cell_type": "code",
   "execution_count": 9,
   "metadata": {},
   "outputs": [],
   "source": [
    "def subsample_analysis(return_queue, index_queue):\n",
    "    \n",
    "    subsample = return_queue.get()\n",
    "    indexes = index_queue.get()\n",
    "    subsample_average = np.full((indexes[1]-indexes[0]),np.mean(subsample))\n",
    "    relative_size = np.full((indexes[1]-indexes[0]),len(subsample)/(indexes[1]-indexes[0]))\n",
    "    \n",
    "    while return_queue.empty() == False:\n",
    "        \n",
    "        subsample = return_queue.get()\n",
    "        indexes = index_queue.get()\n",
    "        size = indexes[1]-indexes[0]\n",
    "        subsample_average = np.concatenate((subsample_average, np.full(size,np.mean(subsample))), axis = None)\n",
    "        relative_size = np.concatenate((relative_size, np.full(size,len(subsample)/size)), axis = None)\n",
    "    \n",
    "    return subsample_average, relative_size"
   ]
  },
  {
   "cell_type": "code",
   "execution_count": 10,
   "metadata": {},
   "outputs": [],
   "source": [
    "sub, rel_size = subsample_analysis(return_queue, index_queue)"
   ]
  },
  {
   "cell_type": "code",
   "execution_count": 23,
   "metadata": {},
   "outputs": [
    {
     "data": {
      "text/plain": [
       "<matplotlib.legend.Legend at 0x11b355b50>"
      ]
     },
     "execution_count": 23,
     "metadata": {},
     "output_type": "execute_result"
    },
    {
     "data": {
      "image/png": "[encoded data removed]",
      "text/plain": [
       "<Figure size 432x288 with 1 Axes>"
      ]
     },
     "metadata": {
      "needs_background": "light"
     },
     "output_type": "display_data"
    }
   ],
   "source": [
    "plt.plot(rel_size, color = 'green')\n",
    "plt.plot(np.full(1000000,1), color = 'blue')\n",
    "plt.plot(np.full(1000000,max(rel_size)), color='red', linestyle ='--' )\n",
    "plt.legend(['subsample relative size', 'full sample', 'maximum subsample size'], loc='upper left')"
   ]
  },
  {
   "cell_type": "code",
   "execution_count": 17,
   "metadata": {},
   "outputs": [
    {
     "data": {
      "text/plain": [
       "[<matplotlib.lines.Line2D at 0x11f934a50>]"
      ]
     },
     "execution_count": 17,
     "metadata": {},
     "output_type": "execute_result"
    },
    {
     "data": {
      "image/png": "[encoded data removed]",
      "text/plain": [
       "<Figure size 432x288 with 1 Axes>"
      ]
     },
     "metadata": {
      "needs_background": "light"
     },
     "output_type": "display_data"
    }
   ],
   "source": [
    "plt.plot(real_average)\n",
    "plt.plot(subsample_eb_mean)\n",
    "plt.plot(sub)"
   ]
  },
  {
   "cell_type": "markdown",
   "metadata": {},
   "source": [
    "## Example 2"
   ]
  },
  {
   "cell_type": "code",
   "execution_count": null,
   "metadata": {},
   "outputs": [],
   "source": []
  }
 ],
 "metadata": {
  "kernelspec": {
   "display_name": "Python 3",
   "language": "python",
   "name": "python3"
  },
  "language_info": {
   "codemirror_mode": {
    "name": "ipython",
    "version": 3
   },
   "file_extension": ".py",
   "mimetype": "text/x-python",
   "name": "python",
   "nbconvert_exporter": "python",
   "pygments_lexer": "ipython3",
   "version": "3.7.6"
  }
 },
 "nbformat": 4,
 "nbformat_minor": 4
}
