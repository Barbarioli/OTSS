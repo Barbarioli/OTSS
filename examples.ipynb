{
 "cells": [
  {
   "cell_type": "markdown",
   "metadata": {},
   "source": [
    "# Subsampling examples"
   ]
  },
  {
   "cell_type": "code",
   "execution_count": 1,
   "metadata": {},
   "outputs": [],
   "source": [
    "import multiprocessing as mp\n",
    "import time\n",
    "import numpy as np\n",
    "import pandas as pd\n",
    "import matplotlib.pyplot as plt\n",
    "import math\n",
    "import sys\n",
    "import warnings\n",
    "import os\n",
    "from random import randint\n",
    "\n",
    "if not sys.warnoptions:\n",
    "    warnings.simplefilter(\"ignore\")"
   ]
  },
  {
   "cell_type": "code",
   "execution_count": 2,
   "metadata": {},
   "outputs": [
    {
     "data": {
      "text/plain": [
       "'/Users/brunobarbarioli/Documents/Research/OTSS'"
      ]
     },
     "execution_count": 2,
     "metadata": {},
     "output_type": "execute_result"
    }
   ],
   "source": [
    "os.getcwd()"
   ]
  },
  {
   "cell_type": "code",
   "execution_count": 13,
   "metadata": {},
   "outputs": [],
   "source": [
    "from algorithms.online_subsampler import *\n",
    "from algorithms.analytics import *\n",
    "from algorithms.breakpoint_detection import *\n",
    "from algorithms.empirical_bernstein import *\n",
    "import algorithms.uniform_subsampler"
   ]
  },
  {
   "cell_type": "markdown",
   "metadata": {},
   "source": [
    "## Synthetic data"
   ]
  },
  {
   "cell_type": "code",
   "execution_count": 10,
   "metadata": {},
   "outputs": [
    {
     "data": {
      "text/plain": [
       "[<matplotlib.lines.Line2D at 0x11e626850>]"
      ]
     },
     "execution_count": 10,
     "metadata": {},
     "output_type": "execute_result"
    },
    {
     "data": {
      "image/png": "[encoded data removed]",
      "text/plain": [
       "<Figure size 432x288 with 1 Axes>"
      ]
     },
     "metadata": {
      "needs_background": "light"
     },
     "output_type": "display_data"
    }
   ],
   "source": [
    "#Piecewise Stationary series\n",
    "\n",
    "#Parameters\n",
    "n = 1000000\n",
    "mu = 2\n",
    "sigma = 0.5\n",
    "\n",
    "#Gaussian distribution\n",
    "x = np.random.normal(mu, sigma, n)\n",
    "\n",
    "#Altered means\n",
    "x[100000:200000] += 3\n",
    "x[400000:500000] += 4.5\n",
    "x[600000:700000] += 0\n",
    "x[800000:900000] += 3\n",
    "\n",
    "#plot\n",
    "plt.plot(x)"
   ]
  },
  {
   "cell_type": "code",
   "execution_count": 11,
   "metadata": {},
   "outputs": [],
   "source": [
    "# Real average for comparison\n",
    "\n",
    "real_average = np.random.normal(mu, 0, n)\n",
    "real_average[100000:200000] += 3\n",
    "real_average[400000:500000] += 4.5\n",
    "real_average[600000:700000] += 0\n",
    "real_average[800000:900000] += 3"
   ]
  },
  {
   "cell_type": "code",
   "execution_count": 12,
   "metadata": {},
   "outputs": [],
   "source": [
    "# Using empirical Bernstein subsampler\n",
    "\n",
    "subsample_eb = empirical_bernstein(0.05,0.01,2.5,x)\n",
    "\n",
    "#calculating the mean\n",
    "subsample_eb_mean = np.full(1000000,np.mean(subsample_eb))"
   ]
  },
  {
   "cell_type": "code",
   "execution_count": 19,
   "metadata": {
    "scrolled": true
   },
   "outputs": [
    {
     "name": "stdout",
     "output_type": "stream",
     "text": [
      "breakpoint started\n",
      "subsampler started\n",
      "Interval size:  17747\n",
      "Relative sample size:  5.07 %\n",
      "----*----\n",
      "Interval size:  35532\n",
      "Relative sample size:  2.48 %\n",
      "----*----\n",
      "Interval size:  46721\n",
      "Relative sample size:  1.9 %\n",
      "----*----\n",
      "Interval size:  17731\n",
      "Relative sample size:  1.64 %\n",
      "----*----\n",
      "Interval size:  72961\n",
      "Relative sample size:  0.38 %\n",
      "----*----\n",
      "Interval size:  9308\n",
      "Relative sample size:  3.22 %\n",
      "----*----\n",
      "Interval size:  20426\n",
      "Relative sample size:  4.31 %\n",
      "----*----\n",
      "Interval size:  37125\n",
      "Relative sample size:  2.4 %\n",
      "----*----\n",
      "Interval size:  71371\n",
      "Relative sample size:  1.25 %\n",
      "----*----\n",
      "Interval size:  31616\n",
      "Relative sample size:  2.78 %\n",
      "----*----\n",
      "Interval size:  4320\n",
      "Relative sample size:  20.14 %\n",
      "----*----\n",
      "Interval size:  35142\n",
      "Relative sample size:  2.7 %\n",
      "----*----\n",
      "Interval size:  1106\n",
      "Relative sample size:  20.8 %\n",
      "----*----\n",
      "Interval size:  10131\n",
      "Relative sample size:  2.17 %\n",
      "----*----\n",
      "Interval size:  24344\n",
      "Relative sample size:  0.94 %\n",
      "----*----\n",
      "Interval size:  64419\n",
      "Relative sample size:  0.36 %\n",
      "----*----\n",
      "Interval size:  56796\n",
      "Relative sample size:  1.55 %\n",
      "----*----\n",
      "Interval size:  4388\n",
      "Relative sample size:  20.97 %\n",
      "----*----\n",
      "Interval size:  70778\n",
      "Relative sample size:  1.23 %\n",
      "----*----\n",
      "Interval size:  39572\n",
      "Relative sample size:  2.2 %\n",
      "----*----\n",
      "Interval size:  98473\n",
      "Relative sample size:  0.89 %\n",
      "----*----\n",
      "Interval size:  883\n",
      "Relative sample size:  98.53 %\n",
      "----*----\n",
      "Interval size:  13632\n",
      "Relative sample size:  6.6 %\n",
      "----*----\n",
      "Interval size:  15478\n",
      "Relative sample size:  5.62 %\n",
      "----*----\n",
      "Interval size:  14417\n",
      "Relative sample size:  2.01 %\n",
      "----*----\n",
      "Interval size:  85583\n",
      "Relative sample size:  0.33 %\n",
      "----*----\n",
      "Interval size:  92609\n",
      "Relative sample size:  0.97 %\n",
      "----*----\n"
     ]
    },
    {
     "data": {
      "image/png": "[encoded data removed]",
      "text/plain": [
       "<Figure size 576x432 with 2 Axes>"
      ]
     },
     "metadata": {
      "needs_background": "light"
     },
     "output_type": "display_data"
    },
    {
     "name": "stderr",
     "output_type": "stream",
     "text": [
      "Process Process-5:\n",
      "Traceback (most recent call last):\n",
      "  File \"/Users/brunobarbarioli/opt/anaconda3/lib/python3.7/multiprocessing/process.py\", line 297, in _bootstrap\n",
      "    self.run()\n",
      "  File \"/Users/brunobarbarioli/opt/anaconda3/lib/python3.7/multiprocessing/process.py\", line 99, in run\n",
      "    self._target(*self._args, **self._kwargs)\n",
      "  File \"/Users/brunobarbarioli/Documents/Research/OTSS/algorithms/online_subsampler.py\", line 95, in online_subsampler\n",
      "    indexes = queue.get()\n",
      "  File \"/Users/brunobarbarioli/opt/anaconda3/lib/python3.7/multiprocessing/queues.py\", line 94, in get\n",
      "    res = self._recv_bytes()\n",
      "  File \"/Users/brunobarbarioli/opt/anaconda3/lib/python3.7/multiprocessing/connection.py\", line 216, in recv_bytes\n",
      "    buf = self._recv_bytes(maxlength)\n",
      "  File \"/Users/brunobarbarioli/opt/anaconda3/lib/python3.7/multiprocessing/connection.py\", line 407, in _recv_bytes\n",
      "    buf = self._recv(4)\n",
      "  File \"/Users/brunobarbarioli/opt/anaconda3/lib/python3.7/multiprocessing/connection.py\", line 379, in _recv\n",
      "    chunk = read(handle, remaining)\n",
      "KeyboardInterrupt\n"
     ]
    }
   ],
   "source": [
    "# Online subsampler\n",
    "\n",
    "queue = mp.Queue()\n",
    "return_queue = mp.Queue()\n",
    "index_queue = mp.Queue()\n",
    "p1 = mp.Process(target = detection, args = (x, queue, 2.75, .25, False, True))\n",
    "p2 = mp.Process(target = online_subsampler, args = (0.05,0.01,2.5,10,x, queue, return_queue,index_queue, 1000))\n",
    "\n",
    "p1.start()\n",
    "p2.start()"
   ]
  },
  {
   "cell_type": "code",
   "execution_count": null,
   "metadata": {},
   "outputs": [],
   "source": [
    "# Calculating statistics\n",
    "sub, rel_size = subsample_analysis(return_queue, index_queue)"
   ]
  },
  {
   "cell_type": "code",
   "execution_count": 21,
   "metadata": {},
   "outputs": [
    {
     "data": {
      "text/plain": [
       "<matplotlib.legend.Legend at 0x121683d90>"
      ]
     },
     "execution_count": 21,
     "metadata": {},
     "output_type": "execute_result"
    },
    {
     "data": {
      "image/png": "[encoded data removed]",
      "text/plain": [
       "<Figure size 432x288 with 1 Axes>"
      ]
     },
     "metadata": {
      "needs_background": "light"
     },
     "output_type": "display_data"
    }
   ],
   "source": [
    "# Plotting subsample size\n",
    "plt.plot(rel_size, color = 'green')\n",
    "plt.plot(np.full(1000000,1), color = 'blue')\n",
    "plt.plot(np.full(1000000,max(rel_size)), color='red', linestyle ='--' )\n",
    "plt.legend(['subsample relative size', 'full sample', 'maximum subsample size'], loc='upper left')"
   ]
  },
  {
   "cell_type": "code",
   "execution_count": 18,
   "metadata": {},
   "outputs": [
    {
     "data": {
      "text/plain": [
       "[<matplotlib.lines.Line2D at 0x121613c90>]"
      ]
     },
     "execution_count": 18,
     "metadata": {},
     "output_type": "execute_result"
    },
    {
     "data": {
      "image/png": "[encoded data removed]",
      "text/plain": [
       "<Figure size 432x288 with 1 Axes>"
      ]
     },
     "metadata": {
      "needs_background": "light"
     },
     "output_type": "display_data"
    }
   ],
   "source": [
    "#plotting mean\n",
    "\n",
    "plt.plot(real_average)\n",
    "plt.plot(subsample_eb_mean)\n",
    "plt.plot(sub)"
   ]
  },
  {
   "cell_type": "markdown",
   "metadata": {},
   "source": [
    "## Real Data"
   ]
  },
  {
   "cell_type": "markdown",
   "metadata": {},
   "source": [
    "### Example 1 - UCI Household power consumption\n",
    "https://archive.ics.uci.edu/ml/datasets/Individual+household+electric+power+consumption"
   ]
  },
  {
   "cell_type": "code",
   "execution_count": 22,
   "metadata": {},
   "outputs": [],
   "source": [
    "path = '/Users/brunobarbarioli/Documents/Research/OTSS/datasets/household_power_consumption.txt'\n",
    "data = pd.read_csv(path, sep = ';')"
   ]
  },
  {
   "cell_type": "markdown",
   "metadata": {},
   "source": [
    "#### Exploratory data analysis and data cleaning\n"
   ]
  },
  {
   "cell_type": "code",
   "execution_count": 23,
   "metadata": {},
   "outputs": [
    {
     "name": "stdout",
     "output_type": "stream",
     "text": [
      "         Date      Time Global_active_power Global_reactive_power  Voltage  \\\n",
      "0  16/12/2006  17:24:00               4.216                 0.418  234.840   \n",
      "1  16/12/2006  17:25:00               5.360                 0.436  233.630   \n",
      "2  16/12/2006  17:26:00               5.374                 0.498  233.290   \n",
      "3  16/12/2006  17:27:00               5.388                 0.502  233.740   \n",
      "4  16/12/2006  17:28:00               3.666                 0.528  235.680   \n",
      "\n",
      "  Global_intensity Sub_metering_1 Sub_metering_2  Sub_metering_3  \n",
      "0           18.400          0.000          1.000            17.0  \n",
      "1           23.000          0.000          1.000            16.0  \n",
      "2           23.000          0.000          2.000            17.0  \n",
      "3           23.000          0.000          1.000            17.0  \n",
      "4           15.800          0.000          1.000            17.0  \n"
     ]
    }
   ],
   "source": [
    "print(data.head(5))"
   ]
  },
  {
   "cell_type": "code",
   "execution_count": 24,
   "metadata": {},
   "outputs": [
    {
     "name": "stdout",
     "output_type": "stream",
     "text": [
      "<class 'pandas.core.frame.DataFrame'>\n",
      "RangeIndex: 2075259 entries, 0 to 2075258\n",
      "Data columns (total 9 columns):\n",
      " #   Column                 Dtype  \n",
      "---  ------                 -----  \n",
      " 0   Date                   object \n",
      " 1   Time                   object \n",
      " 2   Global_active_power    object \n",
      " 3   Global_reactive_power  object \n",
      " 4   Voltage                object \n",
      " 5   Global_intensity       object \n",
      " 6   Sub_metering_1         object \n",
      " 7   Sub_metering_2         object \n",
      " 8   Sub_metering_3         float64\n",
      "dtypes: float64(1), object(8)\n",
      "memory usage: 142.5+ MB\n"
     ]
    }
   ],
   "source": [
    "data.info()"
   ]
  },
  {
   "cell_type": "code",
   "execution_count": 25,
   "metadata": {},
   "outputs": [],
   "source": [
    "data = data[data.Sub_metering_1 != '?']\n",
    "data = data[data.Sub_metering_2 != '?']\n",
    "data = data[data.Sub_metering_3 != '?']"
   ]
  },
  {
   "cell_type": "code",
   "execution_count": 26,
   "metadata": {},
   "outputs": [],
   "source": [
    "data.index = pd.to_datetime(data['Date'] +' '+ data['Time'])\n",
    "data_clean = data.drop(columns = ['Date', 'Time'])"
   ]
  },
  {
   "cell_type": "code",
   "execution_count": 27,
   "metadata": {},
   "outputs": [
    {
     "name": "stdout",
     "output_type": "stream",
     "text": [
      "<class 'pandas.core.frame.DataFrame'>\n",
      "DatetimeIndex: 2049280 entries, 2006-12-16 17:24:00 to 2010-11-26 21:02:00\n",
      "Data columns (total 7 columns):\n",
      " #   Column                 Dtype  \n",
      "---  ------                 -----  \n",
      " 0   Global_active_power    object \n",
      " 1   Global_reactive_power  object \n",
      " 2   Voltage                object \n",
      " 3   Global_intensity       object \n",
      " 4   Sub_metering_1         object \n",
      " 5   Sub_metering_2         object \n",
      " 6   Sub_metering_3         float64\n",
      "dtypes: float64(1), object(6)\n",
      "memory usage: 125.1+ MB\n"
     ]
    }
   ],
   "source": [
    "data_clean.info()"
   ]
  },
  {
   "cell_type": "code",
   "execution_count": 30,
   "metadata": {},
   "outputs": [
    {
     "data": {
      "text/plain": [
       "<matplotlib.axes._subplots.AxesSubplot at 0x10b126410>"
      ]
     },
     "execution_count": 30,
     "metadata": {},
     "output_type": "execute_result"
    },
    {
     "data": {
      "image/png": "[encoded data removed]",
      "text/plain": [
       "<Figure size 432x288 with 1 Axes>"
      ]
     },
     "metadata": {
      "needs_background": "light"
     },
     "output_type": "display_data"
    }
   ],
   "source": [
    "data_clean.plot('Sub_metering_3')"
   ]
  },
  {
   "cell_type": "code",
   "execution_count": 34,
   "metadata": {},
   "outputs": [],
   "source": [
    "x = data_clean['Sub_metering_3']"
   ]
  },
  {
   "cell_type": "markdown",
   "metadata": {},
   "source": [
    "#### Model"
   ]
  },
  {
   "cell_type": "code",
   "execution_count": 35,
   "metadata": {},
   "outputs": [
    {
     "name": "stdout",
     "output_type": "stream",
     "text": [
      "breakpoint started\n",
      "subsampler started\n",
      "Interval size:  779524\n",
      "Relative sample size:  0.09 %\n",
      "----*----\n",
      "Interval size:  32769\n",
      "Relative sample size:  7.1 %\n",
      "----*----\n",
      "Interval size:  128110\n",
      "Relative sample size:  1.55 %\n",
      "----*----\n",
      "Interval size:  332783\n",
      "Relative sample size:  0.42 %\n",
      "----*----\n",
      "Interval size:  32057\n",
      "Relative sample size:  5.65 %\n",
      "----*----\n",
      "Interval size:  12410\n",
      "Relative sample size:  30.66 %\n",
      "----*----\n",
      "Interval size:  12666\n",
      "Relative sample size:  17.21 %\n",
      "----*----\n",
      "Interval size:  55506\n",
      "Relative sample size:  100%\n",
      "----*----\n",
      "Interval size:  36512\n",
      "Relative sample size:  100%\n",
      "----*----\n",
      "Interval size:  2284\n",
      "Relative sample size:  60.42 %\n",
      "----*----\n",
      "Interval size:  13975\n",
      "Relative sample size:  29.12 %\n",
      "----*----\n",
      "Interval size:  5511\n",
      "Relative sample size:  79.57 %\n",
      "----*----\n",
      "Interval size:  49414\n",
      "Relative sample size:  0.53 %\n",
      "----*----\n",
      "Interval size:  18473\n",
      "Relative sample size:  17.59 %\n",
      "----*----\n",
      "Interval size:  41776\n",
      "Relative sample size:  0.44 %\n",
      "----*----\n",
      "Interval size:  2007\n",
      "Relative sample size:  55.06 %\n",
      "----*----\n",
      "Interval size:  239637\n",
      "Relative sample size:  1.09 %\n",
      "----*----\n",
      "Interval size:  48498\n",
      "Relative sample size:  2.46 %\n",
      "----*----\n",
      "Interval size:  20622\n",
      "Relative sample size:  14.04 %\n",
      "----*----\n",
      "Interval size:  18819\n",
      "Relative sample size:  100%\n",
      "----*----\n",
      "Interval size:  53090\n",
      "Relative sample size:  1.04 %\n",
      "----*----\n",
      "Interval size:  6060\n",
      "Relative sample size:  62.95 %\n",
      "----*----\n"
     ]
    }
   ],
   "source": [
    "#breakpoint detection Threshold = 5, drift = 17.5\n",
    "\n",
    "queue = mp.Queue()\n",
    "p1 = mp.Process(target = detection, args = (x, queue, 5, 17.5, False, False))\n",
    "p2 = mp.Process(target = online_subsampler, args = (0.05,0.01,10,5,x, queue, return_queue,index_queue, 1000))\n",
    "\n",
    "p1.start()\n",
    "p2.start()"
   ]
  },
  {
   "cell_type": "code",
   "execution_count": 36,
   "metadata": {},
   "outputs": [],
   "source": [
    "sub, rel_size = subsample_analysis(return_queue, index_queue)"
   ]
  },
  {
   "cell_type": "code",
   "execution_count": 40,
   "metadata": {},
   "outputs": [
    {
     "data": {
      "text/plain": [
       "[<matplotlib.lines.Line2D at 0x125c0ce90>]"
      ]
     },
     "execution_count": 40,
     "metadata": {},
     "output_type": "execute_result"
    },
    {
     "data": {
      "image/png": "[encoded data removed]",
      "text/plain": [
       "<Figure size 432x288 with 1 Axes>"
      ]
     },
     "metadata": {
      "needs_background": "light"
     },
     "output_type": "display_data"
    }
   ],
   "source": [
    "# Plotting subsample size\n",
    "plt.plot(rel_size, color = 'green')\n",
    "#plt.plot(np.full(2000000,1), color = 'blue')\n",
    "plt.plot(np.full(2000000,max(rel_size)), color='red', linestyle ='--' )\n",
    "#plt.legend(['subsample relative size', 'full sample', 'maximum subsample size'], loc='upper left')"
   ]
  },
  {
   "cell_type": "code",
   "execution_count": 41,
   "metadata": {},
   "outputs": [
    {
     "data": {
      "text/plain": [
       "[<matplotlib.lines.Line2D at 0x10b13dfd0>]"
      ]
     },
     "execution_count": 41,
     "metadata": {},
     "output_type": "execute_result"
    },
    {
     "data": {
      "image/png": "[encoded data removed]",
      "text/plain": [
       "<Figure size 432x288 with 1 Axes>"
      ]
     },
     "metadata": {
      "needs_background": "light"
     },
     "output_type": "display_data"
    }
   ],
   "source": [
    "#plotting mean\n",
    "\n",
    "#plt.plot(real_average)\n",
    "#plt.plot(subsample_eb_mean)\n",
    "plt.plot(sub)"
   ]
  },
  {
   "cell_type": "code",
   "execution_count": null,
   "metadata": {},
   "outputs": [],
   "source": []
  }
 ],
 "metadata": {
  "kernelspec": {
   "display_name": "Python 3",
   "language": "python",
   "name": "python3"
  },
  "language_info": {
   "codemirror_mode": {
    "name": "ipython",
    "version": 3
   },
   "file_extension": ".py",
   "mimetype": "text/x-python",
   "name": "python",
   "nbconvert_exporter": "python",
   "pygments_lexer": "ipython3",
   "version": "3.7.6"
  }
 },
 "nbformat": 4,
 "nbformat_minor": 4
}
